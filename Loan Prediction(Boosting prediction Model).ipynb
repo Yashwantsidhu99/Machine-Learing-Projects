{
 "cells": [
  {
   "cell_type": "code",
   "execution_count": null,
   "id": "f52a0da1",
   "metadata": {},
   "outputs": [],
   "source": [
    "#pip install catboost"
   ]
  },
  {
   "cell_type": "code",
   "execution_count": 72,
   "id": "6ae11cac",
   "metadata": {},
   "outputs": [
    {
     "name": "stdout",
     "output_type": "stream",
     "text": [
      "Collecting lightgbmNote: you may need to restart the kernel to use updated packages.\n",
      "\n",
      "  Downloading lightgbm-3.3.2-py3-none-win_amd64.whl (1.0 MB)\n",
      "Requirement already satisfied: wheel in c:\\users\\yashw\\anaconda3\\lib\\site-packages (from lightgbm) (0.36.2)\n",
      "Requirement already satisfied: numpy in c:\\users\\yashw\\anaconda3\\lib\\site-packages (from lightgbm) (1.20.1)\n",
      "Requirement already satisfied: scikit-learn!=0.22.0 in c:\\users\\yashw\\anaconda3\\lib\\site-packages (from lightgbm) (1.0.2)\n",
      "Requirement already satisfied: scipy in c:\\users\\yashw\\anaconda3\\lib\\site-packages (from lightgbm) (1.8.0)\n",
      "Requirement already satisfied: threadpoolctl>=2.0.0 in c:\\users\\yashw\\anaconda3\\lib\\site-packages (from scikit-learn!=0.22.0->lightgbm) (2.1.0)\n",
      "Requirement already satisfied: joblib>=0.11 in c:\\users\\yashw\\anaconda3\\lib\\site-packages (from scikit-learn!=0.22.0->lightgbm) (1.0.1)\n",
      "Installing collected packages: lightgbm\n",
      "Successfully installed lightgbm-3.3.2\n"
     ]
    }
   ],
   "source": [
    "pip install lightgbm"
   ]
  },
  {
   "cell_type": "code",
   "execution_count": 75,
   "id": "bfe2555f",
   "metadata": {},
   "outputs": [
    {
     "name": "stdout",
     "output_type": "stream",
     "text": [
      "Collecting xgboost\n",
      "  Downloading xgboost-1.6.0-py3-none-win_amd64.whl (126.1 MB)\n",
      "Requirement already satisfied: scipy in c:\\users\\yashw\\anaconda3\\lib\\site-packages (from xgboost) (1.8.0)\n",
      "Requirement already satisfied: numpy in c:\\users\\yashw\\anaconda3\\lib\\site-packages (from xgboost) (1.20.1)\n",
      "Installing collected packages: xgboost\n",
      "Successfully installed xgboost-1.6.0\n",
      "Note: you may need to restart the kernel to use updated packages.\n"
     ]
    }
   ],
   "source": [
    "pip install xgboost"
   ]
  },
  {
   "cell_type": "code",
   "execution_count": 76,
   "id": "b4d09dc0",
   "metadata": {},
   "outputs": [],
   "source": [
    "import pandas as pd\n",
    "import numpy as np\n",
    "import scipy.stats as stats\n",
    "from datetime import datetime\n",
    "from statsmodels.stats.outliers_influence import variance_inflation_factor as vif\n",
    "import seaborn as sns\n",
    "import matplotlib.pyplot as plt\n",
    "from collections import Counter\n",
    "from sklearn.metrics import mean_squared_error,mean_absolute_error\n",
    "from sklearn.metrics import mean_absolute_percentage_error\n",
    "from sklearn.preprocessing import StandardScaler\n",
    "from sklearn.linear_model import Ridge,Lasso,RidgeCV,LassoCV,ElasticNet,ElasticNetCV,LinearRegression\n",
    "from sklearn.model_selection import train_test_split,GridSearchCV\n",
    "sns.set()\n",
    "import pylab\n",
    "from sklearn.tree import DecisionTreeClassifier,export_graphviz\n",
    "from IPython.display import Image\n",
    "from sklearn.metrics import accuracy_score, confusion_matrix,roc_curve,roc_auc_score\n",
    "from sklearn.metrics import f1_score as f1\n",
    "from sklearn import tree\n",
    "from sklearn.ensemble import BaggingClassifier\n",
    "from sklearn.ensemble import RandomForestClassifier,RandomForestRegressor\n",
    "from sklearn.neighbors import KNeighborsClassifier\n",
    "from sklearn.ensemble import AdaBoostClassifier,GradientBoostingClassifier\n",
    "from catboost import CatBoostClassifier\n",
    "from lightgbm import LGBMClassifier\n",
    "from xgboost import XGBClassifier"
   ]
  },
  {
   "cell_type": "code",
   "execution_count": 11,
   "id": "6ff311a4",
   "metadata": {},
   "outputs": [],
   "source": [
    "df=pd.read_csv(\"E:\\\\datasets\\\\Loan Prediction on costumer Behavior\\\\Training Data.csv\")"
   ]
  },
  {
   "cell_type": "code",
   "execution_count": 12,
   "id": "e683c9c7",
   "metadata": {},
   "outputs": [
    {
     "data": {
      "text/html": [
       "<div>\n",
       "<style scoped>\n",
       "    .dataframe tbody tr th:only-of-type {\n",
       "        vertical-align: middle;\n",
       "    }\n",
       "\n",
       "    .dataframe tbody tr th {\n",
       "        vertical-align: top;\n",
       "    }\n",
       "\n",
       "    .dataframe thead th {\n",
       "        text-align: right;\n",
       "    }\n",
       "</style>\n",
       "<table border=\"1\" class=\"dataframe\">\n",
       "  <thead>\n",
       "    <tr style=\"text-align: right;\">\n",
       "      <th></th>\n",
       "      <th>Id</th>\n",
       "      <th>Income</th>\n",
       "      <th>Age</th>\n",
       "      <th>Experience</th>\n",
       "      <th>Married/Single</th>\n",
       "      <th>House_Ownership</th>\n",
       "      <th>Car_Ownership</th>\n",
       "      <th>Profession</th>\n",
       "      <th>CITY</th>\n",
       "      <th>STATE</th>\n",
       "      <th>CURRENT_JOB_YRS</th>\n",
       "      <th>CURRENT_HOUSE_YRS</th>\n",
       "      <th>Risk_Flag</th>\n",
       "    </tr>\n",
       "  </thead>\n",
       "  <tbody>\n",
       "    <tr>\n",
       "      <th>0</th>\n",
       "      <td>1</td>\n",
       "      <td>1303834</td>\n",
       "      <td>23</td>\n",
       "      <td>3</td>\n",
       "      <td>single</td>\n",
       "      <td>rented</td>\n",
       "      <td>no</td>\n",
       "      <td>Mechanical_engineer</td>\n",
       "      <td>Rewa</td>\n",
       "      <td>Madhya_Pradesh</td>\n",
       "      <td>3</td>\n",
       "      <td>13</td>\n",
       "      <td>0</td>\n",
       "    </tr>\n",
       "    <tr>\n",
       "      <th>1</th>\n",
       "      <td>2</td>\n",
       "      <td>7574516</td>\n",
       "      <td>40</td>\n",
       "      <td>10</td>\n",
       "      <td>single</td>\n",
       "      <td>rented</td>\n",
       "      <td>no</td>\n",
       "      <td>Software_Developer</td>\n",
       "      <td>Parbhani</td>\n",
       "      <td>Maharashtra</td>\n",
       "      <td>9</td>\n",
       "      <td>13</td>\n",
       "      <td>0</td>\n",
       "    </tr>\n",
       "    <tr>\n",
       "      <th>2</th>\n",
       "      <td>3</td>\n",
       "      <td>3991815</td>\n",
       "      <td>66</td>\n",
       "      <td>4</td>\n",
       "      <td>married</td>\n",
       "      <td>rented</td>\n",
       "      <td>no</td>\n",
       "      <td>Technical_writer</td>\n",
       "      <td>Alappuzha</td>\n",
       "      <td>Kerala</td>\n",
       "      <td>4</td>\n",
       "      <td>10</td>\n",
       "      <td>0</td>\n",
       "    </tr>\n",
       "    <tr>\n",
       "      <th>3</th>\n",
       "      <td>4</td>\n",
       "      <td>6256451</td>\n",
       "      <td>41</td>\n",
       "      <td>2</td>\n",
       "      <td>single</td>\n",
       "      <td>rented</td>\n",
       "      <td>yes</td>\n",
       "      <td>Software_Developer</td>\n",
       "      <td>Bhubaneswar</td>\n",
       "      <td>Odisha</td>\n",
       "      <td>2</td>\n",
       "      <td>12</td>\n",
       "      <td>1</td>\n",
       "    </tr>\n",
       "    <tr>\n",
       "      <th>4</th>\n",
       "      <td>5</td>\n",
       "      <td>5768871</td>\n",
       "      <td>47</td>\n",
       "      <td>11</td>\n",
       "      <td>single</td>\n",
       "      <td>rented</td>\n",
       "      <td>no</td>\n",
       "      <td>Civil_servant</td>\n",
       "      <td>Tiruchirappalli[10]</td>\n",
       "      <td>Tamil_Nadu</td>\n",
       "      <td>3</td>\n",
       "      <td>14</td>\n",
       "      <td>1</td>\n",
       "    </tr>\n",
       "    <tr>\n",
       "      <th>...</th>\n",
       "      <td>...</td>\n",
       "      <td>...</td>\n",
       "      <td>...</td>\n",
       "      <td>...</td>\n",
       "      <td>...</td>\n",
       "      <td>...</td>\n",
       "      <td>...</td>\n",
       "      <td>...</td>\n",
       "      <td>...</td>\n",
       "      <td>...</td>\n",
       "      <td>...</td>\n",
       "      <td>...</td>\n",
       "      <td>...</td>\n",
       "    </tr>\n",
       "    <tr>\n",
       "      <th>251995</th>\n",
       "      <td>251996</td>\n",
       "      <td>8154883</td>\n",
       "      <td>43</td>\n",
       "      <td>13</td>\n",
       "      <td>single</td>\n",
       "      <td>rented</td>\n",
       "      <td>no</td>\n",
       "      <td>Surgeon</td>\n",
       "      <td>Kolkata</td>\n",
       "      <td>West_Bengal</td>\n",
       "      <td>6</td>\n",
       "      <td>11</td>\n",
       "      <td>0</td>\n",
       "    </tr>\n",
       "    <tr>\n",
       "      <th>251996</th>\n",
       "      <td>251997</td>\n",
       "      <td>2843572</td>\n",
       "      <td>26</td>\n",
       "      <td>10</td>\n",
       "      <td>single</td>\n",
       "      <td>rented</td>\n",
       "      <td>no</td>\n",
       "      <td>Army_officer</td>\n",
       "      <td>Rewa</td>\n",
       "      <td>Madhya_Pradesh</td>\n",
       "      <td>6</td>\n",
       "      <td>11</td>\n",
       "      <td>0</td>\n",
       "    </tr>\n",
       "    <tr>\n",
       "      <th>251997</th>\n",
       "      <td>251998</td>\n",
       "      <td>4522448</td>\n",
       "      <td>46</td>\n",
       "      <td>7</td>\n",
       "      <td>single</td>\n",
       "      <td>rented</td>\n",
       "      <td>no</td>\n",
       "      <td>Design_Engineer</td>\n",
       "      <td>Kalyan-Dombivli</td>\n",
       "      <td>Maharashtra</td>\n",
       "      <td>7</td>\n",
       "      <td>12</td>\n",
       "      <td>0</td>\n",
       "    </tr>\n",
       "    <tr>\n",
       "      <th>251998</th>\n",
       "      <td>251999</td>\n",
       "      <td>6507128</td>\n",
       "      <td>45</td>\n",
       "      <td>0</td>\n",
       "      <td>single</td>\n",
       "      <td>rented</td>\n",
       "      <td>no</td>\n",
       "      <td>Graphic_Designer</td>\n",
       "      <td>Pondicherry</td>\n",
       "      <td>Puducherry</td>\n",
       "      <td>0</td>\n",
       "      <td>10</td>\n",
       "      <td>0</td>\n",
       "    </tr>\n",
       "    <tr>\n",
       "      <th>251999</th>\n",
       "      <td>252000</td>\n",
       "      <td>9070230</td>\n",
       "      <td>70</td>\n",
       "      <td>17</td>\n",
       "      <td>single</td>\n",
       "      <td>rented</td>\n",
       "      <td>no</td>\n",
       "      <td>Statistician</td>\n",
       "      <td>Avadi</td>\n",
       "      <td>Tamil_Nadu</td>\n",
       "      <td>7</td>\n",
       "      <td>11</td>\n",
       "      <td>0</td>\n",
       "    </tr>\n",
       "  </tbody>\n",
       "</table>\n",
       "<p>252000 rows × 13 columns</p>\n",
       "</div>"
      ],
      "text/plain": [
       "            Id   Income  Age  Experience Married/Single House_Ownership  \\\n",
       "0            1  1303834   23           3         single          rented   \n",
       "1            2  7574516   40          10         single          rented   \n",
       "2            3  3991815   66           4        married          rented   \n",
       "3            4  6256451   41           2         single          rented   \n",
       "4            5  5768871   47          11         single          rented   \n",
       "...        ...      ...  ...         ...            ...             ...   \n",
       "251995  251996  8154883   43          13         single          rented   \n",
       "251996  251997  2843572   26          10         single          rented   \n",
       "251997  251998  4522448   46           7         single          rented   \n",
       "251998  251999  6507128   45           0         single          rented   \n",
       "251999  252000  9070230   70          17         single          rented   \n",
       "\n",
       "       Car_Ownership           Profession                 CITY  \\\n",
       "0                 no  Mechanical_engineer                 Rewa   \n",
       "1                 no   Software_Developer             Parbhani   \n",
       "2                 no     Technical_writer            Alappuzha   \n",
       "3                yes   Software_Developer          Bhubaneswar   \n",
       "4                 no        Civil_servant  Tiruchirappalli[10]   \n",
       "...              ...                  ...                  ...   \n",
       "251995            no              Surgeon              Kolkata   \n",
       "251996            no         Army_officer                 Rewa   \n",
       "251997            no      Design_Engineer      Kalyan-Dombivli   \n",
       "251998            no     Graphic_Designer          Pondicherry   \n",
       "251999            no         Statistician                Avadi   \n",
       "\n",
       "                 STATE  CURRENT_JOB_YRS  CURRENT_HOUSE_YRS  Risk_Flag  \n",
       "0       Madhya_Pradesh                3                 13          0  \n",
       "1          Maharashtra                9                 13          0  \n",
       "2               Kerala                4                 10          0  \n",
       "3               Odisha                2                 12          1  \n",
       "4           Tamil_Nadu                3                 14          1  \n",
       "...                ...              ...                ...        ...  \n",
       "251995     West_Bengal                6                 11          0  \n",
       "251996  Madhya_Pradesh                6                 11          0  \n",
       "251997     Maharashtra                7                 12          0  \n",
       "251998      Puducherry                0                 10          0  \n",
       "251999      Tamil_Nadu                7                 11          0  \n",
       "\n",
       "[252000 rows x 13 columns]"
      ]
     },
     "execution_count": 12,
     "metadata": {},
     "output_type": "execute_result"
    }
   ],
   "source": [
    "df"
   ]
  },
  {
   "cell_type": "code",
   "execution_count": 13,
   "id": "cdcc9196",
   "metadata": {},
   "outputs": [
    {
     "data": {
      "text/plain": [
       "Id                   0\n",
       "Income               0\n",
       "Age                  0\n",
       "Experience           0\n",
       "Married/Single       0\n",
       "House_Ownership      0\n",
       "Car_Ownership        0\n",
       "Profession           0\n",
       "CITY                 0\n",
       "STATE                0\n",
       "CURRENT_JOB_YRS      0\n",
       "CURRENT_HOUSE_YRS    0\n",
       "Risk_Flag            0\n",
       "dtype: int64"
      ]
     },
     "execution_count": 13,
     "metadata": {},
     "output_type": "execute_result"
    }
   ],
   "source": [
    "df.isnull().sum()"
   ]
  },
  {
   "cell_type": "code",
   "execution_count": 14,
   "id": "46a87086",
   "metadata": {},
   "outputs": [
    {
     "name": "stdout",
     "output_type": "stream",
     "text": [
      "<class 'pandas.core.frame.DataFrame'>\n",
      "RangeIndex: 252000 entries, 0 to 251999\n",
      "Data columns (total 13 columns):\n",
      " #   Column             Non-Null Count   Dtype \n",
      "---  ------             --------------   ----- \n",
      " 0   Id                 252000 non-null  int64 \n",
      " 1   Income             252000 non-null  int64 \n",
      " 2   Age                252000 non-null  int64 \n",
      " 3   Experience         252000 non-null  int64 \n",
      " 4   Married/Single     252000 non-null  object\n",
      " 5   House_Ownership    252000 non-null  object\n",
      " 6   Car_Ownership      252000 non-null  object\n",
      " 7   Profession         252000 non-null  object\n",
      " 8   CITY               252000 non-null  object\n",
      " 9   STATE              252000 non-null  object\n",
      " 10  CURRENT_JOB_YRS    252000 non-null  int64 \n",
      " 11  CURRENT_HOUSE_YRS  252000 non-null  int64 \n",
      " 12  Risk_Flag          252000 non-null  int64 \n",
      "dtypes: int64(7), object(6)\n",
      "memory usage: 25.0+ MB\n"
     ]
    }
   ],
   "source": [
    "df.info()"
   ]
  },
  {
   "cell_type": "code",
   "execution_count": 15,
   "id": "e418dea3",
   "metadata": {},
   "outputs": [],
   "source": [
    "df=df.drop(columns=['Id','CITY','STATE'])"
   ]
  },
  {
   "cell_type": "code",
   "execution_count": 16,
   "id": "f4f966e0",
   "metadata": {},
   "outputs": [
    {
     "data": {
      "text/html": [
       "<div>\n",
       "<style scoped>\n",
       "    .dataframe tbody tr th:only-of-type {\n",
       "        vertical-align: middle;\n",
       "    }\n",
       "\n",
       "    .dataframe tbody tr th {\n",
       "        vertical-align: top;\n",
       "    }\n",
       "\n",
       "    .dataframe thead th {\n",
       "        text-align: right;\n",
       "    }\n",
       "</style>\n",
       "<table border=\"1\" class=\"dataframe\">\n",
       "  <thead>\n",
       "    <tr style=\"text-align: right;\">\n",
       "      <th></th>\n",
       "      <th>Income</th>\n",
       "      <th>Age</th>\n",
       "      <th>Experience</th>\n",
       "      <th>Married/Single</th>\n",
       "      <th>House_Ownership</th>\n",
       "      <th>Car_Ownership</th>\n",
       "      <th>Profession</th>\n",
       "      <th>CURRENT_JOB_YRS</th>\n",
       "      <th>CURRENT_HOUSE_YRS</th>\n",
       "      <th>Risk_Flag</th>\n",
       "    </tr>\n",
       "  </thead>\n",
       "  <tbody>\n",
       "    <tr>\n",
       "      <th>0</th>\n",
       "      <td>1303834</td>\n",
       "      <td>23</td>\n",
       "      <td>3</td>\n",
       "      <td>single</td>\n",
       "      <td>rented</td>\n",
       "      <td>no</td>\n",
       "      <td>Mechanical_engineer</td>\n",
       "      <td>3</td>\n",
       "      <td>13</td>\n",
       "      <td>0</td>\n",
       "    </tr>\n",
       "    <tr>\n",
       "      <th>1</th>\n",
       "      <td>7574516</td>\n",
       "      <td>40</td>\n",
       "      <td>10</td>\n",
       "      <td>single</td>\n",
       "      <td>rented</td>\n",
       "      <td>no</td>\n",
       "      <td>Software_Developer</td>\n",
       "      <td>9</td>\n",
       "      <td>13</td>\n",
       "      <td>0</td>\n",
       "    </tr>\n",
       "    <tr>\n",
       "      <th>2</th>\n",
       "      <td>3991815</td>\n",
       "      <td>66</td>\n",
       "      <td>4</td>\n",
       "      <td>married</td>\n",
       "      <td>rented</td>\n",
       "      <td>no</td>\n",
       "      <td>Technical_writer</td>\n",
       "      <td>4</td>\n",
       "      <td>10</td>\n",
       "      <td>0</td>\n",
       "    </tr>\n",
       "    <tr>\n",
       "      <th>3</th>\n",
       "      <td>6256451</td>\n",
       "      <td>41</td>\n",
       "      <td>2</td>\n",
       "      <td>single</td>\n",
       "      <td>rented</td>\n",
       "      <td>yes</td>\n",
       "      <td>Software_Developer</td>\n",
       "      <td>2</td>\n",
       "      <td>12</td>\n",
       "      <td>1</td>\n",
       "    </tr>\n",
       "    <tr>\n",
       "      <th>4</th>\n",
       "      <td>5768871</td>\n",
       "      <td>47</td>\n",
       "      <td>11</td>\n",
       "      <td>single</td>\n",
       "      <td>rented</td>\n",
       "      <td>no</td>\n",
       "      <td>Civil_servant</td>\n",
       "      <td>3</td>\n",
       "      <td>14</td>\n",
       "      <td>1</td>\n",
       "    </tr>\n",
       "    <tr>\n",
       "      <th>...</th>\n",
       "      <td>...</td>\n",
       "      <td>...</td>\n",
       "      <td>...</td>\n",
       "      <td>...</td>\n",
       "      <td>...</td>\n",
       "      <td>...</td>\n",
       "      <td>...</td>\n",
       "      <td>...</td>\n",
       "      <td>...</td>\n",
       "      <td>...</td>\n",
       "    </tr>\n",
       "    <tr>\n",
       "      <th>251995</th>\n",
       "      <td>8154883</td>\n",
       "      <td>43</td>\n",
       "      <td>13</td>\n",
       "      <td>single</td>\n",
       "      <td>rented</td>\n",
       "      <td>no</td>\n",
       "      <td>Surgeon</td>\n",
       "      <td>6</td>\n",
       "      <td>11</td>\n",
       "      <td>0</td>\n",
       "    </tr>\n",
       "    <tr>\n",
       "      <th>251996</th>\n",
       "      <td>2843572</td>\n",
       "      <td>26</td>\n",
       "      <td>10</td>\n",
       "      <td>single</td>\n",
       "      <td>rented</td>\n",
       "      <td>no</td>\n",
       "      <td>Army_officer</td>\n",
       "      <td>6</td>\n",
       "      <td>11</td>\n",
       "      <td>0</td>\n",
       "    </tr>\n",
       "    <tr>\n",
       "      <th>251997</th>\n",
       "      <td>4522448</td>\n",
       "      <td>46</td>\n",
       "      <td>7</td>\n",
       "      <td>single</td>\n",
       "      <td>rented</td>\n",
       "      <td>no</td>\n",
       "      <td>Design_Engineer</td>\n",
       "      <td>7</td>\n",
       "      <td>12</td>\n",
       "      <td>0</td>\n",
       "    </tr>\n",
       "    <tr>\n",
       "      <th>251998</th>\n",
       "      <td>6507128</td>\n",
       "      <td>45</td>\n",
       "      <td>0</td>\n",
       "      <td>single</td>\n",
       "      <td>rented</td>\n",
       "      <td>no</td>\n",
       "      <td>Graphic_Designer</td>\n",
       "      <td>0</td>\n",
       "      <td>10</td>\n",
       "      <td>0</td>\n",
       "    </tr>\n",
       "    <tr>\n",
       "      <th>251999</th>\n",
       "      <td>9070230</td>\n",
       "      <td>70</td>\n",
       "      <td>17</td>\n",
       "      <td>single</td>\n",
       "      <td>rented</td>\n",
       "      <td>no</td>\n",
       "      <td>Statistician</td>\n",
       "      <td>7</td>\n",
       "      <td>11</td>\n",
       "      <td>0</td>\n",
       "    </tr>\n",
       "  </tbody>\n",
       "</table>\n",
       "<p>252000 rows × 10 columns</p>\n",
       "</div>"
      ],
      "text/plain": [
       "         Income  Age  Experience Married/Single House_Ownership Car_Ownership  \\\n",
       "0       1303834   23           3         single          rented            no   \n",
       "1       7574516   40          10         single          rented            no   \n",
       "2       3991815   66           4        married          rented            no   \n",
       "3       6256451   41           2         single          rented           yes   \n",
       "4       5768871   47          11         single          rented            no   \n",
       "...         ...  ...         ...            ...             ...           ...   \n",
       "251995  8154883   43          13         single          rented            no   \n",
       "251996  2843572   26          10         single          rented            no   \n",
       "251997  4522448   46           7         single          rented            no   \n",
       "251998  6507128   45           0         single          rented            no   \n",
       "251999  9070230   70          17         single          rented            no   \n",
       "\n",
       "                 Profession  CURRENT_JOB_YRS  CURRENT_HOUSE_YRS  Risk_Flag  \n",
       "0       Mechanical_engineer                3                 13          0  \n",
       "1        Software_Developer                9                 13          0  \n",
       "2          Technical_writer                4                 10          0  \n",
       "3        Software_Developer                2                 12          1  \n",
       "4             Civil_servant                3                 14          1  \n",
       "...                     ...              ...                ...        ...  \n",
       "251995              Surgeon                6                 11          0  \n",
       "251996         Army_officer                6                 11          0  \n",
       "251997      Design_Engineer                7                 12          0  \n",
       "251998     Graphic_Designer                0                 10          0  \n",
       "251999         Statistician                7                 11          0  \n",
       "\n",
       "[252000 rows x 10 columns]"
      ]
     },
     "execution_count": 16,
     "metadata": {},
     "output_type": "execute_result"
    }
   ],
   "source": [
    "df"
   ]
  },
  {
   "cell_type": "code",
   "execution_count": 18,
   "id": "9dd780b4",
   "metadata": {},
   "outputs": [],
   "source": [
    "df['Married/Single']=df['Married/Single'].replace({'single':0,'married':1})"
   ]
  },
  {
   "cell_type": "code",
   "execution_count": 21,
   "id": "f8e0f516",
   "metadata": {},
   "outputs": [
    {
     "data": {
      "text/plain": [
       "rented          231898\n",
       "owned            12918\n",
       "norent_noown      7184\n",
       "Name: House_Ownership, dtype: int64"
      ]
     },
     "execution_count": 21,
     "metadata": {},
     "output_type": "execute_result"
    }
   ],
   "source": [
    "df['House_Ownership'].value_counts()"
   ]
  },
  {
   "cell_type": "code",
   "execution_count": 23,
   "id": "7a2b40ef",
   "metadata": {},
   "outputs": [],
   "source": [
    "df['House_Ownership']=df['House_Ownership'].replace({'rented':0,'owned':1,'norent_noown':2})"
   ]
  },
  {
   "cell_type": "code",
   "execution_count": 27,
   "id": "a8340c3b",
   "metadata": {},
   "outputs": [
    {
     "data": {
      "text/plain": [
       "no     176000\n",
       "yes     76000\n",
       "Name: Car_Ownership, dtype: int64"
      ]
     },
     "execution_count": 27,
     "metadata": {},
     "output_type": "execute_result"
    }
   ],
   "source": [
    "df['Car_Ownership'].value_counts()"
   ]
  },
  {
   "cell_type": "code",
   "execution_count": 28,
   "id": "6f363edc",
   "metadata": {},
   "outputs": [],
   "source": [
    "df['Car_Ownership']=df['Car_Ownership'].replace({'no':0,'yes':1})"
   ]
  },
  {
   "cell_type": "code",
   "execution_count": 30,
   "id": "12628006",
   "metadata": {},
   "outputs": [],
   "source": [
    "df=pd.get_dummies(df,columns=['Profession'])"
   ]
  },
  {
   "cell_type": "code",
   "execution_count": 31,
   "id": "3bfb93fb",
   "metadata": {},
   "outputs": [
    {
     "data": {
      "text/html": [
       "<div>\n",
       "<style scoped>\n",
       "    .dataframe tbody tr th:only-of-type {\n",
       "        vertical-align: middle;\n",
       "    }\n",
       "\n",
       "    .dataframe tbody tr th {\n",
       "        vertical-align: top;\n",
       "    }\n",
       "\n",
       "    .dataframe thead th {\n",
       "        text-align: right;\n",
       "    }\n",
       "</style>\n",
       "<table border=\"1\" class=\"dataframe\">\n",
       "  <thead>\n",
       "    <tr style=\"text-align: right;\">\n",
       "      <th></th>\n",
       "      <th>Income</th>\n",
       "      <th>Age</th>\n",
       "      <th>Experience</th>\n",
       "      <th>Married/Single</th>\n",
       "      <th>House_Ownership</th>\n",
       "      <th>Car_Ownership</th>\n",
       "      <th>CURRENT_JOB_YRS</th>\n",
       "      <th>CURRENT_HOUSE_YRS</th>\n",
       "      <th>Risk_Flag</th>\n",
       "      <th>Profession_Air_traffic_controller</th>\n",
       "      <th>...</th>\n",
       "      <th>Profession_Scientist</th>\n",
       "      <th>Profession_Secretary</th>\n",
       "      <th>Profession_Software_Developer</th>\n",
       "      <th>Profession_Statistician</th>\n",
       "      <th>Profession_Surgeon</th>\n",
       "      <th>Profession_Surveyor</th>\n",
       "      <th>Profession_Technical_writer</th>\n",
       "      <th>Profession_Technician</th>\n",
       "      <th>Profession_Technology_specialist</th>\n",
       "      <th>Profession_Web_designer</th>\n",
       "    </tr>\n",
       "  </thead>\n",
       "  <tbody>\n",
       "    <tr>\n",
       "      <th>0</th>\n",
       "      <td>1303834</td>\n",
       "      <td>23</td>\n",
       "      <td>3</td>\n",
       "      <td>0</td>\n",
       "      <td>0</td>\n",
       "      <td>0</td>\n",
       "      <td>3</td>\n",
       "      <td>13</td>\n",
       "      <td>0</td>\n",
       "      <td>0</td>\n",
       "      <td>...</td>\n",
       "      <td>0</td>\n",
       "      <td>0</td>\n",
       "      <td>0</td>\n",
       "      <td>0</td>\n",
       "      <td>0</td>\n",
       "      <td>0</td>\n",
       "      <td>0</td>\n",
       "      <td>0</td>\n",
       "      <td>0</td>\n",
       "      <td>0</td>\n",
       "    </tr>\n",
       "    <tr>\n",
       "      <th>1</th>\n",
       "      <td>7574516</td>\n",
       "      <td>40</td>\n",
       "      <td>10</td>\n",
       "      <td>0</td>\n",
       "      <td>0</td>\n",
       "      <td>0</td>\n",
       "      <td>9</td>\n",
       "      <td>13</td>\n",
       "      <td>0</td>\n",
       "      <td>0</td>\n",
       "      <td>...</td>\n",
       "      <td>0</td>\n",
       "      <td>0</td>\n",
       "      <td>1</td>\n",
       "      <td>0</td>\n",
       "      <td>0</td>\n",
       "      <td>0</td>\n",
       "      <td>0</td>\n",
       "      <td>0</td>\n",
       "      <td>0</td>\n",
       "      <td>0</td>\n",
       "    </tr>\n",
       "    <tr>\n",
       "      <th>2</th>\n",
       "      <td>3991815</td>\n",
       "      <td>66</td>\n",
       "      <td>4</td>\n",
       "      <td>1</td>\n",
       "      <td>0</td>\n",
       "      <td>0</td>\n",
       "      <td>4</td>\n",
       "      <td>10</td>\n",
       "      <td>0</td>\n",
       "      <td>0</td>\n",
       "      <td>...</td>\n",
       "      <td>0</td>\n",
       "      <td>0</td>\n",
       "      <td>0</td>\n",
       "      <td>0</td>\n",
       "      <td>0</td>\n",
       "      <td>0</td>\n",
       "      <td>1</td>\n",
       "      <td>0</td>\n",
       "      <td>0</td>\n",
       "      <td>0</td>\n",
       "    </tr>\n",
       "    <tr>\n",
       "      <th>3</th>\n",
       "      <td>6256451</td>\n",
       "      <td>41</td>\n",
       "      <td>2</td>\n",
       "      <td>0</td>\n",
       "      <td>0</td>\n",
       "      <td>1</td>\n",
       "      <td>2</td>\n",
       "      <td>12</td>\n",
       "      <td>1</td>\n",
       "      <td>0</td>\n",
       "      <td>...</td>\n",
       "      <td>0</td>\n",
       "      <td>0</td>\n",
       "      <td>1</td>\n",
       "      <td>0</td>\n",
       "      <td>0</td>\n",
       "      <td>0</td>\n",
       "      <td>0</td>\n",
       "      <td>0</td>\n",
       "      <td>0</td>\n",
       "      <td>0</td>\n",
       "    </tr>\n",
       "    <tr>\n",
       "      <th>4</th>\n",
       "      <td>5768871</td>\n",
       "      <td>47</td>\n",
       "      <td>11</td>\n",
       "      <td>0</td>\n",
       "      <td>0</td>\n",
       "      <td>0</td>\n",
       "      <td>3</td>\n",
       "      <td>14</td>\n",
       "      <td>1</td>\n",
       "      <td>0</td>\n",
       "      <td>...</td>\n",
       "      <td>0</td>\n",
       "      <td>0</td>\n",
       "      <td>0</td>\n",
       "      <td>0</td>\n",
       "      <td>0</td>\n",
       "      <td>0</td>\n",
       "      <td>0</td>\n",
       "      <td>0</td>\n",
       "      <td>0</td>\n",
       "      <td>0</td>\n",
       "    </tr>\n",
       "    <tr>\n",
       "      <th>...</th>\n",
       "      <td>...</td>\n",
       "      <td>...</td>\n",
       "      <td>...</td>\n",
       "      <td>...</td>\n",
       "      <td>...</td>\n",
       "      <td>...</td>\n",
       "      <td>...</td>\n",
       "      <td>...</td>\n",
       "      <td>...</td>\n",
       "      <td>...</td>\n",
       "      <td>...</td>\n",
       "      <td>...</td>\n",
       "      <td>...</td>\n",
       "      <td>...</td>\n",
       "      <td>...</td>\n",
       "      <td>...</td>\n",
       "      <td>...</td>\n",
       "      <td>...</td>\n",
       "      <td>...</td>\n",
       "      <td>...</td>\n",
       "      <td>...</td>\n",
       "    </tr>\n",
       "    <tr>\n",
       "      <th>251995</th>\n",
       "      <td>8154883</td>\n",
       "      <td>43</td>\n",
       "      <td>13</td>\n",
       "      <td>0</td>\n",
       "      <td>0</td>\n",
       "      <td>0</td>\n",
       "      <td>6</td>\n",
       "      <td>11</td>\n",
       "      <td>0</td>\n",
       "      <td>0</td>\n",
       "      <td>...</td>\n",
       "      <td>0</td>\n",
       "      <td>0</td>\n",
       "      <td>0</td>\n",
       "      <td>0</td>\n",
       "      <td>1</td>\n",
       "      <td>0</td>\n",
       "      <td>0</td>\n",
       "      <td>0</td>\n",
       "      <td>0</td>\n",
       "      <td>0</td>\n",
       "    </tr>\n",
       "    <tr>\n",
       "      <th>251996</th>\n",
       "      <td>2843572</td>\n",
       "      <td>26</td>\n",
       "      <td>10</td>\n",
       "      <td>0</td>\n",
       "      <td>0</td>\n",
       "      <td>0</td>\n",
       "      <td>6</td>\n",
       "      <td>11</td>\n",
       "      <td>0</td>\n",
       "      <td>0</td>\n",
       "      <td>...</td>\n",
       "      <td>0</td>\n",
       "      <td>0</td>\n",
       "      <td>0</td>\n",
       "      <td>0</td>\n",
       "      <td>0</td>\n",
       "      <td>0</td>\n",
       "      <td>0</td>\n",
       "      <td>0</td>\n",
       "      <td>0</td>\n",
       "      <td>0</td>\n",
       "    </tr>\n",
       "    <tr>\n",
       "      <th>251997</th>\n",
       "      <td>4522448</td>\n",
       "      <td>46</td>\n",
       "      <td>7</td>\n",
       "      <td>0</td>\n",
       "      <td>0</td>\n",
       "      <td>0</td>\n",
       "      <td>7</td>\n",
       "      <td>12</td>\n",
       "      <td>0</td>\n",
       "      <td>0</td>\n",
       "      <td>...</td>\n",
       "      <td>0</td>\n",
       "      <td>0</td>\n",
       "      <td>0</td>\n",
       "      <td>0</td>\n",
       "      <td>0</td>\n",
       "      <td>0</td>\n",
       "      <td>0</td>\n",
       "      <td>0</td>\n",
       "      <td>0</td>\n",
       "      <td>0</td>\n",
       "    </tr>\n",
       "    <tr>\n",
       "      <th>251998</th>\n",
       "      <td>6507128</td>\n",
       "      <td>45</td>\n",
       "      <td>0</td>\n",
       "      <td>0</td>\n",
       "      <td>0</td>\n",
       "      <td>0</td>\n",
       "      <td>0</td>\n",
       "      <td>10</td>\n",
       "      <td>0</td>\n",
       "      <td>0</td>\n",
       "      <td>...</td>\n",
       "      <td>0</td>\n",
       "      <td>0</td>\n",
       "      <td>0</td>\n",
       "      <td>0</td>\n",
       "      <td>0</td>\n",
       "      <td>0</td>\n",
       "      <td>0</td>\n",
       "      <td>0</td>\n",
       "      <td>0</td>\n",
       "      <td>0</td>\n",
       "    </tr>\n",
       "    <tr>\n",
       "      <th>251999</th>\n",
       "      <td>9070230</td>\n",
       "      <td>70</td>\n",
       "      <td>17</td>\n",
       "      <td>0</td>\n",
       "      <td>0</td>\n",
       "      <td>0</td>\n",
       "      <td>7</td>\n",
       "      <td>11</td>\n",
       "      <td>0</td>\n",
       "      <td>0</td>\n",
       "      <td>...</td>\n",
       "      <td>0</td>\n",
       "      <td>0</td>\n",
       "      <td>0</td>\n",
       "      <td>1</td>\n",
       "      <td>0</td>\n",
       "      <td>0</td>\n",
       "      <td>0</td>\n",
       "      <td>0</td>\n",
       "      <td>0</td>\n",
       "      <td>0</td>\n",
       "    </tr>\n",
       "  </tbody>\n",
       "</table>\n",
       "<p>252000 rows × 60 columns</p>\n",
       "</div>"
      ],
      "text/plain": [
       "         Income  Age  Experience  Married/Single  House_Ownership  \\\n",
       "0       1303834   23           3               0                0   \n",
       "1       7574516   40          10               0                0   \n",
       "2       3991815   66           4               1                0   \n",
       "3       6256451   41           2               0                0   \n",
       "4       5768871   47          11               0                0   \n",
       "...         ...  ...         ...             ...              ...   \n",
       "251995  8154883   43          13               0                0   \n",
       "251996  2843572   26          10               0                0   \n",
       "251997  4522448   46           7               0                0   \n",
       "251998  6507128   45           0               0                0   \n",
       "251999  9070230   70          17               0                0   \n",
       "\n",
       "        Car_Ownership  CURRENT_JOB_YRS  CURRENT_HOUSE_YRS  Risk_Flag  \\\n",
       "0                   0                3                 13          0   \n",
       "1                   0                9                 13          0   \n",
       "2                   0                4                 10          0   \n",
       "3                   1                2                 12          1   \n",
       "4                   0                3                 14          1   \n",
       "...               ...              ...                ...        ...   \n",
       "251995              0                6                 11          0   \n",
       "251996              0                6                 11          0   \n",
       "251997              0                7                 12          0   \n",
       "251998              0                0                 10          0   \n",
       "251999              0                7                 11          0   \n",
       "\n",
       "        Profession_Air_traffic_controller  ...  Profession_Scientist  \\\n",
       "0                                       0  ...                     0   \n",
       "1                                       0  ...                     0   \n",
       "2                                       0  ...                     0   \n",
       "3                                       0  ...                     0   \n",
       "4                                       0  ...                     0   \n",
       "...                                   ...  ...                   ...   \n",
       "251995                                  0  ...                     0   \n",
       "251996                                  0  ...                     0   \n",
       "251997                                  0  ...                     0   \n",
       "251998                                  0  ...                     0   \n",
       "251999                                  0  ...                     0   \n",
       "\n",
       "        Profession_Secretary  Profession_Software_Developer  \\\n",
       "0                          0                              0   \n",
       "1                          0                              1   \n",
       "2                          0                              0   \n",
       "3                          0                              1   \n",
       "4                          0                              0   \n",
       "...                      ...                            ...   \n",
       "251995                     0                              0   \n",
       "251996                     0                              0   \n",
       "251997                     0                              0   \n",
       "251998                     0                              0   \n",
       "251999                     0                              0   \n",
       "\n",
       "        Profession_Statistician  Profession_Surgeon  Profession_Surveyor  \\\n",
       "0                             0                   0                    0   \n",
       "1                             0                   0                    0   \n",
       "2                             0                   0                    0   \n",
       "3                             0                   0                    0   \n",
       "4                             0                   0                    0   \n",
       "...                         ...                 ...                  ...   \n",
       "251995                        0                   1                    0   \n",
       "251996                        0                   0                    0   \n",
       "251997                        0                   0                    0   \n",
       "251998                        0                   0                    0   \n",
       "251999                        1                   0                    0   \n",
       "\n",
       "        Profession_Technical_writer  Profession_Technician  \\\n",
       "0                                 0                      0   \n",
       "1                                 0                      0   \n",
       "2                                 1                      0   \n",
       "3                                 0                      0   \n",
       "4                                 0                      0   \n",
       "...                             ...                    ...   \n",
       "251995                            0                      0   \n",
       "251996                            0                      0   \n",
       "251997                            0                      0   \n",
       "251998                            0                      0   \n",
       "251999                            0                      0   \n",
       "\n",
       "        Profession_Technology_specialist  Profession_Web_designer  \n",
       "0                                      0                        0  \n",
       "1                                      0                        0  \n",
       "2                                      0                        0  \n",
       "3                                      0                        0  \n",
       "4                                      0                        0  \n",
       "...                                  ...                      ...  \n",
       "251995                                 0                        0  \n",
       "251996                                 0                        0  \n",
       "251997                                 0                        0  \n",
       "251998                                 0                        0  \n",
       "251999                                 0                        0  \n",
       "\n",
       "[252000 rows x 60 columns]"
      ]
     },
     "execution_count": 31,
     "metadata": {},
     "output_type": "execute_result"
    }
   ],
   "source": [
    "df"
   ]
  },
  {
   "cell_type": "markdown",
   "id": "b1ed0e55",
   "metadata": {},
   "source": [
    "## Applying AdaBooting Classifier"
   ]
  },
  {
   "cell_type": "code",
   "execution_count": 32,
   "id": "f27a8cb4",
   "metadata": {},
   "outputs": [],
   "source": [
    "X=df.drop(columns='Risk_Flag')\n",
    "Y=df['Risk_Flag']"
   ]
  },
  {
   "cell_type": "code",
   "execution_count": 35,
   "id": "28a0ac75",
   "metadata": {},
   "outputs": [
    {
     "name": "stdout",
     "output_type": "stream",
     "text": [
      "Original dataset shape Counter({0: 221004, 1: 30996})\n",
      "Resample dataset shape Counter({0: 221004, 1: 221004})\n"
     ]
    }
   ],
   "source": [
    "from imblearn.over_sampling import RandomOverSampler\n",
    "\n",
    "rus = RandomOverSampler(random_state=42)\n",
    "x_rus, y_rus = rus.fit_resample(X, Y)\n",
    "\n",
    "\n",
    "print('Original dataset shape', Counter(Y))\n",
    "print('Resample dataset shape', Counter(y_rus))"
   ]
  },
  {
   "cell_type": "code",
   "execution_count": 36,
   "id": "f48f3644",
   "metadata": {},
   "outputs": [
    {
     "name": "stdout",
     "output_type": "stream",
     "text": [
      "Original dataset shape Counter({0: 221004, 1: 30996})\n",
      "Resample dataset shape Counter({0: 221004, 1: 221004})\n"
     ]
    }
   ],
   "source": [
    "from imblearn.over_sampling import SMOTE\n",
    "\n",
    "smote = SMOTE()\n",
    "\n",
    "x_smote, y_smote = smote.fit_resample(X, Y)\n",
    "\n",
    "print('Original dataset shape', Counter(Y))\n",
    "print('Resample dataset shape', Counter(y_smote))\n"
   ]
  },
  {
   "cell_type": "code",
   "execution_count": 37,
   "id": "63fa2bf3",
   "metadata": {},
   "outputs": [],
   "source": [
    "x_train,x_test,y_train,y_test=train_test_split(x_smote,y_smote,test_size=0.20,random_state=34)"
   ]
  },
  {
   "cell_type": "code",
   "execution_count": 45,
   "id": "a71534a2",
   "metadata": {},
   "outputs": [
    {
     "data": {
      "text/plain": [
       "AdaBoostClassifier()"
      ]
     },
     "execution_count": 45,
     "metadata": {},
     "output_type": "execute_result"
    }
   ],
   "source": [
    "lm=AdaBoostClassifier()\n",
    "lm.fit(x_train,y_train)"
   ]
  },
  {
   "cell_type": "code",
   "execution_count": 47,
   "id": "def45b67",
   "metadata": {},
   "outputs": [],
   "source": [
    "y_pred=lm.predict(x_test)"
   ]
  },
  {
   "cell_type": "code",
   "execution_count": 48,
   "id": "187609c0",
   "metadata": {},
   "outputs": [
    {
     "data": {
      "text/plain": [
       "array([0, 0, 0, ..., 0, 1, 0], dtype=int64)"
      ]
     },
     "execution_count": 48,
     "metadata": {},
     "output_type": "execute_result"
    }
   ],
   "source": [
    "y_pred"
   ]
  },
  {
   "cell_type": "code",
   "execution_count": 49,
   "id": "02361357",
   "metadata": {},
   "outputs": [
    {
     "data": {
      "text/plain": [
       "0.5949526028822877"
      ]
     },
     "execution_count": 49,
     "metadata": {},
     "output_type": "execute_result"
    }
   ],
   "source": [
    "accuracy_score(y_test,y_pred)"
   ]
  },
  {
   "cell_type": "code",
   "execution_count": 50,
   "id": "735aeb71",
   "metadata": {},
   "outputs": [
    {
     "data": {
      "text/plain": [
       "array([[25415, 18661],\n",
       "       [17146, 27180]], dtype=int64)"
      ]
     },
     "execution_count": 50,
     "metadata": {},
     "output_type": "execute_result"
    }
   ],
   "source": [
    "confusion_matrix(y_test,y_pred)"
   ]
  },
  {
   "cell_type": "code",
   "execution_count": 51,
   "id": "bf70f369",
   "metadata": {},
   "outputs": [
    {
     "data": {
      "text/plain": [
       "0.5948139553441459"
      ]
     },
     "execution_count": 51,
     "metadata": {},
     "output_type": "execute_result"
    }
   ],
   "source": [
    "f1(y_test,y_pred,average='weighted')"
   ]
  },
  {
   "cell_type": "code",
   "execution_count": 52,
   "id": "ebd8fc44",
   "metadata": {},
   "outputs": [],
   "source": [
    "fpr,tpr,thresholds=roc_curve(y_test,y_pred)"
   ]
  },
  {
   "cell_type": "code",
   "execution_count": 53,
   "id": "89d86056",
   "metadata": {},
   "outputs": [
    {
     "data": {
      "text/plain": [
       "0.5949008980632269"
      ]
     },
     "execution_count": 53,
     "metadata": {},
     "output_type": "execute_result"
    }
   ],
   "source": [
    "auc = roc_auc_score(y_test,y_pred)\n",
    "auc"
   ]
  },
  {
   "cell_type": "code",
   "execution_count": 54,
   "id": "2302653b",
   "metadata": {},
   "outputs": [
    {
     "data": {
      "image/png": "[encoded data removed]",
      "text/plain": [
       "<Figure size 432x288 with 1 Axes>"
      ]
     },
     "metadata": {},
     "output_type": "display_data"
    }
   ],
   "source": [
    "plt.plot(fpr , tpr , color='orange',label='ROC')\n",
    "plt.plot([0,1],[0,1],color = 'darkblue',linestyle='--',label='ROC curve(area = %0.2f)'% auc)\n",
    "plt.xlabel('false positive rate')\n",
    "plt.ylabel('true positive rate')\n",
    "plt.title('receiver operating characterstics (ROC) curve')\n",
    "plt.legend()\n",
    "plt.show()"
   ]
  },
  {
   "cell_type": "markdown",
   "id": "ff9fc42a",
   "metadata": {},
   "source": [
    "## Applying Gradient Boosting Classifier"
   ]
  },
  {
   "cell_type": "code",
   "execution_count": 55,
   "id": "b914c0f2",
   "metadata": {},
   "outputs": [],
   "source": [
    "X=df.drop(columns='Risk_Flag')\n",
    "Y=df['Risk_Flag']"
   ]
  },
  {
   "cell_type": "code",
   "execution_count": 56,
   "id": "6737514d",
   "metadata": {},
   "outputs": [
    {
     "name": "stdout",
     "output_type": "stream",
     "text": [
      "Original dataset shape Counter({0: 221004, 1: 30996})\n",
      "Resample dataset shape Counter({0: 221004, 1: 221004})\n"
     ]
    }
   ],
   "source": [
    "from imblearn.over_sampling import RandomOverSampler\n",
    "\n",
    "rus = RandomOverSampler(random_state=42)\n",
    "x_rus, y_rus = rus.fit_resample(X, Y)\n",
    "\n",
    "\n",
    "print('Original dataset shape', Counter(Y))\n",
    "print('Resample dataset shape', Counter(y_rus))"
   ]
  },
  {
   "cell_type": "code",
   "execution_count": 57,
   "id": "973180f8",
   "metadata": {},
   "outputs": [
    {
     "name": "stdout",
     "output_type": "stream",
     "text": [
      "Original dataset shape Counter({0: 221004, 1: 30996})\n",
      "Resample dataset shape Counter({0: 221004, 1: 221004})\n"
     ]
    }
   ],
   "source": [
    "from imblearn.over_sampling import SMOTE\n",
    "\n",
    "smote = SMOTE()\n",
    "\n",
    "x_smote, y_smote = smote.fit_resample(X, Y)\n",
    "\n",
    "print('Original dataset shape', Counter(Y))\n",
    "print('Resample dataset shape', Counter(y_smote))\n"
   ]
  },
  {
   "cell_type": "code",
   "execution_count": 58,
   "id": "0976d955",
   "metadata": {},
   "outputs": [],
   "source": [
    "x_train,x_test,y_train,y_test=train_test_split(x_smote,y_smote,test_size=0.20,random_state=34)"
   ]
  },
  {
   "cell_type": "code",
   "execution_count": 61,
   "id": "99ac30f2",
   "metadata": {},
   "outputs": [
    {
     "data": {
      "text/plain": [
       "GradientBoostingClassifier()"
      ]
     },
     "execution_count": 61,
     "metadata": {},
     "output_type": "execute_result"
    }
   ],
   "source": [
    "lm=GradientBoostingClassifier()\n",
    "lm.fit(x_train,y_train)"
   ]
  },
  {
   "cell_type": "code",
   "execution_count": 63,
   "id": "2ffb44f7",
   "metadata": {},
   "outputs": [],
   "source": [
    "y_pred=lm.predict(x_test)"
   ]
  },
  {
   "cell_type": "code",
   "execution_count": 64,
   "id": "cd2593e8",
   "metadata": {},
   "outputs": [
    {
     "data": {
      "text/plain": [
       "array([0, 1, 1, ..., 0, 1, 1], dtype=int64)"
      ]
     },
     "execution_count": 64,
     "metadata": {},
     "output_type": "execute_result"
    }
   ],
   "source": [
    "y_pred"
   ]
  },
  {
   "cell_type": "code",
   "execution_count": 65,
   "id": "8079b3b5",
   "metadata": {},
   "outputs": [
    {
     "data": {
      "text/plain": [
       "0.6449967195312323"
      ]
     },
     "execution_count": 65,
     "metadata": {},
     "output_type": "execute_result"
    }
   ],
   "source": [
    "accuracy_score(y_test,y_pred)"
   ]
  },
  {
   "cell_type": "code",
   "execution_count": 66,
   "id": "a8b23556",
   "metadata": {},
   "outputs": [
    {
     "data": {
      "text/plain": [
       "array([[26341, 17735],\n",
       "       [13648, 30678]], dtype=int64)"
      ]
     },
     "execution_count": 66,
     "metadata": {},
     "output_type": "execute_result"
    }
   ],
   "source": [
    "confusion_matrix(y_test,y_pred)"
   ]
  },
  {
   "cell_type": "code",
   "execution_count": 67,
   "id": "ad79b852",
   "metadata": {},
   "outputs": [
    {
     "data": {
      "text/plain": [
       "0.6441895796618687"
      ]
     },
     "execution_count": 67,
     "metadata": {},
     "output_type": "execute_result"
    }
   ],
   "source": [
    "f1(y_test,y_pred,average='weighted')"
   ]
  },
  {
   "cell_type": "code",
   "execution_count": 68,
   "id": "880e91be",
   "metadata": {},
   "outputs": [],
   "source": [
    "fpr,tpr,thresholds=roc_curve(y_test,y_pred)"
   ]
  },
  {
   "cell_type": "code",
   "execution_count": 69,
   "id": "4b9a0699",
   "metadata": {},
   "outputs": [
    {
     "data": {
      "text/plain": [
       "0.6448631357058802"
      ]
     },
     "execution_count": 69,
     "metadata": {},
     "output_type": "execute_result"
    }
   ],
   "source": [
    "auc = roc_auc_score(y_test,y_pred)\n",
    "auc"
   ]
  },
  {
   "cell_type": "code",
   "execution_count": 70,
   "id": "521e67fe",
   "metadata": {},
   "outputs": [
    {
     "data": {
      "image/png": "[encoded data removed]",
      "text/plain": [
       "<Figure size 432x288 with 1 Axes>"
      ]
     },
     "metadata": {},
     "output_type": "display_data"
    }
   ],
   "source": [
    "plt.plot(fpr , tpr , color='orange',label='ROC')\n",
    "plt.plot([0,1],[0,1],color = 'darkblue',linestyle='--',label='ROC curve(area = %0.2f)'% auc)\n",
    "plt.xlabel('false positive rate')\n",
    "plt.ylabel('true positive rate')\n",
    "plt.title('receiver operating characterstics (ROC) curve')\n",
    "plt.legend()\n",
    "plt.show()"
   ]
  },
  {
   "cell_type": "markdown",
   "id": "c062cfd4",
   "metadata": {},
   "source": [
    "## Applying XG Boosting Classifier"
   ]
  },
  {
   "cell_type": "code",
   "execution_count": 77,
   "id": "3f9d5c65",
   "metadata": {},
   "outputs": [
    {
     "data": {
      "text/plain": [
       "XGBClassifier(base_score=0.5, booster='gbtree', callbacks=None,\n",
       "              colsample_bylevel=1, colsample_bynode=1, colsample_bytree=1,\n",
       "              early_stopping_rounds=None, enable_categorical=False,\n",
       "              eval_metric=None, gamma=0, gpu_id=-1, grow_policy='depthwise',\n",
       "              importance_type=None, interaction_constraints='',\n",
       "              learning_rate=0.300000012, max_bin=256, max_cat_to_onehot=4,\n",
       "              max_delta_step=0, max_depth=6, max_leaves=0, min_child_weight=1,\n",
       "              missing=nan, monotone_constraints='()', n_estimators=100,\n",
       "              n_jobs=0, num_parallel_tree=1, predictor='auto', random_state=0,\n",
       "              reg_alpha=0, reg_lambda=1, ...)"
      ]
     },
     "execution_count": 77,
     "metadata": {},
     "output_type": "execute_result"
    }
   ],
   "source": [
    "lm=XGBClassifier()\n",
    "lm.fit(x_train,y_train)\n"
   ]
  },
  {
   "cell_type": "code",
   "execution_count": 78,
   "id": "43a018f1",
   "metadata": {},
   "outputs": [],
   "source": [
    "y_pred=lm.predict(x_test)"
   ]
  },
  {
   "cell_type": "code",
   "execution_count": 79,
   "id": "eb5c77bb",
   "metadata": {},
   "outputs": [
    {
     "data": {
      "text/plain": [
       "array([0, 1, 1, ..., 1, 1, 1])"
      ]
     },
     "execution_count": 79,
     "metadata": {},
     "output_type": "execute_result"
    }
   ],
   "source": [
    "y_pred"
   ]
  },
  {
   "cell_type": "code",
   "execution_count": 80,
   "id": "ae6738bb",
   "metadata": {},
   "outputs": [
    {
     "data": {
      "text/plain": [
       "0.891665346937852"
      ]
     },
     "execution_count": 80,
     "metadata": {},
     "output_type": "execute_result"
    }
   ],
   "source": [
    "accuracy_score(y_test,y_pred)"
   ]
  },
  {
   "cell_type": "code",
   "execution_count": 81,
   "id": "40b529e2",
   "metadata": {},
   "outputs": [
    {
     "data": {
      "text/plain": [
       "array([[37100,  6976],\n",
       "       [ 2601, 41725]], dtype=int64)"
      ]
     },
     "execution_count": 81,
     "metadata": {},
     "output_type": "execute_result"
    }
   ],
   "source": [
    "confusion_matrix(y_test,y_pred)"
   ]
  },
  {
   "cell_type": "code",
   "execution_count": 82,
   "id": "35ebe0aa",
   "metadata": {},
   "outputs": [
    {
     "data": {
      "text/plain": [
       "0.8913840769651502"
      ]
     },
     "execution_count": 82,
     "metadata": {},
     "output_type": "execute_result"
    }
   ],
   "source": [
    "f1(y_test,y_pred,average='weighted')"
   ]
  },
  {
   "cell_type": "code",
   "execution_count": 83,
   "id": "2ba2feae",
   "metadata": {},
   "outputs": [],
   "source": [
    "fpr,tpr,thresholds=roc_curve(y_test,y_pred)"
   ]
  },
  {
   "cell_type": "code",
   "execution_count": 84,
   "id": "812b74bb",
   "metadata": {},
   "outputs": [
    {
     "data": {
      "text/plain": [
       "0.8915245226404765"
      ]
     },
     "execution_count": 84,
     "metadata": {},
     "output_type": "execute_result"
    }
   ],
   "source": [
    "auc = roc_auc_score(y_test,y_pred)\n",
    "auc"
   ]
  },
  {
   "cell_type": "code",
   "execution_count": 85,
   "id": "e768acce",
   "metadata": {},
   "outputs": [
    {
     "data": {
      "image/png": "[encoded data removed]",
      "text/plain": [
       "<Figure size 432x288 with 1 Axes>"
      ]
     },
     "metadata": {},
     "output_type": "display_data"
    }
   ],
   "source": [
    "plt.plot(fpr , tpr , color='orange',label='ROC')\n",
    "plt.plot([0,1],[0,1],color = 'darkblue',linestyle='--',label='ROC curve(area = %0.2f)'% auc)\n",
    "plt.xlabel('false positive rate')\n",
    "plt.ylabel('true positive rate')\n",
    "plt.title('receiver operating characterstics (ROC) curve')\n",
    "plt.legend()\n",
    "plt.show()"
   ]
  },
  {
   "cell_type": "markdown",
   "id": "d55438ec",
   "metadata": {},
   "source": [
    "## Applying Cat Boosting Classifier"
   ]
  },
  {
   "cell_type": "code",
   "execution_count": 86,
   "id": "30ec6e55",
   "metadata": {},
   "outputs": [
    {
     "name": "stdout",
     "output_type": "stream",
     "text": [
      "Learning rate set to 0.126227\n",
      "0:\tlearn: 0.6889456\ttotal: 498ms\tremaining: 8m 17s\n",
      "1:\tlearn: 0.6857342\ttotal: 862ms\tremaining: 7m 10s\n",
      "2:\tlearn: 0.6827887\ttotal: 1.03s\tremaining: 5m 42s\n",
      "3:\tlearn: 0.6802808\ttotal: 1.22s\tremaining: 5m 3s\n",
      "4:\tlearn: 0.6773715\ttotal: 1.45s\tremaining: 4m 48s\n",
      "5:\tlearn: 0.6747202\ttotal: 1.79s\tremaining: 4m 56s\n",
      "6:\tlearn: 0.6723292\ttotal: 1.98s\tremaining: 4m 41s\n",
      "7:\tlearn: 0.6702309\ttotal: 2.18s\tremaining: 4m 30s\n",
      "8:\tlearn: 0.6679469\ttotal: 2.54s\tremaining: 4m 39s\n",
      "9:\tlearn: 0.6661372\ttotal: 2.86s\tremaining: 4m 43s\n",
      "10:\tlearn: 0.6649891\ttotal: 3.07s\tremaining: 4m 36s\n",
      "11:\tlearn: 0.6636342\ttotal: 3.26s\tremaining: 4m 28s\n",
      "12:\tlearn: 0.6622118\ttotal: 3.79s\tremaining: 4m 47s\n",
      "13:\tlearn: 0.6607244\ttotal: 4.06s\tremaining: 4m 46s\n",
      "14:\tlearn: 0.6592656\ttotal: 4.25s\tremaining: 4m 39s\n",
      "15:\tlearn: 0.6574716\ttotal: 4.45s\tremaining: 4m 33s\n",
      "16:\tlearn: 0.6560638\ttotal: 4.94s\tremaining: 4m 45s\n",
      "17:\tlearn: 0.6548742\ttotal: 5.25s\tremaining: 4m 46s\n",
      "18:\tlearn: 0.6534643\ttotal: 5.4s\tremaining: 4m 38s\n",
      "19:\tlearn: 0.6515296\ttotal: 5.65s\tremaining: 4m 36s\n",
      "20:\tlearn: 0.6502914\ttotal: 6.14s\tremaining: 4m 46s\n",
      "21:\tlearn: 0.6487148\ttotal: 6.46s\tremaining: 4m 46s\n",
      "22:\tlearn: 0.6467389\ttotal: 6.63s\tremaining: 4m 41s\n",
      "23:\tlearn: 0.6450282\ttotal: 6.78s\tremaining: 4m 35s\n",
      "24:\tlearn: 0.6436743\ttotal: 6.98s\tremaining: 4m 32s\n",
      "25:\tlearn: 0.6419725\ttotal: 7.47s\tremaining: 4m 40s\n",
      "26:\tlearn: 0.6403717\ttotal: 7.68s\tremaining: 4m 36s\n",
      "27:\tlearn: 0.6388603\ttotal: 7.87s\tremaining: 4m 33s\n",
      "28:\tlearn: 0.6376743\ttotal: 8.03s\tremaining: 4m 28s\n",
      "29:\tlearn: 0.6360772\ttotal: 8.37s\tremaining: 4m 30s\n",
      "30:\tlearn: 0.6345869\ttotal: 8.65s\tremaining: 4m 30s\n",
      "31:\tlearn: 0.6335312\ttotal: 8.76s\tremaining: 4m 24s\n",
      "32:\tlearn: 0.6324893\ttotal: 8.87s\tremaining: 4m 20s\n",
      "33:\tlearn: 0.6307992\ttotal: 9.03s\tremaining: 4m 16s\n",
      "34:\tlearn: 0.6294162\ttotal: 9.44s\tremaining: 4m 20s\n",
      "35:\tlearn: 0.6283532\ttotal: 9.61s\tremaining: 4m 17s\n",
      "36:\tlearn: 0.6270121\ttotal: 9.73s\tremaining: 4m 13s\n",
      "37:\tlearn: 0.6258359\ttotal: 9.85s\tremaining: 4m 9s\n",
      "38:\tlearn: 0.6245234\ttotal: 10.1s\tremaining: 4m 9s\n",
      "39:\tlearn: 0.6231793\ttotal: 10.5s\tremaining: 4m 11s\n",
      "40:\tlearn: 0.6220016\ttotal: 10.6s\tremaining: 4m 7s\n",
      "41:\tlearn: 0.6206272\ttotal: 10.7s\tremaining: 4m 4s\n",
      "42:\tlearn: 0.6196660\ttotal: 10.8s\tremaining: 4m\n",
      "43:\tlearn: 0.6182371\ttotal: 11s\tremaining: 4m\n",
      "44:\tlearn: 0.6170175\ttotal: 11.4s\tremaining: 4m 2s\n",
      "45:\tlearn: 0.6159391\ttotal: 11.6s\tremaining: 3m 59s\n",
      "46:\tlearn: 0.6151135\ttotal: 11.7s\tremaining: 3m 56s\n",
      "47:\tlearn: 0.6140941\ttotal: 11.8s\tremaining: 3m 53s\n",
      "48:\tlearn: 0.6130044\ttotal: 12s\tremaining: 3m 52s\n",
      "49:\tlearn: 0.6119152\ttotal: 12.4s\tremaining: 3m 55s\n",
      "50:\tlearn: 0.6101796\ttotal: 12.5s\tremaining: 3m 53s\n",
      "51:\tlearn: 0.6095612\ttotal: 12.6s\tremaining: 3m 50s\n",
      "52:\tlearn: 0.6081110\ttotal: 12.8s\tremaining: 3m 47s\n",
      "53:\tlearn: 0.6069670\ttotal: 12.9s\tremaining: 3m 46s\n",
      "54:\tlearn: 0.6056425\ttotal: 13.3s\tremaining: 3m 49s\n",
      "55:\tlearn: 0.6045637\ttotal: 13.5s\tremaining: 3m 47s\n",
      "56:\tlearn: 0.6035744\ttotal: 13.6s\tremaining: 3m 45s\n",
      "57:\tlearn: 0.6024170\ttotal: 13.7s\tremaining: 3m 43s\n",
      "58:\tlearn: 0.6012382\ttotal: 13.9s\tremaining: 3m 41s\n",
      "59:\tlearn: 0.6003392\ttotal: 14.3s\tremaining: 3m 43s\n",
      "60:\tlearn: 0.5992291\ttotal: 14.5s\tremaining: 3m 42s\n",
      "61:\tlearn: 0.5981377\ttotal: 14.6s\tremaining: 3m 40s\n",
      "62:\tlearn: 0.5969470\ttotal: 14.7s\tremaining: 3m 38s\n",
      "63:\tlearn: 0.5959412\ttotal: 14.9s\tremaining: 3m 37s\n",
      "64:\tlearn: 0.5949227\ttotal: 15.3s\tremaining: 3m 39s\n",
      "65:\tlearn: 0.5939853\ttotal: 15.4s\tremaining: 3m 38s\n",
      "66:\tlearn: 0.5930614\ttotal: 15.6s\tremaining: 3m 36s\n",
      "67:\tlearn: 0.5912621\ttotal: 15.7s\tremaining: 3m 35s\n",
      "68:\tlearn: 0.5903251\ttotal: 15.9s\tremaining: 3m 33s\n",
      "69:\tlearn: 0.5890298\ttotal: 16.3s\tremaining: 3m 36s\n",
      "70:\tlearn: 0.5878192\ttotal: 16.4s\tremaining: 3m 35s\n",
      "71:\tlearn: 0.5872255\ttotal: 16.6s\tremaining: 3m 33s\n",
      "72:\tlearn: 0.5860331\ttotal: 16.7s\tremaining: 3m 31s\n",
      "73:\tlearn: 0.5849302\ttotal: 17s\tremaining: 3m 33s\n",
      "74:\tlearn: 0.5841015\ttotal: 17.3s\tremaining: 3m 33s\n",
      "75:\tlearn: 0.5831458\ttotal: 17.4s\tremaining: 3m 31s\n",
      "76:\tlearn: 0.5821098\ttotal: 17.5s\tremaining: 3m 29s\n",
      "77:\tlearn: 0.5809358\ttotal: 17.7s\tremaining: 3m 28s\n",
      "78:\tlearn: 0.5802169\ttotal: 18.1s\tremaining: 3m 30s\n",
      "79:\tlearn: 0.5790073\ttotal: 18.3s\tremaining: 3m 29s\n",
      "80:\tlearn: 0.5780128\ttotal: 18.4s\tremaining: 3m 28s\n",
      "81:\tlearn: 0.5773490\ttotal: 18.5s\tremaining: 3m 27s\n",
      "82:\tlearn: 0.5765861\ttotal: 18.9s\tremaining: 3m 28s\n",
      "83:\tlearn: 0.5756990\ttotal: 19.2s\tremaining: 3m 29s\n",
      "84:\tlearn: 0.5746644\ttotal: 19.3s\tremaining: 3m 28s\n",
      "85:\tlearn: 0.5740364\ttotal: 19.5s\tremaining: 3m 27s\n",
      "86:\tlearn: 0.5724614\ttotal: 20s\tremaining: 3m 29s\n",
      "87:\tlearn: 0.5715248\ttotal: 20.2s\tremaining: 3m 29s\n",
      "88:\tlearn: 0.5702813\ttotal: 20.4s\tremaining: 3m 28s\n",
      "89:\tlearn: 0.5691374\ttotal: 20.8s\tremaining: 3m 29s\n",
      "90:\tlearn: 0.5678765\ttotal: 21.2s\tremaining: 3m 31s\n",
      "91:\tlearn: 0.5672158\ttotal: 21.3s\tremaining: 3m 30s\n",
      "92:\tlearn: 0.5663622\ttotal: 21.5s\tremaining: 3m 29s\n",
      "93:\tlearn: 0.5655753\ttotal: 21.6s\tremaining: 3m 28s\n",
      "94:\tlearn: 0.5643229\ttotal: 22s\tremaining: 3m 29s\n",
      "95:\tlearn: 0.5627094\ttotal: 22.3s\tremaining: 3m 29s\n",
      "96:\tlearn: 0.5617543\ttotal: 22.4s\tremaining: 3m 28s\n",
      "97:\tlearn: 0.5607801\ttotal: 22.6s\tremaining: 3m 27s\n",
      "98:\tlearn: 0.5600300\ttotal: 22.9s\tremaining: 3m 28s\n",
      "99:\tlearn: 0.5592359\ttotal: 23.2s\tremaining: 3m 29s\n",
      "100:\tlearn: 0.5577765\ttotal: 23.4s\tremaining: 3m 27s\n",
      "101:\tlearn: 0.5570958\ttotal: 23.5s\tremaining: 3m 26s\n",
      "102:\tlearn: 0.5560378\ttotal: 23.6s\tremaining: 3m 25s\n",
      "103:\tlearn: 0.5550675\ttotal: 23.9s\tremaining: 3m 26s\n",
      "104:\tlearn: 0.5538221\ttotal: 24.2s\tremaining: 3m 26s\n",
      "105:\tlearn: 0.5524672\ttotal: 24.3s\tremaining: 3m 25s\n",
      "106:\tlearn: 0.5513992\ttotal: 24.4s\tremaining: 3m 24s\n",
      "107:\tlearn: 0.5505185\ttotal: 24.6s\tremaining: 3m 23s\n",
      "108:\tlearn: 0.5496332\ttotal: 25s\tremaining: 3m 24s\n",
      "109:\tlearn: 0.5486659\ttotal: 25.2s\tremaining: 3m 23s\n",
      "110:\tlearn: 0.5475807\ttotal: 25.3s\tremaining: 3m 22s\n",
      "111:\tlearn: 0.5464440\ttotal: 25.4s\tremaining: 3m 21s\n",
      "112:\tlearn: 0.5451725\ttotal: 25.6s\tremaining: 3m 21s\n",
      "113:\tlearn: 0.5443095\ttotal: 26s\tremaining: 3m 22s\n",
      "114:\tlearn: 0.5434274\ttotal: 26.2s\tremaining: 3m 21s\n",
      "115:\tlearn: 0.5427198\ttotal: 26.3s\tremaining: 3m 20s\n",
      "116:\tlearn: 0.5418669\ttotal: 26.4s\tremaining: 3m 19s\n",
      "117:\tlearn: 0.5406650\ttotal: 26.6s\tremaining: 3m 18s\n",
      "118:\tlearn: 0.5394536\ttotal: 27s\tremaining: 3m 20s\n",
      "119:\tlearn: 0.5385795\ttotal: 27.2s\tremaining: 3m 19s\n",
      "120:\tlearn: 0.5378333\ttotal: 27.3s\tremaining: 3m 18s\n",
      "121:\tlearn: 0.5369156\ttotal: 27.4s\tremaining: 3m 17s\n",
      "122:\tlearn: 0.5359247\ttotal: 27.7s\tremaining: 3m 17s\n",
      "123:\tlearn: 0.5351023\ttotal: 28s\tremaining: 3m 17s\n",
      "124:\tlearn: 0.5344034\ttotal: 28.1s\tremaining: 3m 16s\n",
      "125:\tlearn: 0.5336062\ttotal: 28.2s\tremaining: 3m 15s\n",
      "126:\tlearn: 0.5324031\ttotal: 28.4s\tremaining: 3m 15s\n",
      "127:\tlearn: 0.5313783\ttotal: 28.8s\tremaining: 3m 16s\n",
      "128:\tlearn: 0.5307468\ttotal: 28.9s\tremaining: 3m 15s\n",
      "129:\tlearn: 0.5298248\ttotal: 29.1s\tremaining: 3m 14s\n",
      "130:\tlearn: 0.5292312\ttotal: 29.2s\tremaining: 3m 13s\n",
      "131:\tlearn: 0.5282153\ttotal: 29.5s\tremaining: 3m 14s\n",
      "132:\tlearn: 0.5272545\ttotal: 29.8s\tremaining: 3m 14s\n",
      "133:\tlearn: 0.5266927\ttotal: 29.9s\tremaining: 3m 13s\n",
      "134:\tlearn: 0.5255403\ttotal: 30s\tremaining: 3m 12s\n",
      "135:\tlearn: 0.5245545\ttotal: 30.2s\tremaining: 3m 11s\n",
      "136:\tlearn: 0.5237144\ttotal: 30.5s\tremaining: 3m 12s\n",
      "137:\tlearn: 0.5227850\ttotal: 30.7s\tremaining: 3m 11s\n",
      "138:\tlearn: 0.5218244\ttotal: 30.9s\tremaining: 3m 11s\n",
      "139:\tlearn: 0.5210704\ttotal: 31s\tremaining: 3m 10s\n",
      "140:\tlearn: 0.5203982\ttotal: 31.2s\tremaining: 3m 10s\n",
      "141:\tlearn: 0.5197194\ttotal: 31.6s\tremaining: 3m 10s\n",
      "142:\tlearn: 0.5187759\ttotal: 31.7s\tremaining: 3m 9s\n",
      "143:\tlearn: 0.5180764\ttotal: 31.8s\tremaining: 3m 9s\n",
      "144:\tlearn: 0.5173888\ttotal: 31.9s\tremaining: 3m 8s\n",
      "145:\tlearn: 0.5168718\ttotal: 32.2s\tremaining: 3m 8s\n",
      "146:\tlearn: 0.5159613\ttotal: 32.6s\tremaining: 3m 8s\n",
      "147:\tlearn: 0.5151486\ttotal: 32.7s\tremaining: 3m 8s\n",
      "148:\tlearn: 0.5141960\ttotal: 32.8s\tremaining: 3m 7s\n",
      "149:\tlearn: 0.5133523\ttotal: 33s\tremaining: 3m 6s\n",
      "150:\tlearn: 0.5128317\ttotal: 33.3s\tremaining: 3m 7s\n",
      "151:\tlearn: 0.5119754\ttotal: 33.5s\tremaining: 3m 7s\n",
      "152:\tlearn: 0.5113277\ttotal: 33.7s\tremaining: 3m 6s\n",
      "153:\tlearn: 0.5105581\ttotal: 33.8s\tremaining: 3m 5s\n",
      "154:\tlearn: 0.5100813\ttotal: 34s\tremaining: 3m 5s\n",
      "155:\tlearn: 0.5092672\ttotal: 34.4s\tremaining: 3m 6s\n",
      "156:\tlearn: 0.5086125\ttotal: 34.6s\tremaining: 3m 5s\n",
      "157:\tlearn: 0.5078319\ttotal: 34.7s\tremaining: 3m 5s\n",
      "158:\tlearn: 0.5072114\ttotal: 35s\tremaining: 3m 4s\n",
      "159:\tlearn: 0.5063431\ttotal: 35.5s\tremaining: 3m 6s\n",
      "160:\tlearn: 0.5056834\ttotal: 35.6s\tremaining: 3m 5s\n",
      "161:\tlearn: 0.5047749\ttotal: 35.8s\tremaining: 3m 5s\n",
      "162:\tlearn: 0.5040974\ttotal: 36s\tremaining: 3m 4s\n",
      "163:\tlearn: 0.5030896\ttotal: 36.5s\tremaining: 3m 5s\n",
      "164:\tlearn: 0.5020287\ttotal: 36.7s\tremaining: 3m 5s\n",
      "165:\tlearn: 0.5012105\ttotal: 36.8s\tremaining: 3m 4s\n",
      "166:\tlearn: 0.5003777\ttotal: 37s\tremaining: 3m 4s\n",
      "167:\tlearn: 0.4998043\ttotal: 37.4s\tremaining: 3m 5s\n",
      "168:\tlearn: 0.4991621\ttotal: 37.6s\tremaining: 3m 4s\n",
      "169:\tlearn: 0.4985506\ttotal: 37.8s\tremaining: 3m 4s\n",
      "170:\tlearn: 0.4979115\ttotal: 37.9s\tremaining: 3m 3s\n",
      "171:\tlearn: 0.4973939\ttotal: 38.3s\tremaining: 3m 4s\n",
      "172:\tlearn: 0.4965561\ttotal: 38.6s\tremaining: 3m 4s\n",
      "173:\tlearn: 0.4957080\ttotal: 38.7s\tremaining: 3m 3s\n",
      "174:\tlearn: 0.4949407\ttotal: 38.8s\tremaining: 3m 2s\n",
      "175:\tlearn: 0.4941568\ttotal: 38.9s\tremaining: 3m 2s\n",
      "176:\tlearn: 0.4931198\ttotal: 39.3s\tremaining: 3m 2s\n",
      "177:\tlearn: 0.4924819\ttotal: 39.5s\tremaining: 3m 2s\n",
      "178:\tlearn: 0.4917111\ttotal: 39.6s\tremaining: 3m 1s\n",
      "179:\tlearn: 0.4910941\ttotal: 39.7s\tremaining: 3m 1s\n",
      "180:\tlearn: 0.4904034\ttotal: 39.9s\tremaining: 3m\n",
      "181:\tlearn: 0.4898161\ttotal: 40.2s\tremaining: 3m\n",
      "182:\tlearn: 0.4889766\ttotal: 40.5s\tremaining: 3m\n",
      "183:\tlearn: 0.4882281\ttotal: 40.6s\tremaining: 2m 59s\n",
      "184:\tlearn: 0.4878054\ttotal: 40.7s\tremaining: 2m 59s\n",
      "185:\tlearn: 0.4871961\ttotal: 40.8s\tremaining: 2m 58s\n",
      "186:\tlearn: 0.4863525\ttotal: 41.2s\tremaining: 2m 58s\n",
      "187:\tlearn: 0.4858467\ttotal: 41.4s\tremaining: 2m 58s\n",
      "188:\tlearn: 0.4851352\ttotal: 41.6s\tremaining: 2m 58s\n",
      "189:\tlearn: 0.4844281\ttotal: 41.7s\tremaining: 2m 57s\n",
      "190:\tlearn: 0.4837159\ttotal: 41.8s\tremaining: 2m 57s\n",
      "191:\tlearn: 0.4829679\ttotal: 42.2s\tremaining: 2m 57s\n",
      "192:\tlearn: 0.4824140\ttotal: 42.4s\tremaining: 2m 57s\n",
      "193:\tlearn: 0.4819041\ttotal: 42.5s\tremaining: 2m 56s\n",
      "194:\tlearn: 0.4812780\ttotal: 42.6s\tremaining: 2m 56s\n",
      "195:\tlearn: 0.4806137\ttotal: 42.9s\tremaining: 2m 56s\n",
      "196:\tlearn: 0.4797744\ttotal: 43.2s\tremaining: 2m 56s\n",
      "197:\tlearn: 0.4792149\ttotal: 43.4s\tremaining: 2m 55s\n",
      "198:\tlearn: 0.4786440\ttotal: 43.5s\tremaining: 2m 55s\n",
      "199:\tlearn: 0.4779382\ttotal: 43.7s\tremaining: 2m 54s\n",
      "200:\tlearn: 0.4772202\ttotal: 44s\tremaining: 2m 55s\n",
      "201:\tlearn: 0.4767612\ttotal: 44.2s\tremaining: 2m 54s\n",
      "202:\tlearn: 0.4759471\ttotal: 44.3s\tremaining: 2m 54s\n",
      "203:\tlearn: 0.4752980\ttotal: 44.5s\tremaining: 2m 53s\n",
      "204:\tlearn: 0.4744836\ttotal: 44.7s\tremaining: 2m 53s\n",
      "205:\tlearn: 0.4739755\ttotal: 45.1s\tremaining: 2m 53s\n",
      "206:\tlearn: 0.4733920\ttotal: 45.2s\tremaining: 2m 53s\n",
      "207:\tlearn: 0.4724854\ttotal: 45.3s\tremaining: 2m 52s\n",
      "208:\tlearn: 0.4719690\ttotal: 45.5s\tremaining: 2m 52s\n",
      "209:\tlearn: 0.4715736\ttotal: 45.9s\tremaining: 2m 52s\n",
      "210:\tlearn: 0.4710932\ttotal: 46s\tremaining: 2m 52s\n",
      "211:\tlearn: 0.4704189\ttotal: 46.2s\tremaining: 2m 51s\n",
      "212:\tlearn: 0.4699734\ttotal: 46.3s\tremaining: 2m 51s\n",
      "213:\tlearn: 0.4693291\ttotal: 46.6s\tremaining: 2m 51s\n",
      "214:\tlearn: 0.4688640\ttotal: 46.9s\tremaining: 2m 51s\n",
      "215:\tlearn: 0.4679377\ttotal: 47s\tremaining: 2m 50s\n",
      "216:\tlearn: 0.4672171\ttotal: 47.2s\tremaining: 2m 50s\n",
      "217:\tlearn: 0.4664117\ttotal: 47.4s\tremaining: 2m 49s\n",
      "218:\tlearn: 0.4658257\ttotal: 47.7s\tremaining: 2m 50s\n",
      "219:\tlearn: 0.4653097\ttotal: 47.9s\tremaining: 2m 49s\n",
      "220:\tlearn: 0.4647780\ttotal: 48s\tremaining: 2m 49s\n",
      "221:\tlearn: 0.4640194\ttotal: 48.1s\tremaining: 2m 48s\n",
      "222:\tlearn: 0.4632190\ttotal: 48.5s\tremaining: 2m 49s\n",
      "223:\tlearn: 0.4626574\ttotal: 48.7s\tremaining: 2m 48s\n",
      "224:\tlearn: 0.4620548\ttotal: 48.8s\tremaining: 2m 48s\n",
      "225:\tlearn: 0.4613919\ttotal: 49s\tremaining: 2m 47s\n",
      "226:\tlearn: 0.4604673\ttotal: 49.4s\tremaining: 2m 48s\n",
      "227:\tlearn: 0.4597701\ttotal: 49.6s\tremaining: 2m 47s\n",
      "228:\tlearn: 0.4590428\ttotal: 49.7s\tremaining: 2m 47s\n",
      "229:\tlearn: 0.4582411\ttotal: 49.8s\tremaining: 2m 46s\n",
      "230:\tlearn: 0.4578928\ttotal: 50s\tremaining: 2m 46s\n",
      "231:\tlearn: 0.4573199\ttotal: 50.4s\tremaining: 2m 46s\n",
      "232:\tlearn: 0.4567409\ttotal: 50.6s\tremaining: 2m 46s\n",
      "233:\tlearn: 0.4562031\ttotal: 50.7s\tremaining: 2m 46s\n",
      "234:\tlearn: 0.4556523\ttotal: 51s\tremaining: 2m 46s\n",
      "235:\tlearn: 0.4551357\ttotal: 51.4s\tremaining: 2m 46s\n",
      "236:\tlearn: 0.4545255\ttotal: 51.6s\tremaining: 2m 46s\n",
      "237:\tlearn: 0.4537157\ttotal: 51.8s\tremaining: 2m 45s\n",
      "238:\tlearn: 0.4530858\ttotal: 52s\tremaining: 2m 45s\n",
      "239:\tlearn: 0.4522751\ttotal: 52.5s\tremaining: 2m 46s\n",
      "240:\tlearn: 0.4516433\ttotal: 52.6s\tremaining: 2m 45s\n",
      "241:\tlearn: 0.4511704\ttotal: 52.8s\tremaining: 2m 45s\n",
      "242:\tlearn: 0.4506915\ttotal: 53s\tremaining: 2m 44s\n",
      "243:\tlearn: 0.4502320\ttotal: 53.4s\tremaining: 2m 45s\n",
      "244:\tlearn: 0.4496702\ttotal: 53.6s\tremaining: 2m 45s\n",
      "245:\tlearn: 0.4489600\ttotal: 53.7s\tremaining: 2m 44s\n",
      "246:\tlearn: 0.4484779\ttotal: 53.9s\tremaining: 2m 44s\n",
      "247:\tlearn: 0.4480946\ttotal: 54.2s\tremaining: 2m 44s\n",
      "248:\tlearn: 0.4475431\ttotal: 54.5s\tremaining: 2m 44s\n",
      "249:\tlearn: 0.4468387\ttotal: 54.6s\tremaining: 2m 43s\n",
      "250:\tlearn: 0.4463171\ttotal: 54.7s\tremaining: 2m 43s\n",
      "251:\tlearn: 0.4458756\ttotal: 54.8s\tremaining: 2m 42s\n",
      "252:\tlearn: 0.4453537\ttotal: 55.2s\tremaining: 2m 42s\n",
      "253:\tlearn: 0.4448990\ttotal: 55.5s\tremaining: 2m 42s\n",
      "254:\tlearn: 0.4444408\ttotal: 55.6s\tremaining: 2m 42s\n",
      "255:\tlearn: 0.4440631\ttotal: 55.7s\tremaining: 2m 41s\n",
      "256:\tlearn: 0.4436510\ttotal: 55.8s\tremaining: 2m 41s\n",
      "257:\tlearn: 0.4431665\ttotal: 56.1s\tremaining: 2m 41s\n",
      "258:\tlearn: 0.4425455\ttotal: 56.4s\tremaining: 2m 41s\n",
      "259:\tlearn: 0.4420902\ttotal: 56.5s\tremaining: 2m 40s\n",
      "260:\tlearn: 0.4417665\ttotal: 56.7s\tremaining: 2m 40s\n",
      "261:\tlearn: 0.4411233\ttotal: 56.8s\tremaining: 2m 39s\n",
      "262:\tlearn: 0.4407067\ttotal: 57.1s\tremaining: 2m 39s\n",
      "263:\tlearn: 0.4401036\ttotal: 57.4s\tremaining: 2m 39s\n",
      "264:\tlearn: 0.4392902\ttotal: 57.5s\tremaining: 2m 39s\n",
      "265:\tlearn: 0.4390061\ttotal: 57.6s\tremaining: 2m 39s\n",
      "266:\tlearn: 0.4385606\ttotal: 57.7s\tremaining: 2m 38s\n",
      "267:\tlearn: 0.4382299\ttotal: 58s\tremaining: 2m 38s\n",
      "268:\tlearn: 0.4377192\ttotal: 58.3s\tremaining: 2m 38s\n",
      "269:\tlearn: 0.4372340\ttotal: 58.5s\tremaining: 2m 38s\n",
      "270:\tlearn: 0.4368362\ttotal: 58.6s\tremaining: 2m 37s\n",
      "271:\tlearn: 0.4362463\ttotal: 58.7s\tremaining: 2m 37s\n",
      "272:\tlearn: 0.4356003\ttotal: 58.9s\tremaining: 2m 36s\n",
      "273:\tlearn: 0.4350561\ttotal: 59.3s\tremaining: 2m 37s\n",
      "274:\tlearn: 0.4344228\ttotal: 59.4s\tremaining: 2m 36s\n",
      "275:\tlearn: 0.4339556\ttotal: 59.5s\tremaining: 2m 36s\n",
      "276:\tlearn: 0.4334765\ttotal: 59.7s\tremaining: 2m 35s\n",
      "277:\tlearn: 0.4329820\ttotal: 59.9s\tremaining: 2m 35s\n",
      "278:\tlearn: 0.4324142\ttotal: 1m\tremaining: 2m 35s\n",
      "279:\tlearn: 0.4317843\ttotal: 1m\tremaining: 2m 35s\n",
      "280:\tlearn: 0.4313195\ttotal: 1m\tremaining: 2m 34s\n",
      "281:\tlearn: 0.4305653\ttotal: 1m\tremaining: 2m 34s\n",
      "282:\tlearn: 0.4301258\ttotal: 1m\tremaining: 2m 34s\n",
      "283:\tlearn: 0.4298656\ttotal: 1m 1s\tremaining: 2m 34s\n",
      "284:\tlearn: 0.4294670\ttotal: 1m 1s\tremaining: 2m 33s\n",
      "285:\tlearn: 0.4288078\ttotal: 1m 1s\tremaining: 2m 33s\n",
      "286:\tlearn: 0.4282916\ttotal: 1m 1s\tremaining: 2m 32s\n",
      "287:\tlearn: 0.4277105\ttotal: 1m 1s\tremaining: 2m 32s\n",
      "288:\tlearn: 0.4273102\ttotal: 1m 2s\tremaining: 2m 32s\n",
      "289:\tlearn: 0.4269559\ttotal: 1m 2s\tremaining: 2m 32s\n",
      "290:\tlearn: 0.4266504\ttotal: 1m 2s\tremaining: 2m 32s\n",
      "291:\tlearn: 0.4261843\ttotal: 1m 2s\tremaining: 2m 31s\n",
      "292:\tlearn: 0.4256151\ttotal: 1m 2s\tremaining: 2m 31s\n",
      "293:\tlearn: 0.4251192\ttotal: 1m 3s\tremaining: 2m 31s\n",
      "294:\tlearn: 0.4246824\ttotal: 1m 3s\tremaining: 2m 31s\n",
      "295:\tlearn: 0.4241741\ttotal: 1m 3s\tremaining: 2m 30s\n",
      "296:\tlearn: 0.4236019\ttotal: 1m 3s\tremaining: 2m 30s\n",
      "297:\tlearn: 0.4230326\ttotal: 1m 3s\tremaining: 2m 30s\n",
      "298:\tlearn: 0.4227459\ttotal: 1m 4s\tremaining: 2m 30s\n",
      "299:\tlearn: 0.4222484\ttotal: 1m 4s\tremaining: 2m 29s\n",
      "300:\tlearn: 0.4215788\ttotal: 1m 4s\tremaining: 2m 29s\n",
      "301:\tlearn: 0.4211833\ttotal: 1m 4s\tremaining: 2m 29s\n",
      "302:\tlearn: 0.4209706\ttotal: 1m 4s\tremaining: 2m 29s\n",
      "303:\tlearn: 0.4205810\ttotal: 1m 5s\tremaining: 2m 29s\n",
      "304:\tlearn: 0.4201313\ttotal: 1m 5s\tremaining: 2m 28s\n",
      "305:\tlearn: 0.4197649\ttotal: 1m 5s\tremaining: 2m 28s\n",
      "306:\tlearn: 0.4193774\ttotal: 1m 5s\tremaining: 2m 27s\n",
      "307:\tlearn: 0.4190198\ttotal: 1m 5s\tremaining: 2m 28s\n",
      "308:\tlearn: 0.4184668\ttotal: 1m 6s\tremaining: 2m 27s\n",
      "309:\tlearn: 0.4180511\ttotal: 1m 6s\tremaining: 2m 27s\n",
      "310:\tlearn: 0.4175031\ttotal: 1m 6s\tremaining: 2m 27s\n",
      "311:\tlearn: 0.4171366\ttotal: 1m 6s\tremaining: 2m 27s\n",
      "312:\tlearn: 0.4167099\ttotal: 1m 7s\tremaining: 2m 27s\n",
      "313:\tlearn: 0.4160214\ttotal: 1m 7s\tremaining: 2m 26s\n",
      "314:\tlearn: 0.4154076\ttotal: 1m 7s\tremaining: 2m 26s\n",
      "315:\tlearn: 0.4149691\ttotal: 1m 7s\tremaining: 2m 26s\n",
      "316:\tlearn: 0.4144591\ttotal: 1m 8s\tremaining: 2m 26s\n",
      "317:\tlearn: 0.4138533\ttotal: 1m 8s\tremaining: 2m 26s\n",
      "318:\tlearn: 0.4133511\ttotal: 1m 8s\tremaining: 2m 25s\n",
      "319:\tlearn: 0.4130790\ttotal: 1m 8s\tremaining: 2m 25s\n",
      "320:\tlearn: 0.4124292\ttotal: 1m 9s\tremaining: 2m 25s\n",
      "321:\tlearn: 0.4120060\ttotal: 1m 9s\tremaining: 2m 25s\n",
      "322:\tlearn: 0.4117108\ttotal: 1m 9s\tremaining: 2m 25s\n",
      "323:\tlearn: 0.4112501\ttotal: 1m 9s\tremaining: 2m 25s\n",
      "324:\tlearn: 0.4109211\ttotal: 1m 9s\tremaining: 2m 25s\n",
      "325:\tlearn: 0.4105067\ttotal: 1m 10s\tremaining: 2m 25s\n",
      "326:\tlearn: 0.4100725\ttotal: 1m 10s\tremaining: 2m 24s\n",
      "327:\tlearn: 0.4095395\ttotal: 1m 10s\tremaining: 2m 24s\n",
      "328:\tlearn: 0.4090281\ttotal: 1m 10s\tremaining: 2m 24s\n",
      "329:\tlearn: 0.4086564\ttotal: 1m 10s\tremaining: 2m 24s\n",
      "330:\tlearn: 0.4081642\ttotal: 1m 11s\tremaining: 2m 23s\n",
      "331:\tlearn: 0.4076048\ttotal: 1m 11s\tremaining: 2m 23s\n",
      "332:\tlearn: 0.4069321\ttotal: 1m 11s\tremaining: 2m 23s\n",
      "333:\tlearn: 0.4065681\ttotal: 1m 11s\tremaining: 2m 23s\n",
      "334:\tlearn: 0.4063483\ttotal: 1m 11s\tremaining: 2m 22s\n",
      "335:\tlearn: 0.4059997\ttotal: 1m 12s\tremaining: 2m 22s\n",
      "336:\tlearn: 0.4055499\ttotal: 1m 12s\tremaining: 2m 21s\n",
      "337:\tlearn: 0.4051341\ttotal: 1m 12s\tremaining: 2m 21s\n",
      "338:\tlearn: 0.4048295\ttotal: 1m 12s\tremaining: 2m 21s\n",
      "339:\tlearn: 0.4041580\ttotal: 1m 12s\tremaining: 2m 21s\n",
      "340:\tlearn: 0.4038569\ttotal: 1m 12s\tremaining: 2m 21s\n",
      "341:\tlearn: 0.4032976\ttotal: 1m 13s\tremaining: 2m 20s\n",
      "342:\tlearn: 0.4028914\ttotal: 1m 13s\tremaining: 2m 20s\n",
      "343:\tlearn: 0.4025210\ttotal: 1m 13s\tremaining: 2m 20s\n",
      "344:\tlearn: 0.4020258\ttotal: 1m 13s\tremaining: 2m 20s\n",
      "345:\tlearn: 0.4015701\ttotal: 1m 13s\tremaining: 2m 19s\n",
      "346:\tlearn: 0.4011618\ttotal: 1m 14s\tremaining: 2m 19s\n",
      "347:\tlearn: 0.4009312\ttotal: 1m 14s\tremaining: 2m 19s\n",
      "348:\tlearn: 0.4005713\ttotal: 1m 14s\tremaining: 2m 19s\n",
      "349:\tlearn: 0.4001444\ttotal: 1m 14s\tremaining: 2m 18s\n",
      "350:\tlearn: 0.3995903\ttotal: 1m 14s\tremaining: 2m 18s\n",
      "351:\tlearn: 0.3992682\ttotal: 1m 15s\tremaining: 2m 18s\n",
      "352:\tlearn: 0.3988179\ttotal: 1m 15s\tremaining: 2m 18s\n",
      "353:\tlearn: 0.3984493\ttotal: 1m 15s\tremaining: 2m 18s\n",
      "354:\tlearn: 0.3980989\ttotal: 1m 15s\tremaining: 2m 17s\n",
      "355:\tlearn: 0.3976235\ttotal: 1m 15s\tremaining: 2m 17s\n",
      "356:\tlearn: 0.3971932\ttotal: 1m 16s\tremaining: 2m 16s\n",
      "357:\tlearn: 0.3966859\ttotal: 1m 16s\tremaining: 2m 17s\n",
      "358:\tlearn: 0.3961325\ttotal: 1m 16s\tremaining: 2m 16s\n",
      "359:\tlearn: 0.3958571\ttotal: 1m 16s\tremaining: 2m 16s\n",
      "360:\tlearn: 0.3953921\ttotal: 1m 16s\tremaining: 2m 16s\n",
      "361:\tlearn: 0.3950565\ttotal: 1m 17s\tremaining: 2m 15s\n",
      "362:\tlearn: 0.3946891\ttotal: 1m 17s\tremaining: 2m 15s\n",
      "363:\tlearn: 0.3943715\ttotal: 1m 17s\tremaining: 2m 15s\n",
      "364:\tlearn: 0.3939497\ttotal: 1m 17s\tremaining: 2m 15s\n",
      "365:\tlearn: 0.3936777\ttotal: 1m 17s\tremaining: 2m 14s\n",
      "366:\tlearn: 0.3931782\ttotal: 1m 18s\tremaining: 2m 14s\n",
      "367:\tlearn: 0.3928883\ttotal: 1m 18s\tremaining: 2m 14s\n",
      "368:\tlearn: 0.3926416\ttotal: 1m 18s\tremaining: 2m 14s\n",
      "369:\tlearn: 0.3922612\ttotal: 1m 18s\tremaining: 2m 13s\n",
      "370:\tlearn: 0.3918991\ttotal: 1m 18s\tremaining: 2m 13s\n",
      "371:\tlearn: 0.3914420\ttotal: 1m 19s\tremaining: 2m 13s\n",
      "372:\tlearn: 0.3910956\ttotal: 1m 19s\tremaining: 2m 13s\n",
      "373:\tlearn: 0.3907019\ttotal: 1m 19s\tremaining: 2m 13s\n",
      "374:\tlearn: 0.3902645\ttotal: 1m 19s\tremaining: 2m 12s\n",
      "375:\tlearn: 0.3900273\ttotal: 1m 19s\tremaining: 2m 12s\n",
      "376:\tlearn: 0.3896388\ttotal: 1m 20s\tremaining: 2m 12s\n",
      "377:\tlearn: 0.3893339\ttotal: 1m 20s\tremaining: 2m 12s\n",
      "378:\tlearn: 0.3890378\ttotal: 1m 20s\tremaining: 2m 11s\n",
      "379:\tlearn: 0.3888090\ttotal: 1m 20s\tremaining: 2m 11s\n",
      "380:\tlearn: 0.3885422\ttotal: 1m 20s\tremaining: 2m 11s\n",
      "381:\tlearn: 0.3882727\ttotal: 1m 21s\tremaining: 2m 11s\n",
      "382:\tlearn: 0.3880090\ttotal: 1m 21s\tremaining: 2m 10s\n",
      "383:\tlearn: 0.3875961\ttotal: 1m 21s\tremaining: 2m 10s\n",
      "384:\tlearn: 0.3872643\ttotal: 1m 21s\tremaining: 2m 10s\n",
      "385:\tlearn: 0.3870466\ttotal: 1m 21s\tremaining: 2m 10s\n",
      "386:\tlearn: 0.3867331\ttotal: 1m 22s\tremaining: 2m 10s\n",
      "387:\tlearn: 0.3863713\ttotal: 1m 22s\tremaining: 2m 9s\n",
      "388:\tlearn: 0.3861557\ttotal: 1m 22s\tremaining: 2m 9s\n",
      "389:\tlearn: 0.3858549\ttotal: 1m 22s\tremaining: 2m 9s\n",
      "390:\tlearn: 0.3855126\ttotal: 1m 23s\tremaining: 2m 9s\n",
      "391:\tlearn: 0.3851402\ttotal: 1m 23s\tremaining: 2m 9s\n",
      "392:\tlearn: 0.3848492\ttotal: 1m 23s\tremaining: 2m 8s\n",
      "393:\tlearn: 0.3844589\ttotal: 1m 23s\tremaining: 2m 8s\n",
      "394:\tlearn: 0.3839877\ttotal: 1m 24s\tremaining: 2m 8s\n",
      "395:\tlearn: 0.3836582\ttotal: 1m 24s\tremaining: 2m 8s\n",
      "396:\tlearn: 0.3831932\ttotal: 1m 24s\tremaining: 2m 8s\n",
      "397:\tlearn: 0.3829876\ttotal: 1m 24s\tremaining: 2m 8s\n",
      "398:\tlearn: 0.3825303\ttotal: 1m 25s\tremaining: 2m 8s\n",
      "399:\tlearn: 0.3822393\ttotal: 1m 25s\tremaining: 2m 7s\n",
      "400:\tlearn: 0.3819255\ttotal: 1m 25s\tremaining: 2m 7s\n",
      "401:\tlearn: 0.3815131\ttotal: 1m 25s\tremaining: 2m 7s\n",
      "402:\tlearn: 0.3811862\ttotal: 1m 26s\tremaining: 2m 7s\n",
      "403:\tlearn: 0.3809319\ttotal: 1m 26s\tremaining: 2m 7s\n",
      "404:\tlearn: 0.3806780\ttotal: 1m 26s\tremaining: 2m 6s\n",
      "405:\tlearn: 0.3802474\ttotal: 1m 26s\tremaining: 2m 6s\n",
      "406:\tlearn: 0.3797965\ttotal: 1m 26s\tremaining: 2m 6s\n",
      "407:\tlearn: 0.3794086\ttotal: 1m 26s\tremaining: 2m 6s\n",
      "408:\tlearn: 0.3790422\ttotal: 1m 27s\tremaining: 2m 5s\n",
      "409:\tlearn: 0.3786425\ttotal: 1m 27s\tremaining: 2m 5s\n",
      "410:\tlearn: 0.3782525\ttotal: 1m 27s\tremaining: 2m 5s\n",
      "411:\tlearn: 0.3779341\ttotal: 1m 27s\tremaining: 2m 5s\n",
      "412:\tlearn: 0.3775656\ttotal: 1m 27s\tremaining: 2m 5s\n",
      "413:\tlearn: 0.3771976\ttotal: 1m 28s\tremaining: 2m 4s\n",
      "414:\tlearn: 0.3768971\ttotal: 1m 28s\tremaining: 2m 4s\n",
      "415:\tlearn: 0.3764897\ttotal: 1m 28s\tremaining: 2m 4s\n",
      "416:\tlearn: 0.3762063\ttotal: 1m 28s\tremaining: 2m 4s\n",
      "417:\tlearn: 0.3759081\ttotal: 1m 29s\tremaining: 2m 3s\n",
      "418:\tlearn: 0.3755750\ttotal: 1m 29s\tremaining: 2m 3s\n",
      "419:\tlearn: 0.3752145\ttotal: 1m 29s\tremaining: 2m 3s\n",
      "420:\tlearn: 0.3748288\ttotal: 1m 29s\tremaining: 2m 3s\n",
      "421:\tlearn: 0.3743856\ttotal: 1m 29s\tremaining: 2m 3s\n",
      "422:\tlearn: 0.3740647\ttotal: 1m 30s\tremaining: 2m 2s\n",
      "423:\tlearn: 0.3736028\ttotal: 1m 30s\tremaining: 2m 2s\n",
      "424:\tlearn: 0.3734685\ttotal: 1m 30s\tremaining: 2m 2s\n",
      "425:\tlearn: 0.3730312\ttotal: 1m 30s\tremaining: 2m 2s\n",
      "426:\tlearn: 0.3727865\ttotal: 1m 30s\tremaining: 2m 1s\n",
      "427:\tlearn: 0.3725916\ttotal: 1m 30s\tremaining: 2m 1s\n",
      "428:\tlearn: 0.3722045\ttotal: 1m 31s\tremaining: 2m 1s\n",
      "429:\tlearn: 0.3718567\ttotal: 1m 31s\tremaining: 2m\n",
      "430:\tlearn: 0.3716302\ttotal: 1m 31s\tremaining: 2m\n",
      "431:\tlearn: 0.3713884\ttotal: 1m 31s\tremaining: 2m\n",
      "432:\tlearn: 0.3710989\ttotal: 1m 31s\tremaining: 2m\n",
      "433:\tlearn: 0.3708093\ttotal: 1m 32s\tremaining: 1m 59s\n",
      "434:\tlearn: 0.3704541\ttotal: 1m 32s\tremaining: 1m 59s\n",
      "435:\tlearn: 0.3700493\ttotal: 1m 32s\tremaining: 1m 59s\n",
      "436:\tlearn: 0.3697275\ttotal: 1m 32s\tremaining: 1m 59s\n",
      "437:\tlearn: 0.3695026\ttotal: 1m 32s\tremaining: 1m 59s\n",
      "438:\tlearn: 0.3692181\ttotal: 1m 32s\tremaining: 1m 58s\n",
      "439:\tlearn: 0.3690748\ttotal: 1m 33s\tremaining: 1m 58s\n",
      "440:\tlearn: 0.3685963\ttotal: 1m 33s\tremaining: 1m 58s\n",
      "441:\tlearn: 0.3683168\ttotal: 1m 33s\tremaining: 1m 58s\n",
      "442:\tlearn: 0.3679950\ttotal: 1m 33s\tremaining: 1m 57s\n",
      "443:\tlearn: 0.3675797\ttotal: 1m 33s\tremaining: 1m 57s\n",
      "444:\tlearn: 0.3673345\ttotal: 1m 34s\tremaining: 1m 57s\n",
      "445:\tlearn: 0.3669403\ttotal: 1m 34s\tremaining: 1m 57s\n",
      "446:\tlearn: 0.3666424\ttotal: 1m 34s\tremaining: 1m 57s\n",
      "447:\tlearn: 0.3663921\ttotal: 1m 34s\tremaining: 1m 56s\n",
      "448:\tlearn: 0.3661793\ttotal: 1m 34s\tremaining: 1m 56s\n",
      "449:\tlearn: 0.3657838\ttotal: 1m 35s\tremaining: 1m 56s\n",
      "450:\tlearn: 0.3655599\ttotal: 1m 35s\tremaining: 1m 56s\n",
      "451:\tlearn: 0.3652497\ttotal: 1m 35s\tremaining: 1m 55s\n",
      "452:\tlearn: 0.3648167\ttotal: 1m 35s\tremaining: 1m 55s\n",
      "453:\tlearn: 0.3644570\ttotal: 1m 35s\tremaining: 1m 55s\n",
      "454:\tlearn: 0.3642704\ttotal: 1m 36s\tremaining: 1m 55s\n",
      "455:\tlearn: 0.3639814\ttotal: 1m 36s\tremaining: 1m 55s\n",
      "456:\tlearn: 0.3637085\ttotal: 1m 36s\tremaining: 1m 54s\n",
      "457:\tlearn: 0.3633298\ttotal: 1m 36s\tremaining: 1m 54s\n",
      "458:\tlearn: 0.3630141\ttotal: 1m 36s\tremaining: 1m 54s\n",
      "459:\tlearn: 0.3626638\ttotal: 1m 37s\tremaining: 1m 54s\n",
      "460:\tlearn: 0.3624781\ttotal: 1m 37s\tremaining: 1m 53s\n",
      "461:\tlearn: 0.3621498\ttotal: 1m 37s\tremaining: 1m 53s\n",
      "462:\tlearn: 0.3617974\ttotal: 1m 37s\tremaining: 1m 53s\n",
      "463:\tlearn: 0.3612710\ttotal: 1m 37s\tremaining: 1m 53s\n",
      "464:\tlearn: 0.3610669\ttotal: 1m 38s\tremaining: 1m 53s\n",
      "465:\tlearn: 0.3607853\ttotal: 1m 38s\tremaining: 1m 52s\n",
      "466:\tlearn: 0.3603611\ttotal: 1m 38s\tremaining: 1m 52s\n",
      "467:\tlearn: 0.3600214\ttotal: 1m 38s\tremaining: 1m 52s\n",
      "468:\tlearn: 0.3597033\ttotal: 1m 39s\tremaining: 1m 52s\n",
      "469:\tlearn: 0.3595238\ttotal: 1m 39s\tremaining: 1m 52s\n",
      "470:\tlearn: 0.3592832\ttotal: 1m 39s\tremaining: 1m 51s\n",
      "471:\tlearn: 0.3589278\ttotal: 1m 39s\tremaining: 1m 51s\n",
      "472:\tlearn: 0.3586907\ttotal: 1m 40s\tremaining: 1m 51s\n",
      "473:\tlearn: 0.3584903\ttotal: 1m 40s\tremaining: 1m 51s\n",
      "474:\tlearn: 0.3583395\ttotal: 1m 40s\tremaining: 1m 51s\n",
      "475:\tlearn: 0.3580547\ttotal: 1m 40s\tremaining: 1m 50s\n",
      "476:\tlearn: 0.3577189\ttotal: 1m 40s\tremaining: 1m 50s\n",
      "477:\tlearn: 0.3573842\ttotal: 1m 41s\tremaining: 1m 50s\n",
      "478:\tlearn: 0.3571924\ttotal: 1m 41s\tremaining: 1m 50s\n",
      "479:\tlearn: 0.3569002\ttotal: 1m 41s\tremaining: 1m 50s\n",
      "480:\tlearn: 0.3567252\ttotal: 1m 41s\tremaining: 1m 49s\n",
      "481:\tlearn: 0.3565556\ttotal: 1m 42s\tremaining: 1m 49s\n",
      "482:\tlearn: 0.3562948\ttotal: 1m 42s\tremaining: 1m 49s\n",
      "483:\tlearn: 0.3559421\ttotal: 1m 42s\tremaining: 1m 49s\n",
      "484:\tlearn: 0.3555944\ttotal: 1m 42s\tremaining: 1m 49s\n",
      "485:\tlearn: 0.3554330\ttotal: 1m 42s\tremaining: 1m 48s\n",
      "486:\tlearn: 0.3550861\ttotal: 1m 43s\tremaining: 1m 48s\n",
      "487:\tlearn: 0.3548461\ttotal: 1m 43s\tremaining: 1m 48s\n",
      "488:\tlearn: 0.3545014\ttotal: 1m 43s\tremaining: 1m 48s\n",
      "489:\tlearn: 0.3542515\ttotal: 1m 43s\tremaining: 1m 47s\n",
      "490:\tlearn: 0.3539486\ttotal: 1m 43s\tremaining: 1m 47s\n",
      "491:\tlearn: 0.3538361\ttotal: 1m 44s\tremaining: 1m 47s\n",
      "492:\tlearn: 0.3536411\ttotal: 1m 44s\tremaining: 1m 47s\n",
      "493:\tlearn: 0.3534137\ttotal: 1m 44s\tremaining: 1m 47s\n",
      "494:\tlearn: 0.3531726\ttotal: 1m 44s\tremaining: 1m 46s\n",
      "495:\tlearn: 0.3530324\ttotal: 1m 44s\tremaining: 1m 46s\n",
      "496:\tlearn: 0.3528647\ttotal: 1m 44s\tremaining: 1m 46s\n",
      "497:\tlearn: 0.3524560\ttotal: 1m 45s\tremaining: 1m 46s\n",
      "498:\tlearn: 0.3522510\ttotal: 1m 45s\tremaining: 1m 45s\n",
      "499:\tlearn: 0.3521177\ttotal: 1m 45s\tremaining: 1m 45s\n",
      "500:\tlearn: 0.3517422\ttotal: 1m 45s\tremaining: 1m 45s\n",
      "501:\tlearn: 0.3515873\ttotal: 1m 45s\tremaining: 1m 45s\n",
      "502:\tlearn: 0.3514305\ttotal: 1m 46s\tremaining: 1m 45s\n",
      "503:\tlearn: 0.3510971\ttotal: 1m 46s\tremaining: 1m 44s\n",
      "504:\tlearn: 0.3506596\ttotal: 1m 46s\tremaining: 1m 44s\n",
      "505:\tlearn: 0.3505076\ttotal: 1m 46s\tremaining: 1m 44s\n",
      "506:\tlearn: 0.3502686\ttotal: 1m 46s\tremaining: 1m 43s\n",
      "507:\tlearn: 0.3500489\ttotal: 1m 47s\tremaining: 1m 43s\n",
      "508:\tlearn: 0.3498117\ttotal: 1m 47s\tremaining: 1m 43s\n",
      "509:\tlearn: 0.3496769\ttotal: 1m 47s\tremaining: 1m 43s\n",
      "510:\tlearn: 0.3494964\ttotal: 1m 47s\tremaining: 1m 43s\n",
      "511:\tlearn: 0.3491603\ttotal: 1m 47s\tremaining: 1m 42s\n",
      "512:\tlearn: 0.3488019\ttotal: 1m 48s\tremaining: 1m 42s\n",
      "513:\tlearn: 0.3485071\ttotal: 1m 48s\tremaining: 1m 42s\n",
      "514:\tlearn: 0.3481538\ttotal: 1m 48s\tremaining: 1m 42s\n",
      "515:\tlearn: 0.3479698\ttotal: 1m 48s\tremaining: 1m 41s\n",
      "516:\tlearn: 0.3476272\ttotal: 1m 48s\tremaining: 1m 41s\n",
      "517:\tlearn: 0.3474397\ttotal: 1m 49s\tremaining: 1m 41s\n",
      "518:\tlearn: 0.3472545\ttotal: 1m 49s\tremaining: 1m 41s\n",
      "519:\tlearn: 0.3470124\ttotal: 1m 49s\tremaining: 1m 41s\n",
      "520:\tlearn: 0.3467915\ttotal: 1m 49s\tremaining: 1m 40s\n",
      "521:\tlearn: 0.3465337\ttotal: 1m 49s\tremaining: 1m 40s\n",
      "522:\tlearn: 0.3462537\ttotal: 1m 50s\tremaining: 1m 40s\n",
      "523:\tlearn: 0.3459608\ttotal: 1m 50s\tremaining: 1m 40s\n",
      "524:\tlearn: 0.3457481\ttotal: 1m 50s\tremaining: 1m 39s\n",
      "525:\tlearn: 0.3455860\ttotal: 1m 50s\tremaining: 1m 39s\n",
      "526:\tlearn: 0.3452324\ttotal: 1m 50s\tremaining: 1m 39s\n",
      "527:\tlearn: 0.3449119\ttotal: 1m 51s\tremaining: 1m 39s\n",
      "528:\tlearn: 0.3446299\ttotal: 1m 51s\tremaining: 1m 39s\n",
      "529:\tlearn: 0.3444272\ttotal: 1m 51s\tremaining: 1m 38s\n",
      "530:\tlearn: 0.3441795\ttotal: 1m 51s\tremaining: 1m 38s\n",
      "531:\tlearn: 0.3439905\ttotal: 1m 51s\tremaining: 1m 38s\n",
      "532:\tlearn: 0.3438346\ttotal: 1m 52s\tremaining: 1m 38s\n",
      "533:\tlearn: 0.3436136\ttotal: 1m 52s\tremaining: 1m 37s\n",
      "534:\tlearn: 0.3434197\ttotal: 1m 52s\tremaining: 1m 37s\n",
      "535:\tlearn: 0.3430265\ttotal: 1m 52s\tremaining: 1m 37s\n",
      "536:\tlearn: 0.3426954\ttotal: 1m 52s\tremaining: 1m 37s\n",
      "537:\tlearn: 0.3425054\ttotal: 1m 53s\tremaining: 1m 37s\n",
      "538:\tlearn: 0.3423209\ttotal: 1m 53s\tremaining: 1m 36s\n",
      "539:\tlearn: 0.3420469\ttotal: 1m 53s\tremaining: 1m 36s\n",
      "540:\tlearn: 0.3418768\ttotal: 1m 53s\tremaining: 1m 36s\n",
      "541:\tlearn: 0.3416928\ttotal: 1m 53s\tremaining: 1m 36s\n",
      "542:\tlearn: 0.3415550\ttotal: 1m 53s\tremaining: 1m 35s\n",
      "543:\tlearn: 0.3412579\ttotal: 1m 54s\tremaining: 1m 35s\n",
      "544:\tlearn: 0.3409290\ttotal: 1m 54s\tremaining: 1m 35s\n",
      "545:\tlearn: 0.3407410\ttotal: 1m 54s\tremaining: 1m 35s\n",
      "546:\tlearn: 0.3406308\ttotal: 1m 54s\tremaining: 1m 35s\n",
      "547:\tlearn: 0.3403892\ttotal: 1m 55s\tremaining: 1m 34s\n",
      "548:\tlearn: 0.3401085\ttotal: 1m 55s\tremaining: 1m 34s\n",
      "549:\tlearn: 0.3398740\ttotal: 1m 55s\tremaining: 1m 34s\n",
      "550:\tlearn: 0.3397103\ttotal: 1m 55s\tremaining: 1m 34s\n",
      "551:\tlearn: 0.3393757\ttotal: 1m 56s\tremaining: 1m 34s\n",
      "552:\tlearn: 0.3390807\ttotal: 1m 56s\tremaining: 1m 33s\n",
      "553:\tlearn: 0.3389101\ttotal: 1m 56s\tremaining: 1m 33s\n",
      "554:\tlearn: 0.3385633\ttotal: 1m 56s\tremaining: 1m 33s\n",
      "555:\tlearn: 0.3383820\ttotal: 1m 57s\tremaining: 1m 33s\n",
      "556:\tlearn: 0.3382550\ttotal: 1m 57s\tremaining: 1m 33s\n",
      "557:\tlearn: 0.3381477\ttotal: 1m 57s\tremaining: 1m 32s\n",
      "558:\tlearn: 0.3379459\ttotal: 1m 57s\tremaining: 1m 32s\n",
      "559:\tlearn: 0.3377842\ttotal: 1m 57s\tremaining: 1m 32s\n",
      "560:\tlearn: 0.3376214\ttotal: 1m 58s\tremaining: 1m 32s\n",
      "561:\tlearn: 0.3373604\ttotal: 1m 58s\tremaining: 1m 32s\n",
      "562:\tlearn: 0.3371156\ttotal: 1m 58s\tremaining: 1m 32s\n",
      "563:\tlearn: 0.3368779\ttotal: 1m 58s\tremaining: 1m 31s\n",
      "564:\tlearn: 0.3366321\ttotal: 1m 58s\tremaining: 1m 31s\n",
      "565:\tlearn: 0.3364415\ttotal: 1m 59s\tremaining: 1m 31s\n",
      "566:\tlearn: 0.3363278\ttotal: 1m 59s\tremaining: 1m 31s\n",
      "567:\tlearn: 0.3361695\ttotal: 1m 59s\tremaining: 1m 30s\n",
      "568:\tlearn: 0.3359004\ttotal: 1m 59s\tremaining: 1m 30s\n",
      "569:\tlearn: 0.3357348\ttotal: 1m 59s\tremaining: 1m 30s\n",
      "570:\tlearn: 0.3355686\ttotal: 2m\tremaining: 1m 30s\n",
      "571:\tlearn: 0.3353489\ttotal: 2m\tremaining: 1m 29s\n",
      "572:\tlearn: 0.3351224\ttotal: 2m\tremaining: 1m 29s\n",
      "573:\tlearn: 0.3349440\ttotal: 2m\tremaining: 1m 29s\n",
      "574:\tlearn: 0.3347440\ttotal: 2m\tremaining: 1m 29s\n",
      "575:\tlearn: 0.3346694\ttotal: 2m\tremaining: 1m 29s\n",
      "576:\tlearn: 0.3344040\ttotal: 2m 1s\tremaining: 1m 28s\n",
      "577:\tlearn: 0.3342021\ttotal: 2m 1s\tremaining: 1m 28s\n",
      "578:\tlearn: 0.3339156\ttotal: 2m 1s\tremaining: 1m 28s\n",
      "579:\tlearn: 0.3337633\ttotal: 2m 1s\tremaining: 1m 28s\n",
      "580:\tlearn: 0.3335499\ttotal: 2m 2s\tremaining: 1m 27s\n",
      "581:\tlearn: 0.3333661\ttotal: 2m 2s\tremaining: 1m 27s\n",
      "582:\tlearn: 0.3331774\ttotal: 2m 2s\tremaining: 1m 27s\n",
      "583:\tlearn: 0.3329841\ttotal: 2m 2s\tremaining: 1m 27s\n",
      "584:\tlearn: 0.3327783\ttotal: 2m 2s\tremaining: 1m 27s\n",
      "585:\tlearn: 0.3326768\ttotal: 2m 2s\tremaining: 1m 26s\n",
      "586:\tlearn: 0.3325066\ttotal: 2m 3s\tremaining: 1m 26s\n",
      "587:\tlearn: 0.3323506\ttotal: 2m 3s\tremaining: 1m 26s\n",
      "588:\tlearn: 0.3322019\ttotal: 2m 3s\tremaining: 1m 26s\n",
      "589:\tlearn: 0.3320401\ttotal: 2m 3s\tremaining: 1m 26s\n",
      "590:\tlearn: 0.3317899\ttotal: 2m 3s\tremaining: 1m 25s\n",
      "591:\tlearn: 0.3316101\ttotal: 2m 4s\tremaining: 1m 25s\n",
      "592:\tlearn: 0.3313459\ttotal: 2m 4s\tremaining: 1m 25s\n",
      "593:\tlearn: 0.3311483\ttotal: 2m 4s\tremaining: 1m 25s\n",
      "594:\tlearn: 0.3309948\ttotal: 2m 4s\tremaining: 1m 24s\n",
      "595:\tlearn: 0.3308384\ttotal: 2m 4s\tremaining: 1m 24s\n",
      "596:\tlearn: 0.3306825\ttotal: 2m 5s\tremaining: 1m 24s\n",
      "597:\tlearn: 0.3305007\ttotal: 2m 5s\tremaining: 1m 24s\n",
      "598:\tlearn: 0.3302279\ttotal: 2m 5s\tremaining: 1m 24s\n",
      "599:\tlearn: 0.3299906\ttotal: 2m 5s\tremaining: 1m 23s\n",
      "600:\tlearn: 0.3297961\ttotal: 2m 5s\tremaining: 1m 23s\n",
      "601:\tlearn: 0.3295118\ttotal: 2m 6s\tremaining: 1m 23s\n",
      "602:\tlearn: 0.3292579\ttotal: 2m 6s\tremaining: 1m 23s\n",
      "603:\tlearn: 0.3290399\ttotal: 2m 6s\tremaining: 1m 23s\n",
      "604:\tlearn: 0.3288588\ttotal: 2m 6s\tremaining: 1m 22s\n",
      "605:\tlearn: 0.3287103\ttotal: 2m 6s\tremaining: 1m 22s\n",
      "606:\tlearn: 0.3285320\ttotal: 2m 7s\tremaining: 1m 22s\n",
      "607:\tlearn: 0.3283952\ttotal: 2m 7s\tremaining: 1m 22s\n",
      "608:\tlearn: 0.3281583\ttotal: 2m 7s\tremaining: 1m 21s\n",
      "609:\tlearn: 0.3279498\ttotal: 2m 7s\tremaining: 1m 21s\n",
      "610:\tlearn: 0.3277067\ttotal: 2m 8s\tremaining: 1m 21s\n",
      "611:\tlearn: 0.3274844\ttotal: 2m 8s\tremaining: 1m 21s\n",
      "612:\tlearn: 0.3272766\ttotal: 2m 8s\tremaining: 1m 21s\n",
      "613:\tlearn: 0.3271241\ttotal: 2m 8s\tremaining: 1m 20s\n",
      "614:\tlearn: 0.3269200\ttotal: 2m 8s\tremaining: 1m 20s\n",
      "615:\tlearn: 0.3267514\ttotal: 2m 9s\tremaining: 1m 20s\n",
      "616:\tlearn: 0.3265861\ttotal: 2m 9s\tremaining: 1m 20s\n",
      "617:\tlearn: 0.3263478\ttotal: 2m 9s\tremaining: 1m 19s\n",
      "618:\tlearn: 0.3260928\ttotal: 2m 9s\tremaining: 1m 19s\n",
      "619:\tlearn: 0.3259353\ttotal: 2m 9s\tremaining: 1m 19s\n",
      "620:\tlearn: 0.3256919\ttotal: 2m 10s\tremaining: 1m 19s\n",
      "621:\tlearn: 0.3255135\ttotal: 2m 10s\tremaining: 1m 19s\n",
      "622:\tlearn: 0.3254291\ttotal: 2m 10s\tremaining: 1m 18s\n",
      "623:\tlearn: 0.3253371\ttotal: 2m 10s\tremaining: 1m 18s\n",
      "624:\tlearn: 0.3251248\ttotal: 2m 11s\tremaining: 1m 18s\n",
      "625:\tlearn: 0.3249646\ttotal: 2m 11s\tremaining: 1m 18s\n",
      "626:\tlearn: 0.3247304\ttotal: 2m 11s\tremaining: 1m 18s\n",
      "627:\tlearn: 0.3245846\ttotal: 2m 11s\tremaining: 1m 17s\n",
      "628:\tlearn: 0.3244361\ttotal: 2m 11s\tremaining: 1m 17s\n",
      "629:\tlearn: 0.3242808\ttotal: 2m 12s\tremaining: 1m 17s\n",
      "630:\tlearn: 0.3241621\ttotal: 2m 12s\tremaining: 1m 17s\n",
      "631:\tlearn: 0.3239001\ttotal: 2m 12s\tremaining: 1m 17s\n",
      "632:\tlearn: 0.3237169\ttotal: 2m 12s\tremaining: 1m 16s\n",
      "633:\tlearn: 0.3234959\ttotal: 2m 13s\tremaining: 1m 16s\n",
      "634:\tlearn: 0.3233566\ttotal: 2m 13s\tremaining: 1m 16s\n",
      "635:\tlearn: 0.3231031\ttotal: 2m 13s\tremaining: 1m 16s\n",
      "636:\tlearn: 0.3229201\ttotal: 2m 13s\tremaining: 1m 16s\n",
      "637:\tlearn: 0.3228297\ttotal: 2m 13s\tremaining: 1m 15s\n",
      "638:\tlearn: 0.3226841\ttotal: 2m 14s\tremaining: 1m 15s\n",
      "639:\tlearn: 0.3225208\ttotal: 2m 14s\tremaining: 1m 15s\n",
      "640:\tlearn: 0.3222719\ttotal: 2m 14s\tremaining: 1m 15s\n",
      "641:\tlearn: 0.3220599\ttotal: 2m 14s\tremaining: 1m 15s\n",
      "642:\tlearn: 0.3218654\ttotal: 2m 14s\tremaining: 1m 14s\n",
      "643:\tlearn: 0.3216360\ttotal: 2m 15s\tremaining: 1m 14s\n",
      "644:\tlearn: 0.3213996\ttotal: 2m 15s\tremaining: 1m 14s\n",
      "645:\tlearn: 0.3211944\ttotal: 2m 15s\tremaining: 1m 14s\n",
      "646:\tlearn: 0.3210412\ttotal: 2m 15s\tremaining: 1m 13s\n",
      "647:\tlearn: 0.3208668\ttotal: 2m 15s\tremaining: 1m 13s\n",
      "648:\tlearn: 0.3207586\ttotal: 2m 16s\tremaining: 1m 13s\n",
      "649:\tlearn: 0.3205061\ttotal: 2m 16s\tremaining: 1m 13s\n",
      "650:\tlearn: 0.3204115\ttotal: 2m 16s\tremaining: 1m 13s\n",
      "651:\tlearn: 0.3202961\ttotal: 2m 16s\tremaining: 1m 12s\n",
      "652:\tlearn: 0.3199542\ttotal: 2m 16s\tremaining: 1m 12s\n",
      "653:\tlearn: 0.3196519\ttotal: 2m 17s\tremaining: 1m 12s\n",
      "654:\tlearn: 0.3194295\ttotal: 2m 17s\tremaining: 1m 12s\n",
      "655:\tlearn: 0.3191532\ttotal: 2m 17s\tremaining: 1m 12s\n",
      "656:\tlearn: 0.3190458\ttotal: 2m 17s\tremaining: 1m 11s\n",
      "657:\tlearn: 0.3188898\ttotal: 2m 17s\tremaining: 1m 11s\n",
      "658:\tlearn: 0.3186867\ttotal: 2m 18s\tremaining: 1m 11s\n",
      "659:\tlearn: 0.3185108\ttotal: 2m 18s\tremaining: 1m 11s\n",
      "660:\tlearn: 0.3183039\ttotal: 2m 18s\tremaining: 1m 10s\n",
      "661:\tlearn: 0.3181767\ttotal: 2m 18s\tremaining: 1m 10s\n",
      "662:\tlearn: 0.3180776\ttotal: 2m 18s\tremaining: 1m 10s\n",
      "663:\tlearn: 0.3179734\ttotal: 2m 18s\tremaining: 1m 10s\n",
      "664:\tlearn: 0.3178485\ttotal: 2m 19s\tremaining: 1m 10s\n",
      "665:\tlearn: 0.3177263\ttotal: 2m 19s\tremaining: 1m 9s\n",
      "666:\tlearn: 0.3174868\ttotal: 2m 19s\tremaining: 1m 9s\n",
      "667:\tlearn: 0.3173524\ttotal: 2m 19s\tremaining: 1m 9s\n",
      "668:\tlearn: 0.3171953\ttotal: 2m 19s\tremaining: 1m 9s\n",
      "669:\tlearn: 0.3170002\ttotal: 2m 20s\tremaining: 1m 8s\n",
      "670:\tlearn: 0.3168692\ttotal: 2m 20s\tremaining: 1m 8s\n",
      "671:\tlearn: 0.3166201\ttotal: 2m 20s\tremaining: 1m 8s\n",
      "672:\tlearn: 0.3164326\ttotal: 2m 20s\tremaining: 1m 8s\n",
      "673:\tlearn: 0.3161884\ttotal: 2m 20s\tremaining: 1m 8s\n",
      "674:\tlearn: 0.3159922\ttotal: 2m 21s\tremaining: 1m 7s\n",
      "675:\tlearn: 0.3158389\ttotal: 2m 21s\tremaining: 1m 7s\n",
      "676:\tlearn: 0.3156738\ttotal: 2m 21s\tremaining: 1m 7s\n",
      "677:\tlearn: 0.3155233\ttotal: 2m 21s\tremaining: 1m 7s\n",
      "678:\tlearn: 0.3152469\ttotal: 2m 22s\tremaining: 1m 7s\n",
      "679:\tlearn: 0.3150725\ttotal: 2m 22s\tremaining: 1m 7s\n",
      "680:\tlearn: 0.3149120\ttotal: 2m 22s\tremaining: 1m 6s\n",
      "681:\tlearn: 0.3146421\ttotal: 2m 22s\tremaining: 1m 6s\n",
      "682:\tlearn: 0.3145068\ttotal: 2m 23s\tremaining: 1m 6s\n",
      "683:\tlearn: 0.3143743\ttotal: 2m 23s\tremaining: 1m 6s\n",
      "684:\tlearn: 0.3142003\ttotal: 2m 23s\tremaining: 1m 6s\n",
      "685:\tlearn: 0.3141087\ttotal: 2m 23s\tremaining: 1m 5s\n",
      "686:\tlearn: 0.3139684\ttotal: 2m 23s\tremaining: 1m 5s\n",
      "687:\tlearn: 0.3138530\ttotal: 2m 24s\tremaining: 1m 5s\n",
      "688:\tlearn: 0.3136833\ttotal: 2m 24s\tremaining: 1m 5s\n",
      "689:\tlearn: 0.3135060\ttotal: 2m 24s\tremaining: 1m 4s\n",
      "690:\tlearn: 0.3133270\ttotal: 2m 24s\tremaining: 1m 4s\n",
      "691:\tlearn: 0.3130923\ttotal: 2m 25s\tremaining: 1m 4s\n",
      "692:\tlearn: 0.3129535\ttotal: 2m 25s\tremaining: 1m 4s\n",
      "693:\tlearn: 0.3128397\ttotal: 2m 25s\tremaining: 1m 4s\n",
      "694:\tlearn: 0.3126283\ttotal: 2m 25s\tremaining: 1m 3s\n",
      "695:\tlearn: 0.3124044\ttotal: 2m 25s\tremaining: 1m 3s\n",
      "696:\tlearn: 0.3123420\ttotal: 2m 26s\tremaining: 1m 3s\n",
      "697:\tlearn: 0.3121831\ttotal: 2m 26s\tremaining: 1m 3s\n",
      "698:\tlearn: 0.3121207\ttotal: 2m 26s\tremaining: 1m 3s\n",
      "699:\tlearn: 0.3119371\ttotal: 2m 26s\tremaining: 1m 2s\n",
      "700:\tlearn: 0.3118041\ttotal: 2m 26s\tremaining: 1m 2s\n",
      "701:\tlearn: 0.3116833\ttotal: 2m 27s\tremaining: 1m 2s\n",
      "702:\tlearn: 0.3115965\ttotal: 2m 27s\tremaining: 1m 2s\n",
      "703:\tlearn: 0.3115017\ttotal: 2m 27s\tremaining: 1m 2s\n",
      "704:\tlearn: 0.3113993\ttotal: 2m 27s\tremaining: 1m 1s\n",
      "705:\tlearn: 0.3112267\ttotal: 2m 28s\tremaining: 1m 1s\n",
      "706:\tlearn: 0.3110835\ttotal: 2m 28s\tremaining: 1m 1s\n",
      "707:\tlearn: 0.3109668\ttotal: 2m 28s\tremaining: 1m 1s\n",
      "708:\tlearn: 0.3107791\ttotal: 2m 28s\tremaining: 1m 1s\n",
      "709:\tlearn: 0.3106977\ttotal: 2m 28s\tremaining: 1m\n",
      "710:\tlearn: 0.3104639\ttotal: 2m 29s\tremaining: 1m\n",
      "711:\tlearn: 0.3102861\ttotal: 2m 29s\tremaining: 1m\n",
      "712:\tlearn: 0.3101382\ttotal: 2m 29s\tremaining: 1m\n",
      "713:\tlearn: 0.3098973\ttotal: 2m 29s\tremaining: 1m\n",
      "714:\tlearn: 0.3098047\ttotal: 2m 30s\tremaining: 59.8s\n",
      "715:\tlearn: 0.3096956\ttotal: 2m 30s\tremaining: 59.7s\n",
      "716:\tlearn: 0.3095425\ttotal: 2m 30s\tremaining: 59.4s\n",
      "717:\tlearn: 0.3094031\ttotal: 2m 30s\tremaining: 59.2s\n",
      "718:\tlearn: 0.3092626\ttotal: 2m 30s\tremaining: 59s\n",
      "719:\tlearn: 0.3091240\ttotal: 2m 31s\tremaining: 58.7s\n",
      "720:\tlearn: 0.3089091\ttotal: 2m 31s\tremaining: 58.6s\n",
      "721:\tlearn: 0.3087312\ttotal: 2m 31s\tremaining: 58.4s\n",
      "722:\tlearn: 0.3086384\ttotal: 2m 31s\tremaining: 58.1s\n",
      "723:\tlearn: 0.3084764\ttotal: 2m 31s\tremaining: 57.9s\n",
      "724:\tlearn: 0.3083044\ttotal: 2m 32s\tremaining: 57.7s\n",
      "725:\tlearn: 0.3082006\ttotal: 2m 32s\tremaining: 57.5s\n",
      "726:\tlearn: 0.3081101\ttotal: 2m 32s\tremaining: 57.3s\n",
      "727:\tlearn: 0.3079945\ttotal: 2m 32s\tremaining: 57s\n",
      "728:\tlearn: 0.3077642\ttotal: 2m 32s\tremaining: 56.8s\n",
      "729:\tlearn: 0.3076086\ttotal: 2m 32s\tremaining: 56.6s\n",
      "730:\tlearn: 0.3074627\ttotal: 2m 33s\tremaining: 56.4s\n",
      "731:\tlearn: 0.3073057\ttotal: 2m 33s\tremaining: 56.2s\n",
      "732:\tlearn: 0.3072155\ttotal: 2m 33s\tremaining: 55.9s\n",
      "733:\tlearn: 0.3071431\ttotal: 2m 33s\tremaining: 55.7s\n",
      "734:\tlearn: 0.3069436\ttotal: 2m 34s\tremaining: 55.6s\n",
      "735:\tlearn: 0.3067717\ttotal: 2m 34s\tremaining: 55.3s\n",
      "736:\tlearn: 0.3066398\ttotal: 2m 34s\tremaining: 55.1s\n",
      "737:\tlearn: 0.3065179\ttotal: 2m 34s\tremaining: 54.9s\n",
      "738:\tlearn: 0.3064037\ttotal: 2m 34s\tremaining: 54.7s\n",
      "739:\tlearn: 0.3062731\ttotal: 2m 35s\tremaining: 54.5s\n",
      "740:\tlearn: 0.3061286\ttotal: 2m 35s\tremaining: 54.3s\n",
      "741:\tlearn: 0.3060021\ttotal: 2m 35s\tremaining: 54s\n",
      "742:\tlearn: 0.3058983\ttotal: 2m 35s\tremaining: 53.9s\n",
      "743:\tlearn: 0.3056812\ttotal: 2m 36s\tremaining: 53.7s\n",
      "744:\tlearn: 0.3055923\ttotal: 2m 36s\tremaining: 53.4s\n",
      "745:\tlearn: 0.3054586\ttotal: 2m 36s\tremaining: 53.2s\n",
      "746:\tlearn: 0.3053227\ttotal: 2m 36s\tremaining: 53s\n",
      "747:\tlearn: 0.3051942\ttotal: 2m 36s\tremaining: 52.8s\n",
      "748:\tlearn: 0.3051048\ttotal: 2m 36s\tremaining: 52.6s\n",
      "749:\tlearn: 0.3050250\ttotal: 2m 37s\tremaining: 52.4s\n",
      "750:\tlearn: 0.3048582\ttotal: 2m 37s\tremaining: 52.1s\n",
      "751:\tlearn: 0.3046954\ttotal: 2m 37s\tremaining: 51.9s\n",
      "752:\tlearn: 0.3046280\ttotal: 2m 37s\tremaining: 51.7s\n",
      "753:\tlearn: 0.3044591\ttotal: 2m 37s\tremaining: 51.5s\n",
      "754:\tlearn: 0.3043515\ttotal: 2m 38s\tremaining: 51.3s\n",
      "755:\tlearn: 0.3042250\ttotal: 2m 38s\tremaining: 51s\n",
      "756:\tlearn: 0.3041459\ttotal: 2m 38s\tremaining: 50.8s\n",
      "757:\tlearn: 0.3039735\ttotal: 2m 38s\tremaining: 50.6s\n",
      "758:\tlearn: 0.3038234\ttotal: 2m 38s\tremaining: 50.4s\n",
      "759:\tlearn: 0.3036580\ttotal: 2m 38s\tremaining: 50.2s\n",
      "760:\tlearn: 0.3035328\ttotal: 2m 39s\tremaining: 50s\n",
      "761:\tlearn: 0.3034101\ttotal: 2m 39s\tremaining: 49.7s\n",
      "762:\tlearn: 0.3032577\ttotal: 2m 39s\tremaining: 49.5s\n",
      "763:\tlearn: 0.3031348\ttotal: 2m 39s\tremaining: 49.4s\n",
      "764:\tlearn: 0.3030212\ttotal: 2m 39s\tremaining: 49.1s\n",
      "765:\tlearn: 0.3029383\ttotal: 2m 40s\tremaining: 48.9s\n",
      "766:\tlearn: 0.3028135\ttotal: 2m 40s\tremaining: 48.6s\n",
      "767:\tlearn: 0.3026823\ttotal: 2m 40s\tremaining: 48.5s\n",
      "768:\tlearn: 0.3025766\ttotal: 2m 40s\tremaining: 48.3s\n",
      "769:\tlearn: 0.3024765\ttotal: 2m 40s\tremaining: 48.1s\n",
      "770:\tlearn: 0.3023804\ttotal: 2m 41s\tremaining: 47.8s\n",
      "771:\tlearn: 0.3022874\ttotal: 2m 41s\tremaining: 47.6s\n",
      "772:\tlearn: 0.3020692\ttotal: 2m 41s\tremaining: 47.4s\n",
      "773:\tlearn: 0.3019191\ttotal: 2m 41s\tremaining: 47.2s\n",
      "774:\tlearn: 0.3017644\ttotal: 2m 41s\tremaining: 47s\n",
      "775:\tlearn: 0.3016513\ttotal: 2m 41s\tremaining: 46.8s\n",
      "776:\tlearn: 0.3014810\ttotal: 2m 42s\tremaining: 46.5s\n",
      "777:\tlearn: 0.3013652\ttotal: 2m 42s\tremaining: 46.4s\n",
      "778:\tlearn: 0.3011641\ttotal: 2m 42s\tremaining: 46.2s\n",
      "779:\tlearn: 0.3010385\ttotal: 2m 42s\tremaining: 46s\n",
      "780:\tlearn: 0.3009103\ttotal: 2m 43s\tremaining: 45.7s\n",
      "781:\tlearn: 0.3007163\ttotal: 2m 43s\tremaining: 45.5s\n",
      "782:\tlearn: 0.3005969\ttotal: 2m 43s\tremaining: 45.4s\n",
      "783:\tlearn: 0.3004702\ttotal: 2m 43s\tremaining: 45.2s\n",
      "784:\tlearn: 0.3003252\ttotal: 2m 44s\tremaining: 44.9s\n",
      "785:\tlearn: 0.3002346\ttotal: 2m 44s\tremaining: 44.7s\n",
      "786:\tlearn: 0.3000424\ttotal: 2m 44s\tremaining: 44.6s\n",
      "787:\tlearn: 0.2999679\ttotal: 2m 44s\tremaining: 44.4s\n",
      "788:\tlearn: 0.2998416\ttotal: 2m 45s\tremaining: 44.1s\n",
      "789:\tlearn: 0.2997261\ttotal: 2m 45s\tremaining: 43.9s\n",
      "790:\tlearn: 0.2996383\ttotal: 2m 45s\tremaining: 43.7s\n",
      "791:\tlearn: 0.2995159\ttotal: 2m 45s\tremaining: 43.6s\n",
      "792:\tlearn: 0.2993196\ttotal: 2m 46s\tremaining: 43.3s\n",
      "793:\tlearn: 0.2991817\ttotal: 2m 46s\tremaining: 43.1s\n",
      "794:\tlearn: 0.2990758\ttotal: 2m 46s\tremaining: 42.9s\n",
      "795:\tlearn: 0.2989684\ttotal: 2m 46s\tremaining: 42.7s\n",
      "796:\tlearn: 0.2988448\ttotal: 2m 46s\tremaining: 42.5s\n",
      "797:\tlearn: 0.2986575\ttotal: 2m 47s\tremaining: 42.3s\n",
      "798:\tlearn: 0.2986070\ttotal: 2m 47s\tremaining: 42s\n",
      "799:\tlearn: 0.2985000\ttotal: 2m 47s\tremaining: 41.9s\n",
      "800:\tlearn: 0.2984098\ttotal: 2m 47s\tremaining: 41.7s\n",
      "801:\tlearn: 0.2982949\ttotal: 2m 47s\tremaining: 41.4s\n",
      "802:\tlearn: 0.2982410\ttotal: 2m 47s\tremaining: 41.2s\n",
      "803:\tlearn: 0.2981546\ttotal: 2m 48s\tremaining: 41s\n",
      "804:\tlearn: 0.2980302\ttotal: 2m 48s\tremaining: 40.8s\n",
      "805:\tlearn: 0.2979371\ttotal: 2m 48s\tremaining: 40.6s\n",
      "806:\tlearn: 0.2978066\ttotal: 2m 48s\tremaining: 40.4s\n",
      "807:\tlearn: 0.2976321\ttotal: 2m 48s\tremaining: 40.1s\n",
      "808:\tlearn: 0.2975712\ttotal: 2m 48s\tremaining: 39.9s\n",
      "809:\tlearn: 0.2974168\ttotal: 2m 49s\tremaining: 39.7s\n",
      "810:\tlearn: 0.2972047\ttotal: 2m 49s\tremaining: 39.5s\n",
      "811:\tlearn: 0.2971413\ttotal: 2m 49s\tremaining: 39.3s\n",
      "812:\tlearn: 0.2970539\ttotal: 2m 49s\tremaining: 39s\n",
      "813:\tlearn: 0.2969085\ttotal: 2m 49s\tremaining: 38.8s\n",
      "814:\tlearn: 0.2968395\ttotal: 2m 50s\tremaining: 38.6s\n",
      "815:\tlearn: 0.2967855\ttotal: 2m 50s\tremaining: 38.4s\n",
      "816:\tlearn: 0.2966856\ttotal: 2m 50s\tremaining: 38.2s\n",
      "817:\tlearn: 0.2965518\ttotal: 2m 50s\tremaining: 38s\n",
      "818:\tlearn: 0.2964209\ttotal: 2m 50s\tremaining: 37.7s\n",
      "819:\tlearn: 0.2963643\ttotal: 2m 51s\tremaining: 37.6s\n",
      "820:\tlearn: 0.2962412\ttotal: 2m 51s\tremaining: 37.4s\n",
      "821:\tlearn: 0.2961461\ttotal: 2m 51s\tremaining: 37.1s\n",
      "822:\tlearn: 0.2959416\ttotal: 2m 51s\tremaining: 36.9s\n",
      "823:\tlearn: 0.2958579\ttotal: 2m 51s\tremaining: 36.7s\n",
      "824:\tlearn: 0.2957914\ttotal: 2m 52s\tremaining: 36.5s\n",
      "825:\tlearn: 0.2956794\ttotal: 2m 52s\tremaining: 36.3s\n",
      "826:\tlearn: 0.2956036\ttotal: 2m 52s\tremaining: 36.1s\n",
      "827:\tlearn: 0.2955290\ttotal: 2m 52s\tremaining: 35.8s\n",
      "828:\tlearn: 0.2954343\ttotal: 2m 52s\tremaining: 35.6s\n",
      "829:\tlearn: 0.2953019\ttotal: 2m 53s\tremaining: 35.4s\n",
      "830:\tlearn: 0.2951672\ttotal: 2m 53s\tremaining: 35.2s\n",
      "831:\tlearn: 0.2950864\ttotal: 2m 53s\tremaining: 35s\n",
      "832:\tlearn: 0.2949224\ttotal: 2m 53s\tremaining: 34.8s\n",
      "833:\tlearn: 0.2946901\ttotal: 2m 53s\tremaining: 34.6s\n",
      "834:\tlearn: 0.2945643\ttotal: 2m 54s\tremaining: 34.4s\n",
      "835:\tlearn: 0.2944062\ttotal: 2m 54s\tremaining: 34.2s\n",
      "836:\tlearn: 0.2942876\ttotal: 2m 54s\tremaining: 34s\n",
      "837:\tlearn: 0.2941206\ttotal: 2m 54s\tremaining: 33.7s\n",
      "838:\tlearn: 0.2939662\ttotal: 2m 54s\tremaining: 33.5s\n",
      "839:\tlearn: 0.2938269\ttotal: 2m 54s\tremaining: 33.3s\n",
      "840:\tlearn: 0.2936408\ttotal: 2m 55s\tremaining: 33.1s\n",
      "841:\tlearn: 0.2935722\ttotal: 2m 55s\tremaining: 32.9s\n",
      "842:\tlearn: 0.2934999\ttotal: 2m 55s\tremaining: 32.7s\n",
      "843:\tlearn: 0.2934069\ttotal: 2m 55s\tremaining: 32.5s\n",
      "844:\tlearn: 0.2932231\ttotal: 2m 56s\tremaining: 32.3s\n",
      "845:\tlearn: 0.2931493\ttotal: 2m 56s\tremaining: 32.1s\n",
      "846:\tlearn: 0.2930495\ttotal: 2m 56s\tremaining: 31.9s\n",
      "847:\tlearn: 0.2929891\ttotal: 2m 56s\tremaining: 31.6s\n",
      "848:\tlearn: 0.2928400\ttotal: 2m 56s\tremaining: 31.4s\n",
      "849:\tlearn: 0.2927515\ttotal: 2m 56s\tremaining: 31.2s\n",
      "850:\tlearn: 0.2926763\ttotal: 2m 57s\tremaining: 31s\n",
      "851:\tlearn: 0.2926117\ttotal: 2m 57s\tremaining: 30.8s\n",
      "852:\tlearn: 0.2924963\ttotal: 2m 57s\tremaining: 30.6s\n",
      "853:\tlearn: 0.2924116\ttotal: 2m 57s\tremaining: 30.3s\n",
      "854:\tlearn: 0.2922979\ttotal: 2m 57s\tremaining: 30.2s\n",
      "855:\tlearn: 0.2921675\ttotal: 2m 58s\tremaining: 30s\n",
      "856:\tlearn: 0.2921091\ttotal: 2m 58s\tremaining: 29.7s\n",
      "857:\tlearn: 0.2919691\ttotal: 2m 58s\tremaining: 29.5s\n",
      "858:\tlearn: 0.2918475\ttotal: 2m 58s\tremaining: 29.3s\n",
      "859:\tlearn: 0.2917784\ttotal: 2m 59s\tremaining: 29.2s\n",
      "860:\tlearn: 0.2916891\ttotal: 2m 59s\tremaining: 28.9s\n",
      "861:\tlearn: 0.2915190\ttotal: 2m 59s\tremaining: 28.7s\n",
      "862:\tlearn: 0.2914339\ttotal: 2m 59s\tremaining: 28.5s\n",
      "863:\tlearn: 0.2912530\ttotal: 3m\tremaining: 28.3s\n",
      "864:\tlearn: 0.2911577\ttotal: 3m\tremaining: 28.1s\n",
      "865:\tlearn: 0.2910066\ttotal: 3m\tremaining: 27.9s\n",
      "866:\tlearn: 0.2909174\ttotal: 3m\tremaining: 27.7s\n",
      "867:\tlearn: 0.2907824\ttotal: 3m\tremaining: 27.5s\n",
      "868:\tlearn: 0.2906419\ttotal: 3m 1s\tremaining: 27.3s\n",
      "869:\tlearn: 0.2905314\ttotal: 3m 1s\tremaining: 27.1s\n",
      "870:\tlearn: 0.2904463\ttotal: 3m 1s\tremaining: 26.9s\n",
      "871:\tlearn: 0.2903594\ttotal: 3m 1s\tremaining: 26.7s\n",
      "872:\tlearn: 0.2902911\ttotal: 3m 2s\tremaining: 26.5s\n",
      "873:\tlearn: 0.2901634\ttotal: 3m 2s\tremaining: 26.3s\n",
      "874:\tlearn: 0.2900599\ttotal: 3m 2s\tremaining: 26.1s\n",
      "875:\tlearn: 0.2899689\ttotal: 3m 2s\tremaining: 25.8s\n",
      "876:\tlearn: 0.2899168\ttotal: 3m 2s\tremaining: 25.6s\n",
      "877:\tlearn: 0.2898370\ttotal: 3m 3s\tremaining: 25.4s\n",
      "878:\tlearn: 0.2897432\ttotal: 3m 3s\tremaining: 25.2s\n",
      "879:\tlearn: 0.2896853\ttotal: 3m 3s\tremaining: 25s\n",
      "880:\tlearn: 0.2895694\ttotal: 3m 3s\tremaining: 24.8s\n",
      "881:\tlearn: 0.2894538\ttotal: 3m 3s\tremaining: 24.6s\n",
      "882:\tlearn: 0.2893599\ttotal: 3m 3s\tremaining: 24.4s\n",
      "883:\tlearn: 0.2892606\ttotal: 3m 4s\tremaining: 24.2s\n",
      "884:\tlearn: 0.2891144\ttotal: 3m 4s\tremaining: 24s\n",
      "885:\tlearn: 0.2890313\ttotal: 3m 4s\tremaining: 23.7s\n",
      "886:\tlearn: 0.2888973\ttotal: 3m 4s\tremaining: 23.5s\n",
      "887:\tlearn: 0.2887689\ttotal: 3m 5s\tremaining: 23.3s\n",
      "888:\tlearn: 0.2886671\ttotal: 3m 5s\tremaining: 23.1s\n",
      "889:\tlearn: 0.2885792\ttotal: 3m 5s\tremaining: 22.9s\n",
      "890:\tlearn: 0.2884998\ttotal: 3m 5s\tremaining: 22.7s\n",
      "891:\tlearn: 0.2884321\ttotal: 3m 5s\tremaining: 22.5s\n",
      "892:\tlearn: 0.2883557\ttotal: 3m 6s\tremaining: 22.3s\n",
      "893:\tlearn: 0.2882784\ttotal: 3m 6s\tremaining: 22.1s\n",
      "894:\tlearn: 0.2881233\ttotal: 3m 6s\tremaining: 21.9s\n",
      "895:\tlearn: 0.2879157\ttotal: 3m 6s\tremaining: 21.6s\n",
      "896:\tlearn: 0.2877537\ttotal: 3m 6s\tremaining: 21.5s\n",
      "897:\tlearn: 0.2876164\ttotal: 3m 7s\tremaining: 21.2s\n",
      "898:\tlearn: 0.2875103\ttotal: 3m 7s\tremaining: 21s\n",
      "899:\tlearn: 0.2874469\ttotal: 3m 7s\tremaining: 20.8s\n",
      "900:\tlearn: 0.2873500\ttotal: 3m 7s\tremaining: 20.6s\n",
      "901:\tlearn: 0.2872351\ttotal: 3m 7s\tremaining: 20.4s\n",
      "902:\tlearn: 0.2871354\ttotal: 3m 8s\tremaining: 20.2s\n",
      "903:\tlearn: 0.2870351\ttotal: 3m 8s\tremaining: 20s\n",
      "904:\tlearn: 0.2869377\ttotal: 3m 8s\tremaining: 19.8s\n",
      "905:\tlearn: 0.2868317\ttotal: 3m 8s\tremaining: 19.6s\n",
      "906:\tlearn: 0.2867436\ttotal: 3m 8s\tremaining: 19.4s\n",
      "907:\tlearn: 0.2866688\ttotal: 3m 8s\tremaining: 19.1s\n",
      "908:\tlearn: 0.2866129\ttotal: 3m 9s\tremaining: 18.9s\n",
      "909:\tlearn: 0.2865562\ttotal: 3m 9s\tremaining: 18.7s\n",
      "910:\tlearn: 0.2864786\ttotal: 3m 9s\tremaining: 18.5s\n",
      "911:\tlearn: 0.2863495\ttotal: 3m 9s\tremaining: 18.3s\n",
      "912:\tlearn: 0.2862820\ttotal: 3m 9s\tremaining: 18.1s\n",
      "913:\tlearn: 0.2861921\ttotal: 3m 10s\tremaining: 17.9s\n",
      "914:\tlearn: 0.2860856\ttotal: 3m 10s\tremaining: 17.7s\n",
      "915:\tlearn: 0.2860168\ttotal: 3m 10s\tremaining: 17.5s\n",
      "916:\tlearn: 0.2859511\ttotal: 3m 10s\tremaining: 17.3s\n",
      "917:\tlearn: 0.2858490\ttotal: 3m 10s\tremaining: 17.1s\n",
      "918:\tlearn: 0.2857031\ttotal: 3m 11s\tremaining: 16.8s\n",
      "919:\tlearn: 0.2856221\ttotal: 3m 11s\tremaining: 16.6s\n",
      "920:\tlearn: 0.2855308\ttotal: 3m 11s\tremaining: 16.4s\n",
      "921:\tlearn: 0.2853438\ttotal: 3m 11s\tremaining: 16.2s\n",
      "922:\tlearn: 0.2852800\ttotal: 3m 11s\tremaining: 16s\n",
      "923:\tlearn: 0.2851769\ttotal: 3m 12s\tremaining: 15.8s\n",
      "924:\tlearn: 0.2850402\ttotal: 3m 12s\tremaining: 15.6s\n",
      "925:\tlearn: 0.2848645\ttotal: 3m 12s\tremaining: 15.4s\n",
      "926:\tlearn: 0.2846934\ttotal: 3m 12s\tremaining: 15.2s\n",
      "927:\tlearn: 0.2846105\ttotal: 3m 12s\tremaining: 15s\n",
      "928:\tlearn: 0.2844993\ttotal: 3m 13s\tremaining: 14.8s\n",
      "929:\tlearn: 0.2844211\ttotal: 3m 13s\tremaining: 14.6s\n",
      "930:\tlearn: 0.2843320\ttotal: 3m 13s\tremaining: 14.3s\n",
      "931:\tlearn: 0.2842273\ttotal: 3m 13s\tremaining: 14.1s\n",
      "932:\tlearn: 0.2841019\ttotal: 3m 13s\tremaining: 13.9s\n",
      "933:\tlearn: 0.2840403\ttotal: 3m 14s\tremaining: 13.7s\n",
      "934:\tlearn: 0.2839487\ttotal: 3m 14s\tremaining: 13.5s\n",
      "935:\tlearn: 0.2838076\ttotal: 3m 14s\tremaining: 13.3s\n",
      "936:\tlearn: 0.2837216\ttotal: 3m 14s\tremaining: 13.1s\n",
      "937:\tlearn: 0.2835726\ttotal: 3m 15s\tremaining: 12.9s\n",
      "938:\tlearn: 0.2834693\ttotal: 3m 15s\tremaining: 12.7s\n",
      "939:\tlearn: 0.2834053\ttotal: 3m 15s\tremaining: 12.5s\n",
      "940:\tlearn: 0.2832960\ttotal: 3m 15s\tremaining: 12.3s\n",
      "941:\tlearn: 0.2831457\ttotal: 3m 16s\tremaining: 12.1s\n",
      "942:\tlearn: 0.2830526\ttotal: 3m 16s\tremaining: 11.9s\n",
      "943:\tlearn: 0.2829279\ttotal: 3m 16s\tremaining: 11.7s\n",
      "944:\tlearn: 0.2828672\ttotal: 3m 16s\tremaining: 11.5s\n",
      "945:\tlearn: 0.2827601\ttotal: 3m 17s\tremaining: 11.2s\n",
      "946:\tlearn: 0.2826920\ttotal: 3m 17s\tremaining: 11s\n",
      "947:\tlearn: 0.2825871\ttotal: 3m 17s\tremaining: 10.8s\n",
      "948:\tlearn: 0.2824334\ttotal: 3m 17s\tremaining: 10.6s\n",
      "949:\tlearn: 0.2822968\ttotal: 3m 18s\tremaining: 10.4s\n",
      "950:\tlearn: 0.2821430\ttotal: 3m 18s\tremaining: 10.2s\n",
      "951:\tlearn: 0.2820766\ttotal: 3m 18s\tremaining: 10s\n",
      "952:\tlearn: 0.2819073\ttotal: 3m 18s\tremaining: 9.8s\n",
      "953:\tlearn: 0.2818255\ttotal: 3m 18s\tremaining: 9.59s\n",
      "954:\tlearn: 0.2817398\ttotal: 3m 19s\tremaining: 9.38s\n",
      "955:\tlearn: 0.2816105\ttotal: 3m 19s\tremaining: 9.17s\n",
      "956:\tlearn: 0.2815316\ttotal: 3m 19s\tremaining: 8.96s\n",
      "957:\tlearn: 0.2813429\ttotal: 3m 19s\tremaining: 8.76s\n",
      "958:\tlearn: 0.2812698\ttotal: 3m 19s\tremaining: 8.54s\n",
      "959:\tlearn: 0.2811402\ttotal: 3m 20s\tremaining: 8.33s\n",
      "960:\tlearn: 0.2809714\ttotal: 3m 20s\tremaining: 8.12s\n",
      "961:\tlearn: 0.2808362\ttotal: 3m 20s\tremaining: 7.92s\n",
      "962:\tlearn: 0.2807265\ttotal: 3m 20s\tremaining: 7.71s\n",
      "963:\tlearn: 0.2806743\ttotal: 3m 20s\tremaining: 7.5s\n",
      "964:\tlearn: 0.2805330\ttotal: 3m 21s\tremaining: 7.29s\n",
      "965:\tlearn: 0.2804291\ttotal: 3m 21s\tremaining: 7.08s\n",
      "966:\tlearn: 0.2803266\ttotal: 3m 21s\tremaining: 6.88s\n",
      "967:\tlearn: 0.2802600\ttotal: 3m 21s\tremaining: 6.67s\n",
      "968:\tlearn: 0.2801833\ttotal: 3m 21s\tremaining: 6.46s\n",
      "969:\tlearn: 0.2800906\ttotal: 3m 22s\tremaining: 6.25s\n",
      "970:\tlearn: 0.2799957\ttotal: 3m 22s\tremaining: 6.04s\n",
      "971:\tlearn: 0.2799213\ttotal: 3m 22s\tremaining: 5.83s\n",
      "972:\tlearn: 0.2798757\ttotal: 3m 22s\tremaining: 5.63s\n",
      "973:\tlearn: 0.2797821\ttotal: 3m 22s\tremaining: 5.42s\n",
      "974:\tlearn: 0.2797017\ttotal: 3m 23s\tremaining: 5.21s\n",
      "975:\tlearn: 0.2795963\ttotal: 3m 23s\tremaining: 5s\n",
      "976:\tlearn: 0.2794905\ttotal: 3m 23s\tremaining: 4.79s\n",
      "977:\tlearn: 0.2794324\ttotal: 3m 23s\tremaining: 4.58s\n",
      "978:\tlearn: 0.2792227\ttotal: 3m 23s\tremaining: 4.37s\n",
      "979:\tlearn: 0.2791271\ttotal: 3m 23s\tremaining: 4.16s\n",
      "980:\tlearn: 0.2790461\ttotal: 3m 24s\tremaining: 3.95s\n",
      "981:\tlearn: 0.2789814\ttotal: 3m 24s\tremaining: 3.75s\n",
      "982:\tlearn: 0.2788351\ttotal: 3m 24s\tremaining: 3.54s\n",
      "983:\tlearn: 0.2787568\ttotal: 3m 24s\tremaining: 3.33s\n",
      "984:\tlearn: 0.2786191\ttotal: 3m 24s\tremaining: 3.12s\n",
      "985:\tlearn: 0.2785140\ttotal: 3m 25s\tremaining: 2.91s\n",
      "986:\tlearn: 0.2784582\ttotal: 3m 25s\tremaining: 2.71s\n",
      "987:\tlearn: 0.2783345\ttotal: 3m 25s\tremaining: 2.5s\n",
      "988:\tlearn: 0.2782894\ttotal: 3m 25s\tremaining: 2.29s\n",
      "989:\tlearn: 0.2782251\ttotal: 3m 25s\tremaining: 2.08s\n",
      "990:\tlearn: 0.2781066\ttotal: 3m 26s\tremaining: 1.87s\n",
      "991:\tlearn: 0.2779439\ttotal: 3m 26s\tremaining: 1.66s\n",
      "992:\tlearn: 0.2778941\ttotal: 3m 26s\tremaining: 1.46s\n",
      "993:\tlearn: 0.2778413\ttotal: 3m 26s\tremaining: 1.25s\n",
      "994:\tlearn: 0.2776914\ttotal: 3m 26s\tremaining: 1.04s\n",
      "995:\tlearn: 0.2776337\ttotal: 3m 26s\tremaining: 831ms\n",
      "996:\tlearn: 0.2775465\ttotal: 3m 27s\tremaining: 624ms\n",
      "997:\tlearn: 0.2774890\ttotal: 3m 27s\tremaining: 416ms\n",
      "998:\tlearn: 0.2774081\ttotal: 3m 27s\tremaining: 208ms\n",
      "999:\tlearn: 0.2773183\ttotal: 3m 27s\tremaining: 0us\n"
     ]
    },
    {
     "data": {
      "text/plain": [
       "<catboost.core.CatBoostClassifier at 0x16ab7021fa0>"
      ]
     },
     "execution_count": 86,
     "metadata": {},
     "output_type": "execute_result"
    }
   ],
   "source": [
    "lm=CatBoostClassifier()\n",
    "lm.fit(x_train,y_train)"
   ]
  },
  {
   "cell_type": "code",
   "execution_count": 87,
   "id": "8baa43f8",
   "metadata": {},
   "outputs": [],
   "source": [
    "y_pred=lm.predict(x_test)"
   ]
  },
  {
   "cell_type": "code",
   "execution_count": 88,
   "id": "29c5776b",
   "metadata": {},
   "outputs": [
    {
     "data": {
      "text/plain": [
       "array([1, 1, 1, ..., 1, 1, 1], dtype=int64)"
      ]
     },
     "execution_count": 88,
     "metadata": {},
     "output_type": "execute_result"
    }
   ],
   "source": [
    "y_pred"
   ]
  },
  {
   "cell_type": "code",
   "execution_count": 89,
   "id": "cef52906",
   "metadata": {},
   "outputs": [
    {
     "data": {
      "text/plain": [
       "0.929379425804846"
      ]
     },
     "execution_count": 89,
     "metadata": {},
     "output_type": "execute_result"
    }
   ],
   "source": [
    "accuracy_score(y_test,y_pred)"
   ]
  },
  {
   "cell_type": "code",
   "execution_count": 90,
   "id": "76a405d6",
   "metadata": {},
   "outputs": [
    {
     "data": {
      "text/plain": [
       "array([[39297,  4779],\n",
       "       [ 1464, 42862]], dtype=int64)"
      ]
     },
     "execution_count": 90,
     "metadata": {},
     "output_type": "execute_result"
    }
   ],
   "source": [
    "confusion_matrix(y_test,y_pred)"
   ]
  },
  {
   "cell_type": "code",
   "execution_count": 91,
   "id": "fc90054f",
   "metadata": {},
   "outputs": [
    {
     "data": {
      "text/plain": [
       "0.9292724570380997"
      ]
     },
     "execution_count": 91,
     "metadata": {},
     "output_type": "execute_result"
    }
   ],
   "source": [
    "f1(y_test,y_pred,average='weighted')"
   ]
  },
  {
   "cell_type": "code",
   "execution_count": 92,
   "id": "fe439412",
   "metadata": {},
   "outputs": [],
   "source": [
    "fpr,tpr,thresholds=roc_curve(y_test,y_pred)"
   ]
  },
  {
   "cell_type": "code",
   "execution_count": 93,
   "id": "66d99876",
   "metadata": {},
   "outputs": [
    {
     "data": {
      "text/plain": [
       "0.9292728129244726"
      ]
     },
     "execution_count": 93,
     "metadata": {},
     "output_type": "execute_result"
    }
   ],
   "source": [
    "auc = roc_auc_score(y_test,y_pred)\n",
    "auc"
   ]
  },
  {
   "cell_type": "code",
   "execution_count": 94,
   "id": "62ee74f8",
   "metadata": {},
   "outputs": [
    {
     "data": {
      "image/png": "[encoded data removed]",
      "text/plain": [
       "<Figure size 432x288 with 1 Axes>"
      ]
     },
     "metadata": {},
     "output_type": "display_data"
    }
   ],
   "source": [
    "plt.plot(fpr , tpr , color='orange',label='ROC')\n",
    "plt.plot([0,1],[0,1],color = 'darkblue',linestyle='--',label='ROC curve(area = %0.2f)'% auc)\n",
    "plt.xlabel('false positive rate')\n",
    "plt.ylabel('true positive rate')\n",
    "plt.title('receiver operating characterstics (ROC) curve')\n",
    "plt.legend()\n",
    "plt.show()"
   ]
  },
  {
   "cell_type": "markdown",
   "id": "50b82cbf",
   "metadata": {},
   "source": [
    "## Applying Light Boosting Classifier"
   ]
  },
  {
   "cell_type": "code",
   "execution_count": 95,
   "id": "ec0cb80e",
   "metadata": {},
   "outputs": [
    {
     "data": {
      "text/plain": [
       "LGBMClassifier()"
      ]
     },
     "execution_count": 95,
     "metadata": {},
     "output_type": "execute_result"
    }
   ],
   "source": [
    "lm=LGBMClassifier()\n",
    "lm.fit(x_train,y_train)"
   ]
  },
  {
   "cell_type": "code",
   "execution_count": 96,
   "id": "f62a9d9b",
   "metadata": {},
   "outputs": [],
   "source": [
    "y_pred=lm.predict(x_test)"
   ]
  },
  {
   "cell_type": "code",
   "execution_count": 97,
   "id": "759a8a28",
   "metadata": {},
   "outputs": [
    {
     "data": {
      "text/plain": [
       "array([0, 1, 1, ..., 1, 1, 1], dtype=int64)"
      ]
     },
     "execution_count": 97,
     "metadata": {},
     "output_type": "execute_result"
    }
   ],
   "source": [
    "y_pred"
   ]
  },
  {
   "cell_type": "code",
   "execution_count": 98,
   "id": "c52d59a5",
   "metadata": {},
   "outputs": [
    {
     "data": {
      "text/plain": [
       "0.8121988190312437"
      ]
     },
     "execution_count": 98,
     "metadata": {},
     "output_type": "execute_result"
    }
   ],
   "source": [
    "accuracy_score(y_test,y_pred)"
   ]
  },
  {
   "cell_type": "code",
   "execution_count": 99,
   "id": "f136c2e3",
   "metadata": {},
   "outputs": [
    {
     "data": {
      "text/plain": [
       "array([[33839, 10237],\n",
       "       [ 6365, 37961]], dtype=int64)"
      ]
     },
     "execution_count": 99,
     "metadata": {},
     "output_type": "execute_result"
    }
   ],
   "source": [
    "confusion_matrix(y_test,y_pred)"
   ]
  },
  {
   "cell_type": "code",
   "execution_count": 100,
   "id": "48600744",
   "metadata": {},
   "outputs": [
    {
     "data": {
      "text/plain": [
       "0.8118144373091437"
      ]
     },
     "execution_count": 100,
     "metadata": {},
     "output_type": "execute_result"
    }
   ],
   "source": [
    "f1(y_test,y_pred,average='weighted')"
   ]
  },
  {
   "cell_type": "code",
   "execution_count": 101,
   "id": "88cf705c",
   "metadata": {},
   "outputs": [],
   "source": [
    "fpr,tpr,thresholds=roc_curve(y_test,y_pred)"
   ]
  },
  {
   "cell_type": "code",
   "execution_count": 102,
   "id": "3dcf77d1",
   "metadata": {},
   "outputs": [
    {
     "data": {
      "text/plain": [
       "0.8120734503504111"
      ]
     },
     "execution_count": 102,
     "metadata": {},
     "output_type": "execute_result"
    }
   ],
   "source": [
    "auc = roc_auc_score(y_test,y_pred)\n",
    "auc"
   ]
  },
  {
   "cell_type": "code",
   "execution_count": 103,
   "id": "e1e8ab8d",
   "metadata": {},
   "outputs": [
    {
     "data": {
      "image/png": "[encoded data removed]",
      "text/plain": [
       "<Figure size 432x288 with 1 Axes>"
      ]
     },
     "metadata": {},
     "output_type": "display_data"
    }
   ],
   "source": [
    "plt.plot(fpr , tpr , color='orange',label='ROC')\n",
    "plt.plot([0,1],[0,1],color = 'darkblue',linestyle='--',label='ROC curve(area = %0.2f)'% auc)\n",
    "plt.xlabel('false positive rate')\n",
    "plt.ylabel('true positive rate')\n",
    "plt.title('receiver operating characterstics (ROC) curve')\n",
    "plt.legend()\n",
    "plt.show()"
   ]
  },
  {
   "cell_type": "code",
   "execution_count": null,
   "id": "e6a93942",
   "metadata": {},
   "outputs": [],
   "source": []
  }
 ],
 "metadata": {
  "kernelspec": {
   "display_name": "Python 3",
   "language": "python",
   "name": "python3"
  }
 },
 "nbformat": 4,
 "nbformat_minor": 5
}
