{
 "cells": [
  {
   "cell_type": "code",
   "execution_count": 1,
   "id": "bcac4f3a",
   "metadata": {},
   "outputs": [],
   "source": [
    "import pandas as pd\n",
    "import numpy as np\n",
    "import scipy.stats as stats\n",
    "from datetime import datetime\n",
    "from statsmodels.stats.outliers_influence import variance_inflation_factor as vif\n",
    "import seaborn as sns\n",
    "import matplotlib.pyplot as plt\n",
    "from collections import Counter\n",
    "from sklearn.metrics import mean_squared_error,mean_absolute_error\n",
    "from sklearn.metrics import mean_absolute_percentage_error\n",
    "from sklearn.preprocessing import StandardScaler\n",
    "from sklearn.linear_model import Ridge,Lasso,RidgeCV,LassoCV,ElasticNet,ElasticNetCV,LinearRegression\n",
    "from sklearn.model_selection import train_test_split,GridSearchCV\n",
    "sns.set()\n",
    "import pylab\n",
    "from sklearn.tree import DecisionTreeClassifier,export_graphviz\n",
    "from IPython.display import Image\n",
    "from sklearn.metrics import accuracy_score, confusion_matrix,roc_curve,roc_auc_score\n",
    "from sklearn.metrics import f1_score as f1\n",
    "from sklearn import tree\n",
    "from sklearn.ensemble import BaggingClassifier\n",
    "from sklearn.ensemble import RandomForestClassifier,RandomForestRegressor\n",
    "from sklearn.neighbors import KNeighborsClassifier\n",
    "from sklearn.ensemble import AdaBoostClassifier,GradientBoostingClassifier\n",
    "from catboost import CatBoostClassifier\n",
    "from lightgbm import LGBMClassifier\n",
    "from xgboost import XGBClassifier"
   ]
  },
  {
   "cell_type": "code",
   "execution_count": 4,
   "id": "987af168",
   "metadata": {},
   "outputs": [],
   "source": [
    "df=pd.read_csv(\"E:\\\\datasets\\\\Heart Attack Prediciton\\\\heart.csv\")"
   ]
  },
  {
   "cell_type": "code",
   "execution_count": 6,
   "id": "798824fb",
   "metadata": {},
   "outputs": [
    {
     "data": {
      "text/html": [
       "<div>\n",
       "<style scoped>\n",
       "    .dataframe tbody tr th:only-of-type {\n",
       "        vertical-align: middle;\n",
       "    }\n",
       "\n",
       "    .dataframe tbody tr th {\n",
       "        vertical-align: top;\n",
       "    }\n",
       "\n",
       "    .dataframe thead th {\n",
       "        text-align: right;\n",
       "    }\n",
       "</style>\n",
       "<table border=\"1\" class=\"dataframe\">\n",
       "  <thead>\n",
       "    <tr style=\"text-align: right;\">\n",
       "      <th></th>\n",
       "      <th>age</th>\n",
       "      <th>sex</th>\n",
       "      <th>cp</th>\n",
       "      <th>trestbps</th>\n",
       "      <th>chol</th>\n",
       "      <th>fbs</th>\n",
       "      <th>restecg</th>\n",
       "      <th>thalach</th>\n",
       "      <th>exang</th>\n",
       "      <th>oldpeak</th>\n",
       "      <th>slope</th>\n",
       "      <th>ca</th>\n",
       "      <th>thal</th>\n",
       "      <th>target</th>\n",
       "    </tr>\n",
       "  </thead>\n",
       "  <tbody>\n",
       "    <tr>\n",
       "      <th>0</th>\n",
       "      <td>63</td>\n",
       "      <td>1</td>\n",
       "      <td>3</td>\n",
       "      <td>145</td>\n",
       "      <td>233</td>\n",
       "      <td>1</td>\n",
       "      <td>0</td>\n",
       "      <td>150</td>\n",
       "      <td>0</td>\n",
       "      <td>2.3</td>\n",
       "      <td>0</td>\n",
       "      <td>0</td>\n",
       "      <td>1</td>\n",
       "      <td>1</td>\n",
       "    </tr>\n",
       "    <tr>\n",
       "      <th>1</th>\n",
       "      <td>37</td>\n",
       "      <td>1</td>\n",
       "      <td>2</td>\n",
       "      <td>130</td>\n",
       "      <td>250</td>\n",
       "      <td>0</td>\n",
       "      <td>1</td>\n",
       "      <td>187</td>\n",
       "      <td>0</td>\n",
       "      <td>3.5</td>\n",
       "      <td>0</td>\n",
       "      <td>0</td>\n",
       "      <td>2</td>\n",
       "      <td>1</td>\n",
       "    </tr>\n",
       "    <tr>\n",
       "      <th>2</th>\n",
       "      <td>41</td>\n",
       "      <td>0</td>\n",
       "      <td>1</td>\n",
       "      <td>130</td>\n",
       "      <td>204</td>\n",
       "      <td>0</td>\n",
       "      <td>0</td>\n",
       "      <td>172</td>\n",
       "      <td>0</td>\n",
       "      <td>1.4</td>\n",
       "      <td>2</td>\n",
       "      <td>0</td>\n",
       "      <td>2</td>\n",
       "      <td>1</td>\n",
       "    </tr>\n",
       "    <tr>\n",
       "      <th>3</th>\n",
       "      <td>56</td>\n",
       "      <td>1</td>\n",
       "      <td>1</td>\n",
       "      <td>120</td>\n",
       "      <td>236</td>\n",
       "      <td>0</td>\n",
       "      <td>1</td>\n",
       "      <td>178</td>\n",
       "      <td>0</td>\n",
       "      <td>0.8</td>\n",
       "      <td>2</td>\n",
       "      <td>0</td>\n",
       "      <td>2</td>\n",
       "      <td>1</td>\n",
       "    </tr>\n",
       "    <tr>\n",
       "      <th>4</th>\n",
       "      <td>57</td>\n",
       "      <td>0</td>\n",
       "      <td>0</td>\n",
       "      <td>120</td>\n",
       "      <td>354</td>\n",
       "      <td>0</td>\n",
       "      <td>1</td>\n",
       "      <td>163</td>\n",
       "      <td>1</td>\n",
       "      <td>0.6</td>\n",
       "      <td>2</td>\n",
       "      <td>0</td>\n",
       "      <td>2</td>\n",
       "      <td>1</td>\n",
       "    </tr>\n",
       "    <tr>\n",
       "      <th>...</th>\n",
       "      <td>...</td>\n",
       "      <td>...</td>\n",
       "      <td>...</td>\n",
       "      <td>...</td>\n",
       "      <td>...</td>\n",
       "      <td>...</td>\n",
       "      <td>...</td>\n",
       "      <td>...</td>\n",
       "      <td>...</td>\n",
       "      <td>...</td>\n",
       "      <td>...</td>\n",
       "      <td>...</td>\n",
       "      <td>...</td>\n",
       "      <td>...</td>\n",
       "    </tr>\n",
       "    <tr>\n",
       "      <th>298</th>\n",
       "      <td>57</td>\n",
       "      <td>0</td>\n",
       "      <td>0</td>\n",
       "      <td>140</td>\n",
       "      <td>241</td>\n",
       "      <td>0</td>\n",
       "      <td>1</td>\n",
       "      <td>123</td>\n",
       "      <td>1</td>\n",
       "      <td>0.2</td>\n",
       "      <td>1</td>\n",
       "      <td>0</td>\n",
       "      <td>3</td>\n",
       "      <td>0</td>\n",
       "    </tr>\n",
       "    <tr>\n",
       "      <th>299</th>\n",
       "      <td>45</td>\n",
       "      <td>1</td>\n",
       "      <td>3</td>\n",
       "      <td>110</td>\n",
       "      <td>264</td>\n",
       "      <td>0</td>\n",
       "      <td>1</td>\n",
       "      <td>132</td>\n",
       "      <td>0</td>\n",
       "      <td>1.2</td>\n",
       "      <td>1</td>\n",
       "      <td>0</td>\n",
       "      <td>3</td>\n",
       "      <td>0</td>\n",
       "    </tr>\n",
       "    <tr>\n",
       "      <th>300</th>\n",
       "      <td>68</td>\n",
       "      <td>1</td>\n",
       "      <td>0</td>\n",
       "      <td>144</td>\n",
       "      <td>193</td>\n",
       "      <td>1</td>\n",
       "      <td>1</td>\n",
       "      <td>141</td>\n",
       "      <td>0</td>\n",
       "      <td>3.4</td>\n",
       "      <td>1</td>\n",
       "      <td>2</td>\n",
       "      <td>3</td>\n",
       "      <td>0</td>\n",
       "    </tr>\n",
       "    <tr>\n",
       "      <th>301</th>\n",
       "      <td>57</td>\n",
       "      <td>1</td>\n",
       "      <td>0</td>\n",
       "      <td>130</td>\n",
       "      <td>131</td>\n",
       "      <td>0</td>\n",
       "      <td>1</td>\n",
       "      <td>115</td>\n",
       "      <td>1</td>\n",
       "      <td>1.2</td>\n",
       "      <td>1</td>\n",
       "      <td>1</td>\n",
       "      <td>3</td>\n",
       "      <td>0</td>\n",
       "    </tr>\n",
       "    <tr>\n",
       "      <th>302</th>\n",
       "      <td>57</td>\n",
       "      <td>0</td>\n",
       "      <td>1</td>\n",
       "      <td>130</td>\n",
       "      <td>236</td>\n",
       "      <td>0</td>\n",
       "      <td>0</td>\n",
       "      <td>174</td>\n",
       "      <td>0</td>\n",
       "      <td>0.0</td>\n",
       "      <td>1</td>\n",
       "      <td>1</td>\n",
       "      <td>2</td>\n",
       "      <td>0</td>\n",
       "    </tr>\n",
       "  </tbody>\n",
       "</table>\n",
       "<p>303 rows × 14 columns</p>\n",
       "</div>"
      ],
      "text/plain": [
       "     age  sex  cp  trestbps  chol  fbs  restecg  thalach  exang  oldpeak  \\\n",
       "0     63    1   3       145   233    1        0      150      0      2.3   \n",
       "1     37    1   2       130   250    0        1      187      0      3.5   \n",
       "2     41    0   1       130   204    0        0      172      0      1.4   \n",
       "3     56    1   1       120   236    0        1      178      0      0.8   \n",
       "4     57    0   0       120   354    0        1      163      1      0.6   \n",
       "..   ...  ...  ..       ...   ...  ...      ...      ...    ...      ...   \n",
       "298   57    0   0       140   241    0        1      123      1      0.2   \n",
       "299   45    1   3       110   264    0        1      132      0      1.2   \n",
       "300   68    1   0       144   193    1        1      141      0      3.4   \n",
       "301   57    1   0       130   131    0        1      115      1      1.2   \n",
       "302   57    0   1       130   236    0        0      174      0      0.0   \n",
       "\n",
       "     slope  ca  thal  target  \n",
       "0        0   0     1       1  \n",
       "1        0   0     2       1  \n",
       "2        2   0     2       1  \n",
       "3        2   0     2       1  \n",
       "4        2   0     2       1  \n",
       "..     ...  ..   ...     ...  \n",
       "298      1   0     3       0  \n",
       "299      1   0     3       0  \n",
       "300      1   2     3       0  \n",
       "301      1   1     3       0  \n",
       "302      1   1     2       0  \n",
       "\n",
       "[303 rows x 14 columns]"
      ]
     },
     "execution_count": 6,
     "metadata": {},
     "output_type": "execute_result"
    }
   ],
   "source": [
    "df"
   ]
  },
  {
   "cell_type": "code",
   "execution_count": 5,
   "id": "500ac1d3",
   "metadata": {},
   "outputs": [
    {
     "data": {
      "text/plain": [
       "age         0\n",
       "sex         0\n",
       "cp          0\n",
       "trestbps    0\n",
       "chol        0\n",
       "fbs         0\n",
       "restecg     0\n",
       "thalach     0\n",
       "exang       0\n",
       "oldpeak     0\n",
       "slope       0\n",
       "ca          0\n",
       "thal        0\n",
       "target      0\n",
       "dtype: int64"
      ]
     },
     "execution_count": 5,
     "metadata": {},
     "output_type": "execute_result"
    }
   ],
   "source": [
    "df.isnull().sum()"
   ]
  },
  {
   "cell_type": "code",
   "execution_count": 7,
   "id": "f5154f5e",
   "metadata": {},
   "outputs": [
    {
     "name": "stdout",
     "output_type": "stream",
     "text": [
      "<class 'pandas.core.frame.DataFrame'>\n",
      "RangeIndex: 303 entries, 0 to 302\n",
      "Data columns (total 14 columns):\n",
      " #   Column    Non-Null Count  Dtype  \n",
      "---  ------    --------------  -----  \n",
      " 0   age       303 non-null    int64  \n",
      " 1   sex       303 non-null    int64  \n",
      " 2   cp        303 non-null    int64  \n",
      " 3   trestbps  303 non-null    int64  \n",
      " 4   chol      303 non-null    int64  \n",
      " 5   fbs       303 non-null    int64  \n",
      " 6   restecg   303 non-null    int64  \n",
      " 7   thalach   303 non-null    int64  \n",
      " 8   exang     303 non-null    int64  \n",
      " 9   oldpeak   303 non-null    float64\n",
      " 10  slope     303 non-null    int64  \n",
      " 11  ca        303 non-null    int64  \n",
      " 12  thal      303 non-null    int64  \n",
      " 13  target    303 non-null    int64  \n",
      "dtypes: float64(1), int64(13)\n",
      "memory usage: 33.3 KB\n"
     ]
    }
   ],
   "source": [
    "df.info()"
   ]
  },
  {
   "cell_type": "code",
   "execution_count": 8,
   "id": "96ed9423",
   "metadata": {},
   "outputs": [
    {
     "data": {
      "text/html": [
       "<div>\n",
       "<style scoped>\n",
       "    .dataframe tbody tr th:only-of-type {\n",
       "        vertical-align: middle;\n",
       "    }\n",
       "\n",
       "    .dataframe tbody tr th {\n",
       "        vertical-align: top;\n",
       "    }\n",
       "\n",
       "    .dataframe thead th {\n",
       "        text-align: right;\n",
       "    }\n",
       "</style>\n",
       "<table border=\"1\" class=\"dataframe\">\n",
       "  <thead>\n",
       "    <tr style=\"text-align: right;\">\n",
       "      <th></th>\n",
       "      <th>age</th>\n",
       "      <th>sex</th>\n",
       "      <th>cp</th>\n",
       "      <th>trestbps</th>\n",
       "      <th>chol</th>\n",
       "      <th>fbs</th>\n",
       "      <th>restecg</th>\n",
       "      <th>thalach</th>\n",
       "      <th>exang</th>\n",
       "      <th>oldpeak</th>\n",
       "      <th>slope</th>\n",
       "      <th>ca</th>\n",
       "      <th>thal</th>\n",
       "      <th>target</th>\n",
       "    </tr>\n",
       "  </thead>\n",
       "  <tbody>\n",
       "    <tr>\n",
       "      <th>count</th>\n",
       "      <td>303.000000</td>\n",
       "      <td>303.000000</td>\n",
       "      <td>303.000000</td>\n",
       "      <td>303.000000</td>\n",
       "      <td>303.000000</td>\n",
       "      <td>303.000000</td>\n",
       "      <td>303.000000</td>\n",
       "      <td>303.000000</td>\n",
       "      <td>303.000000</td>\n",
       "      <td>303.000000</td>\n",
       "      <td>303.000000</td>\n",
       "      <td>303.000000</td>\n",
       "      <td>303.000000</td>\n",
       "      <td>303.000000</td>\n",
       "    </tr>\n",
       "    <tr>\n",
       "      <th>mean</th>\n",
       "      <td>54.366337</td>\n",
       "      <td>0.683168</td>\n",
       "      <td>0.966997</td>\n",
       "      <td>131.623762</td>\n",
       "      <td>246.264026</td>\n",
       "      <td>0.148515</td>\n",
       "      <td>0.528053</td>\n",
       "      <td>149.646865</td>\n",
       "      <td>0.326733</td>\n",
       "      <td>1.039604</td>\n",
       "      <td>1.399340</td>\n",
       "      <td>0.729373</td>\n",
       "      <td>2.313531</td>\n",
       "      <td>0.544554</td>\n",
       "    </tr>\n",
       "    <tr>\n",
       "      <th>std</th>\n",
       "      <td>9.082101</td>\n",
       "      <td>0.466011</td>\n",
       "      <td>1.032052</td>\n",
       "      <td>17.538143</td>\n",
       "      <td>51.830751</td>\n",
       "      <td>0.356198</td>\n",
       "      <td>0.525860</td>\n",
       "      <td>22.905161</td>\n",
       "      <td>0.469794</td>\n",
       "      <td>1.161075</td>\n",
       "      <td>0.616226</td>\n",
       "      <td>1.022606</td>\n",
       "      <td>0.612277</td>\n",
       "      <td>0.498835</td>\n",
       "    </tr>\n",
       "    <tr>\n",
       "      <th>min</th>\n",
       "      <td>29.000000</td>\n",
       "      <td>0.000000</td>\n",
       "      <td>0.000000</td>\n",
       "      <td>94.000000</td>\n",
       "      <td>126.000000</td>\n",
       "      <td>0.000000</td>\n",
       "      <td>0.000000</td>\n",
       "      <td>71.000000</td>\n",
       "      <td>0.000000</td>\n",
       "      <td>0.000000</td>\n",
       "      <td>0.000000</td>\n",
       "      <td>0.000000</td>\n",
       "      <td>0.000000</td>\n",
       "      <td>0.000000</td>\n",
       "    </tr>\n",
       "    <tr>\n",
       "      <th>25%</th>\n",
       "      <td>47.500000</td>\n",
       "      <td>0.000000</td>\n",
       "      <td>0.000000</td>\n",
       "      <td>120.000000</td>\n",
       "      <td>211.000000</td>\n",
       "      <td>0.000000</td>\n",
       "      <td>0.000000</td>\n",
       "      <td>133.500000</td>\n",
       "      <td>0.000000</td>\n",
       "      <td>0.000000</td>\n",
       "      <td>1.000000</td>\n",
       "      <td>0.000000</td>\n",
       "      <td>2.000000</td>\n",
       "      <td>0.000000</td>\n",
       "    </tr>\n",
       "    <tr>\n",
       "      <th>50%</th>\n",
       "      <td>55.000000</td>\n",
       "      <td>1.000000</td>\n",
       "      <td>1.000000</td>\n",
       "      <td>130.000000</td>\n",
       "      <td>240.000000</td>\n",
       "      <td>0.000000</td>\n",
       "      <td>1.000000</td>\n",
       "      <td>153.000000</td>\n",
       "      <td>0.000000</td>\n",
       "      <td>0.800000</td>\n",
       "      <td>1.000000</td>\n",
       "      <td>0.000000</td>\n",
       "      <td>2.000000</td>\n",
       "      <td>1.000000</td>\n",
       "    </tr>\n",
       "    <tr>\n",
       "      <th>75%</th>\n",
       "      <td>61.000000</td>\n",
       "      <td>1.000000</td>\n",
       "      <td>2.000000</td>\n",
       "      <td>140.000000</td>\n",
       "      <td>274.500000</td>\n",
       "      <td>0.000000</td>\n",
       "      <td>1.000000</td>\n",
       "      <td>166.000000</td>\n",
       "      <td>1.000000</td>\n",
       "      <td>1.600000</td>\n",
       "      <td>2.000000</td>\n",
       "      <td>1.000000</td>\n",
       "      <td>3.000000</td>\n",
       "      <td>1.000000</td>\n",
       "    </tr>\n",
       "    <tr>\n",
       "      <th>max</th>\n",
       "      <td>77.000000</td>\n",
       "      <td>1.000000</td>\n",
       "      <td>3.000000</td>\n",
       "      <td>200.000000</td>\n",
       "      <td>564.000000</td>\n",
       "      <td>1.000000</td>\n",
       "      <td>2.000000</td>\n",
       "      <td>202.000000</td>\n",
       "      <td>1.000000</td>\n",
       "      <td>6.200000</td>\n",
       "      <td>2.000000</td>\n",
       "      <td>4.000000</td>\n",
       "      <td>3.000000</td>\n",
       "      <td>1.000000</td>\n",
       "    </tr>\n",
       "  </tbody>\n",
       "</table>\n",
       "</div>"
      ],
      "text/plain": [
       "              age         sex          cp    trestbps        chol         fbs  \\\n",
       "count  303.000000  303.000000  303.000000  303.000000  303.000000  303.000000   \n",
       "mean    54.366337    0.683168    0.966997  131.623762  246.264026    0.148515   \n",
       "std      9.082101    0.466011    1.032052   17.538143   51.830751    0.356198   \n",
       "min     29.000000    0.000000    0.000000   94.000000  126.000000    0.000000   \n",
       "25%     47.500000    0.000000    0.000000  120.000000  211.000000    0.000000   \n",
       "50%     55.000000    1.000000    1.000000  130.000000  240.000000    0.000000   \n",
       "75%     61.000000    1.000000    2.000000  140.000000  274.500000    0.000000   \n",
       "max     77.000000    1.000000    3.000000  200.000000  564.000000    1.000000   \n",
       "\n",
       "          restecg     thalach       exang     oldpeak       slope          ca  \\\n",
       "count  303.000000  303.000000  303.000000  303.000000  303.000000  303.000000   \n",
       "mean     0.528053  149.646865    0.326733    1.039604    1.399340    0.729373   \n",
       "std      0.525860   22.905161    0.469794    1.161075    0.616226    1.022606   \n",
       "min      0.000000   71.000000    0.000000    0.000000    0.000000    0.000000   \n",
       "25%      0.000000  133.500000    0.000000    0.000000    1.000000    0.000000   \n",
       "50%      1.000000  153.000000    0.000000    0.800000    1.000000    0.000000   \n",
       "75%      1.000000  166.000000    1.000000    1.600000    2.000000    1.000000   \n",
       "max      2.000000  202.000000    1.000000    6.200000    2.000000    4.000000   \n",
       "\n",
       "             thal      target  \n",
       "count  303.000000  303.000000  \n",
       "mean     2.313531    0.544554  \n",
       "std      0.612277    0.498835  \n",
       "min      0.000000    0.000000  \n",
       "25%      2.000000    0.000000  \n",
       "50%      2.000000    1.000000  \n",
       "75%      3.000000    1.000000  \n",
       "max      3.000000    1.000000  "
      ]
     },
     "execution_count": 8,
     "metadata": {},
     "output_type": "execute_result"
    }
   ],
   "source": [
    "df.describe()"
   ]
  },
  {
   "cell_type": "code",
   "execution_count": 9,
   "id": "9dc7cb11",
   "metadata": {},
   "outputs": [],
   "source": [
    "X=df.drop(columns='target')\n",
    "Y=df['target']"
   ]
  },
  {
   "cell_type": "code",
   "execution_count": 10,
   "id": "726c0fda",
   "metadata": {},
   "outputs": [
    {
     "data": {
      "text/plain": [
       "1    165\n",
       "0    138\n",
       "Name: target, dtype: int64"
      ]
     },
     "execution_count": 10,
     "metadata": {},
     "output_type": "execute_result"
    }
   ],
   "source": [
    "df['target'].value_counts()"
   ]
  },
  {
   "cell_type": "code",
   "execution_count": 11,
   "id": "c73a219b",
   "metadata": {},
   "outputs": [],
   "source": [
    "x_train,x_test,y_train,y_test=train_test_split(X,Y,test_size=0.20,random_state=4)"
   ]
  },
  {
   "cell_type": "markdown",
   "id": "d62edbe1",
   "metadata": {},
   "source": [
    "## Ada Boost Classifier"
   ]
  },
  {
   "cell_type": "code",
   "execution_count": 13,
   "id": "5f28aaef",
   "metadata": {},
   "outputs": [
    {
     "data": {
      "text/plain": [
       "AdaBoostClassifier()"
      ]
     },
     "execution_count": 13,
     "metadata": {},
     "output_type": "execute_result"
    }
   ],
   "source": [
    "lm=AdaBoostClassifier()\n",
    "lm.fit(x_train,y_train)"
   ]
  },
  {
   "cell_type": "code",
   "execution_count": 15,
   "id": "3e8144f1",
   "metadata": {},
   "outputs": [],
   "source": [
    "y_pred=lm.predict(x_test)"
   ]
  },
  {
   "cell_type": "code",
   "execution_count": 16,
   "id": "1bd40ea1",
   "metadata": {},
   "outputs": [
    {
     "data": {
      "text/plain": [
       "array([1, 0, 1, 1, 1, 0, 0, 1, 1, 1, 1, 1, 1, 0, 1, 0, 1, 1, 1, 1, 1, 1,\n",
       "       0, 1, 1, 0, 0, 1, 1, 1, 1, 1, 1, 0, 0, 1, 1, 1, 1, 0, 0, 0, 0, 1,\n",
       "       1, 1, 0, 0, 0, 1, 0, 0, 0, 0, 1, 1, 1, 1, 0, 0, 1], dtype=int64)"
      ]
     },
     "execution_count": 16,
     "metadata": {},
     "output_type": "execute_result"
    }
   ],
   "source": [
    "y_pred"
   ]
  },
  {
   "cell_type": "code",
   "execution_count": 17,
   "id": "ffeb0c37",
   "metadata": {},
   "outputs": [
    {
     "data": {
      "text/plain": [
       "0.8360655737704918"
      ]
     },
     "execution_count": 17,
     "metadata": {},
     "output_type": "execute_result"
    }
   ],
   "source": [
    "accuracy_score(y_test,y_pred)"
   ]
  },
  {
   "cell_type": "code",
   "execution_count": 18,
   "id": "36e1ea94",
   "metadata": {},
   "outputs": [
    {
     "data": {
      "text/plain": [
       "array([[19,  6],\n",
       "       [ 4, 32]], dtype=int64)"
      ]
     },
     "execution_count": 18,
     "metadata": {},
     "output_type": "execute_result"
    }
   ],
   "source": [
    "confusion_matrix(y_test,y_pred)"
   ]
  },
  {
   "cell_type": "code",
   "execution_count": 19,
   "id": "39a3bb51",
   "metadata": {},
   "outputs": [
    {
     "data": {
      "text/plain": [
       "0.8348656033082262"
      ]
     },
     "execution_count": 19,
     "metadata": {},
     "output_type": "execute_result"
    }
   ],
   "source": [
    "f1(y_test,y_pred,average='weighted')"
   ]
  },
  {
   "cell_type": "code",
   "execution_count": 20,
   "id": "6064e973",
   "metadata": {},
   "outputs": [],
   "source": [
    "fpr,tpr,thresholds=roc_curve(y_test,y_pred)"
   ]
  },
  {
   "cell_type": "code",
   "execution_count": 21,
   "id": "5b6c0792",
   "metadata": {},
   "outputs": [
    {
     "data": {
      "text/plain": [
       "0.8244444444444444"
      ]
     },
     "execution_count": 21,
     "metadata": {},
     "output_type": "execute_result"
    }
   ],
   "source": [
    "auc = roc_auc_score(y_test,y_pred)\n",
    "auc"
   ]
  },
  {
   "cell_type": "code",
   "execution_count": 22,
   "id": "027227c4",
   "metadata": {},
   "outputs": [
    {
     "data": {
      "image/png": "[encoded data removed]",
      "text/plain": [
       "<Figure size 432x288 with 1 Axes>"
      ]
     },
     "metadata": {},
     "output_type": "display_data"
    }
   ],
   "source": [
    "plt.plot(fpr , tpr , color='orange',label='ROC')\n",
    "plt.plot([0,1],[0,1],color = 'darkblue',linestyle='--',label='ROC curve(area = %0.2f)'% auc)\n",
    "plt.xlabel('false positive rate')\n",
    "plt.ylabel('true positive rate')\n",
    "plt.title('receiver operating characterstics (ROC) curve')\n",
    "plt.legend()\n",
    "plt.show()"
   ]
  },
  {
   "cell_type": "markdown",
   "id": "15699183",
   "metadata": {},
   "source": [
    "## Applying Gradient Boosting Classifier"
   ]
  },
  {
   "cell_type": "code",
   "execution_count": 24,
   "id": "c434b957",
   "metadata": {},
   "outputs": [
    {
     "data": {
      "text/plain": [
       "GradientBoostingClassifier()"
      ]
     },
     "execution_count": 24,
     "metadata": {},
     "output_type": "execute_result"
    }
   ],
   "source": [
    "lm=GradientBoostingClassifier()\n",
    "lm.fit(x_train,y_train)"
   ]
  },
  {
   "cell_type": "code",
   "execution_count": 25,
   "id": "0986b927",
   "metadata": {},
   "outputs": [],
   "source": [
    "y_pred=lm.predict(x_test)"
   ]
  },
  {
   "cell_type": "code",
   "execution_count": 26,
   "id": "d3a6666e",
   "metadata": {},
   "outputs": [
    {
     "data": {
      "text/plain": [
       "array([0, 0, 1, 1, 0, 0, 0, 1, 1, 1, 1, 1, 1, 0, 1, 0, 1, 1, 0, 1, 1, 1,\n",
       "       0, 1, 1, 0, 0, 1, 1, 0, 0, 0, 1, 0, 1, 1, 1, 1, 1, 0, 0, 0, 0, 1,\n",
       "       1, 1, 0, 0, 0, 1, 0, 1, 0, 1, 1, 1, 1, 1, 0, 0, 1], dtype=int64)"
      ]
     },
     "execution_count": 26,
     "metadata": {},
     "output_type": "execute_result"
    }
   ],
   "source": [
    "y_pred"
   ]
  },
  {
   "cell_type": "code",
   "execution_count": 27,
   "id": "46a3a432",
   "metadata": {},
   "outputs": [
    {
     "data": {
      "text/plain": [
       "0.8852459016393442"
      ]
     },
     "execution_count": 27,
     "metadata": {},
     "output_type": "execute_result"
    }
   ],
   "source": [
    "accuracy_score(y_test,y_pred)"
   ]
  },
  {
   "cell_type": "code",
   "execution_count": 28,
   "id": "25043f07",
   "metadata": {},
   "outputs": [
    {
     "data": {
      "text/plain": [
       "array([[22,  3],\n",
       "       [ 4, 32]], dtype=int64)"
      ]
     },
     "execution_count": 28,
     "metadata": {},
     "output_type": "execute_result"
    }
   ],
   "source": [
    "confusion_matrix(y_test,y_pred)"
   ]
  },
  {
   "cell_type": "code",
   "execution_count": 29,
   "id": "b4d61ced",
   "metadata": {},
   "outputs": [
    {
     "data": {
      "text/plain": [
       "0.9014084507042254"
      ]
     },
     "execution_count": 29,
     "metadata": {},
     "output_type": "execute_result"
    }
   ],
   "source": [
    "f1(y_test,y_pred)"
   ]
  },
  {
   "cell_type": "code",
   "execution_count": 30,
   "id": "9c430c1f",
   "metadata": {},
   "outputs": [],
   "source": [
    "fpr,tpr,thresholds=roc_curve(y_test,y_pred)"
   ]
  },
  {
   "cell_type": "code",
   "execution_count": 31,
   "id": "8a8e2557",
   "metadata": {},
   "outputs": [
    {
     "data": {
      "text/plain": [
       "0.8844444444444445"
      ]
     },
     "execution_count": 31,
     "metadata": {},
     "output_type": "execute_result"
    }
   ],
   "source": [
    "auc = roc_auc_score(y_test,y_pred)\n",
    "auc"
   ]
  },
  {
   "cell_type": "code",
   "execution_count": 32,
   "id": "bcf233cb",
   "metadata": {},
   "outputs": [
    {
     "data": {
      "image/png": "[encoded data removed]",
      "text/plain": [
       "<Figure size 432x288 with 1 Axes>"
      ]
     },
     "metadata": {},
     "output_type": "display_data"
    }
   ],
   "source": [
    "plt.plot(fpr , tpr , color='orange',label='ROC')\n",
    "plt.plot([0,1],[0,1],color = 'darkblue',linestyle='--',label='ROC curve(area = %0.2f)'% auc)\n",
    "plt.xlabel('false positive rate')\n",
    "plt.ylabel('true positive rate')\n",
    "plt.title('receiver operating characterstics (ROC) curve')\n",
    "plt.legend()\n",
    "plt.show()"
   ]
  },
  {
   "cell_type": "markdown",
   "id": "c9db58fc",
   "metadata": {},
   "source": [
    "## Applynig XGBoosting Classifier"
   ]
  },
  {
   "cell_type": "code",
   "execution_count": 34,
   "id": "ac6cbb4a",
   "metadata": {},
   "outputs": [
    {
     "data": {
      "text/plain": [
       "XGBClassifier(base_score=0.5, booster='gbtree', callbacks=None,\n",
       "              colsample_bylevel=1, colsample_bynode=1, colsample_bytree=1,\n",
       "              early_stopping_rounds=None, enable_categorical=False,\n",
       "              eval_metric=None, gamma=0, gpu_id=-1, grow_policy='depthwise',\n",
       "              importance_type=None, interaction_constraints='',\n",
       "              learning_rate=0.300000012, max_bin=256, max_cat_to_onehot=4,\n",
       "              max_delta_step=0, max_depth=6, max_leaves=0, min_child_weight=1,\n",
       "              missing=nan, monotone_constraints='()', n_estimators=100,\n",
       "              n_jobs=0, num_parallel_tree=1, predictor='auto', random_state=0,\n",
       "              reg_alpha=0, reg_lambda=1, ...)"
      ]
     },
     "execution_count": 34,
     "metadata": {},
     "output_type": "execute_result"
    }
   ],
   "source": [
    "lm=XGBClassifier()\n",
    "lm.fit(x_train,y_train)"
   ]
  },
  {
   "cell_type": "code",
   "execution_count": 35,
   "id": "f994a77d",
   "metadata": {},
   "outputs": [],
   "source": [
    "y_pred=lm.predict(x_test)"
   ]
  },
  {
   "cell_type": "code",
   "execution_count": 36,
   "id": "1b2a11b8",
   "metadata": {},
   "outputs": [
    {
     "data": {
      "text/plain": [
       "array([0, 0, 1, 1, 0, 0, 1, 1, 1, 1, 1, 1, 1, 0, 1, 0, 1, 1, 0, 1, 1, 1,\n",
       "       0, 1, 1, 0, 1, 1, 1, 0, 0, 0, 1, 1, 0, 1, 1, 1, 1, 0, 0, 0, 0, 1,\n",
       "       1, 1, 0, 0, 0, 1, 0, 1, 0, 1, 1, 1, 1, 1, 0, 0, 1])"
      ]
     },
     "execution_count": 36,
     "metadata": {},
     "output_type": "execute_result"
    }
   ],
   "source": [
    "y_pred"
   ]
  },
  {
   "cell_type": "code",
   "execution_count": 37,
   "id": "6fdfc34d",
   "metadata": {},
   "outputs": [
    {
     "data": {
      "text/plain": [
       "0.8852459016393442"
      ]
     },
     "execution_count": 37,
     "metadata": {},
     "output_type": "execute_result"
    }
   ],
   "source": [
    "accuracy_score(y_test,y_pred)"
   ]
  },
  {
   "cell_type": "code",
   "execution_count": 39,
   "id": "a217ee55",
   "metadata": {},
   "outputs": [
    {
     "data": {
      "text/plain": [
       "array([[21,  4],\n",
       "       [ 3, 33]], dtype=int64)"
      ]
     },
     "execution_count": 39,
     "metadata": {},
     "output_type": "execute_result"
    }
   ],
   "source": [
    "confusion_matrix(y_test,y_pred)"
   ]
  },
  {
   "cell_type": "code",
   "execution_count": 40,
   "id": "2a8f0bbc",
   "metadata": {},
   "outputs": [
    {
     "data": {
      "text/plain": [
       "0.9041095890410958"
      ]
     },
     "execution_count": 40,
     "metadata": {},
     "output_type": "execute_result"
    }
   ],
   "source": [
    "f1(y_test,y_pred)"
   ]
  },
  {
   "cell_type": "code",
   "execution_count": 41,
   "id": "e104aadd",
   "metadata": {},
   "outputs": [],
   "source": [
    "fpr,tpr,thresholds=roc_curve(y_test,y_pred)"
   ]
  },
  {
   "cell_type": "code",
   "execution_count": 42,
   "id": "6074282b",
   "metadata": {},
   "outputs": [
    {
     "data": {
      "text/plain": [
       "0.8783333333333333"
      ]
     },
     "execution_count": 42,
     "metadata": {},
     "output_type": "execute_result"
    }
   ],
   "source": [
    "auc = roc_auc_score(y_test,y_pred)\n",
    "auc"
   ]
  },
  {
   "cell_type": "code",
   "execution_count": 43,
   "id": "933fa143",
   "metadata": {},
   "outputs": [
    {
     "data": {
      "image/png": "[encoded data removed]",
      "text/plain": [
       "<Figure size 432x288 with 1 Axes>"
      ]
     },
     "metadata": {},
     "output_type": "display_data"
    }
   ],
   "source": [
    "plt.plot(fpr , tpr , color='orange',label='ROC')\n",
    "plt.plot([0,1],[0,1],color = 'darkblue',linestyle='--',label='ROC curve(area = %0.2f)'% auc)\n",
    "plt.xlabel('false positive rate')\n",
    "plt.ylabel('true positive rate')\n",
    "plt.title('receiver operating characterstics (ROC) curve')\n",
    "plt.legend()\n",
    "plt.show()"
   ]
  },
  {
   "cell_type": "markdown",
   "id": "fb7a84af",
   "metadata": {},
   "source": [
    "## Applying Cat Boosting Classifier"
   ]
  },
  {
   "cell_type": "code",
   "execution_count": 46,
   "id": "adb699f8",
   "metadata": {},
   "outputs": [
    {
     "name": "stdout",
     "output_type": "stream",
     "text": [
      "Learning rate set to 0.005621\n",
      "0:\tlearn: 0.6883974\ttotal: 181ms\tremaining: 3m\n",
      "1:\tlearn: 0.6839001\ttotal: 187ms\tremaining: 1m 33s\n",
      "2:\tlearn: 0.6799956\ttotal: 193ms\tremaining: 1m 4s\n",
      "3:\tlearn: 0.6753966\ttotal: 199ms\tremaining: 49.5s\n",
      "4:\tlearn: 0.6722368\ttotal: 204ms\tremaining: 40.7s\n",
      "5:\tlearn: 0.6681069\ttotal: 208ms\tremaining: 34.5s\n",
      "6:\tlearn: 0.6647488\ttotal: 212ms\tremaining: 30.1s\n",
      "7:\tlearn: 0.6608332\ttotal: 217ms\tremaining: 26.9s\n",
      "8:\tlearn: 0.6570715\ttotal: 222ms\tremaining: 24.4s\n",
      "9:\tlearn: 0.6525281\ttotal: 225ms\tremaining: 22.3s\n",
      "10:\tlearn: 0.6486915\ttotal: 228ms\tremaining: 20.5s\n",
      "11:\tlearn: 0.6444228\ttotal: 231ms\tremaining: 19s\n",
      "12:\tlearn: 0.6401775\ttotal: 234ms\tremaining: 17.8s\n",
      "13:\tlearn: 0.6360146\ttotal: 238ms\tremaining: 16.7s\n",
      "14:\tlearn: 0.6323138\ttotal: 240ms\tremaining: 15.8s\n",
      "15:\tlearn: 0.6288014\ttotal: 243ms\tremaining: 14.9s\n",
      "16:\tlearn: 0.6251721\ttotal: 245ms\tremaining: 14.2s\n",
      "17:\tlearn: 0.6222521\ttotal: 248ms\tremaining: 13.5s\n",
      "18:\tlearn: 0.6187435\ttotal: 250ms\tremaining: 12.9s\n",
      "19:\tlearn: 0.6148484\ttotal: 252ms\tremaining: 12.4s\n",
      "20:\tlearn: 0.6125767\ttotal: 255ms\tremaining: 11.9s\n",
      "21:\tlearn: 0.6102640\ttotal: 256ms\tremaining: 11.4s\n",
      "22:\tlearn: 0.6074082\ttotal: 259ms\tremaining: 11s\n",
      "23:\tlearn: 0.6039863\ttotal: 261ms\tremaining: 10.6s\n",
      "24:\tlearn: 0.6010585\ttotal: 264ms\tremaining: 10.3s\n",
      "25:\tlearn: 0.5977131\ttotal: 266ms\tremaining: 9.97s\n",
      "26:\tlearn: 0.5940350\ttotal: 268ms\tremaining: 9.67s\n",
      "27:\tlearn: 0.5909686\ttotal: 271ms\tremaining: 9.4s\n",
      "28:\tlearn: 0.5874688\ttotal: 273ms\tremaining: 9.14s\n",
      "29:\tlearn: 0.5847722\ttotal: 275ms\tremaining: 8.91s\n",
      "30:\tlearn: 0.5824461\ttotal: 278ms\tremaining: 8.69s\n",
      "31:\tlearn: 0.5798746\ttotal: 280ms\tremaining: 8.48s\n",
      "32:\tlearn: 0.5767651\ttotal: 283ms\tremaining: 8.29s\n",
      "33:\tlearn: 0.5751110\ttotal: 284ms\tremaining: 8.08s\n",
      "34:\tlearn: 0.5720656\ttotal: 287ms\tremaining: 7.91s\n",
      "35:\tlearn: 0.5688051\ttotal: 289ms\tremaining: 7.75s\n",
      "36:\tlearn: 0.5662932\ttotal: 292ms\tremaining: 7.59s\n",
      "37:\tlearn: 0.5646127\ttotal: 293ms\tremaining: 7.42s\n",
      "38:\tlearn: 0.5616928\ttotal: 295ms\tremaining: 7.28s\n",
      "39:\tlearn: 0.5590898\ttotal: 298ms\tremaining: 7.15s\n",
      "40:\tlearn: 0.5568157\ttotal: 300ms\tremaining: 7.02s\n",
      "41:\tlearn: 0.5543768\ttotal: 302ms\tremaining: 6.89s\n",
      "42:\tlearn: 0.5514963\ttotal: 305ms\tremaining: 6.78s\n",
      "43:\tlearn: 0.5489178\ttotal: 307ms\tremaining: 6.67s\n",
      "44:\tlearn: 0.5467985\ttotal: 309ms\tremaining: 6.56s\n",
      "45:\tlearn: 0.5443535\ttotal: 312ms\tremaining: 6.46s\n",
      "46:\tlearn: 0.5421229\ttotal: 314ms\tremaining: 6.37s\n",
      "47:\tlearn: 0.5397731\ttotal: 316ms\tremaining: 6.26s\n",
      "48:\tlearn: 0.5378631\ttotal: 318ms\tremaining: 6.18s\n",
      "49:\tlearn: 0.5351730\ttotal: 321ms\tremaining: 6.1s\n",
      "50:\tlearn: 0.5327637\ttotal: 323ms\tremaining: 6.01s\n",
      "51:\tlearn: 0.5308007\ttotal: 326ms\tremaining: 5.94s\n",
      "52:\tlearn: 0.5284945\ttotal: 328ms\tremaining: 5.86s\n",
      "53:\tlearn: 0.5262341\ttotal: 330ms\tremaining: 5.79s\n",
      "54:\tlearn: 0.5232923\ttotal: 333ms\tremaining: 5.72s\n",
      "55:\tlearn: 0.5206836\ttotal: 335ms\tremaining: 5.65s\n",
      "56:\tlearn: 0.5179548\ttotal: 338ms\tremaining: 5.59s\n",
      "57:\tlearn: 0.5159175\ttotal: 340ms\tremaining: 5.52s\n",
      "58:\tlearn: 0.5135723\ttotal: 342ms\tremaining: 5.46s\n",
      "59:\tlearn: 0.5115863\ttotal: 345ms\tremaining: 5.4s\n",
      "60:\tlearn: 0.5094414\ttotal: 348ms\tremaining: 5.35s\n",
      "61:\tlearn: 0.5074205\ttotal: 350ms\tremaining: 5.3s\n",
      "62:\tlearn: 0.5047418\ttotal: 353ms\tremaining: 5.25s\n",
      "63:\tlearn: 0.5024139\ttotal: 355ms\tremaining: 5.19s\n",
      "64:\tlearn: 0.5002205\ttotal: 357ms\tremaining: 5.14s\n",
      "65:\tlearn: 0.4977302\ttotal: 360ms\tremaining: 5.09s\n",
      "66:\tlearn: 0.4952776\ttotal: 362ms\tremaining: 5.04s\n",
      "67:\tlearn: 0.4929827\ttotal: 364ms\tremaining: 4.99s\n",
      "68:\tlearn: 0.4913203\ttotal: 366ms\tremaining: 4.94s\n",
      "69:\tlearn: 0.4890001\ttotal: 368ms\tremaining: 4.89s\n",
      "70:\tlearn: 0.4875024\ttotal: 370ms\tremaining: 4.85s\n",
      "71:\tlearn: 0.4854212\ttotal: 373ms\tremaining: 4.81s\n",
      "72:\tlearn: 0.4830988\ttotal: 376ms\tremaining: 4.77s\n",
      "73:\tlearn: 0.4809679\ttotal: 379ms\tremaining: 4.74s\n",
      "74:\tlearn: 0.4789289\ttotal: 382ms\tremaining: 4.71s\n",
      "75:\tlearn: 0.4769491\ttotal: 386ms\tremaining: 4.69s\n",
      "76:\tlearn: 0.4752504\ttotal: 389ms\tremaining: 4.66s\n",
      "77:\tlearn: 0.4739581\ttotal: 392ms\tremaining: 4.63s\n",
      "78:\tlearn: 0.4715322\ttotal: 394ms\tremaining: 4.59s\n",
      "79:\tlearn: 0.4700745\ttotal: 396ms\tremaining: 4.56s\n",
      "80:\tlearn: 0.4683080\ttotal: 399ms\tremaining: 4.53s\n",
      "81:\tlearn: 0.4667758\ttotal: 403ms\tremaining: 4.51s\n",
      "82:\tlearn: 0.4650380\ttotal: 405ms\tremaining: 4.48s\n",
      "83:\tlearn: 0.4635027\ttotal: 408ms\tremaining: 4.45s\n",
      "84:\tlearn: 0.4621756\ttotal: 411ms\tremaining: 4.42s\n",
      "85:\tlearn: 0.4604306\ttotal: 413ms\tremaining: 4.39s\n",
      "86:\tlearn: 0.4587473\ttotal: 416ms\tremaining: 4.36s\n",
      "87:\tlearn: 0.4573075\ttotal: 418ms\tremaining: 4.33s\n",
      "88:\tlearn: 0.4556217\ttotal: 421ms\tremaining: 4.31s\n",
      "89:\tlearn: 0.4535359\ttotal: 424ms\tremaining: 4.29s\n",
      "90:\tlearn: 0.4527114\ttotal: 425ms\tremaining: 4.25s\n",
      "91:\tlearn: 0.4514464\ttotal: 428ms\tremaining: 4.22s\n",
      "92:\tlearn: 0.4499877\ttotal: 430ms\tremaining: 4.19s\n",
      "93:\tlearn: 0.4484356\ttotal: 433ms\tremaining: 4.17s\n",
      "94:\tlearn: 0.4467218\ttotal: 435ms\tremaining: 4.14s\n",
      "95:\tlearn: 0.4449736\ttotal: 438ms\tremaining: 4.12s\n",
      "96:\tlearn: 0.4435122\ttotal: 440ms\tremaining: 4.1s\n",
      "97:\tlearn: 0.4416855\ttotal: 442ms\tremaining: 4.07s\n",
      "98:\tlearn: 0.4403350\ttotal: 445ms\tremaining: 4.05s\n",
      "99:\tlearn: 0.4388730\ttotal: 447ms\tremaining: 4.02s\n",
      "100:\tlearn: 0.4372479\ttotal: 449ms\tremaining: 4s\n",
      "101:\tlearn: 0.4356389\ttotal: 452ms\tremaining: 3.98s\n",
      "102:\tlearn: 0.4340046\ttotal: 454ms\tremaining: 3.96s\n",
      "103:\tlearn: 0.4322001\ttotal: 457ms\tremaining: 3.94s\n",
      "104:\tlearn: 0.4307328\ttotal: 459ms\tremaining: 3.92s\n",
      "105:\tlearn: 0.4292124\ttotal: 462ms\tremaining: 3.89s\n",
      "106:\tlearn: 0.4273716\ttotal: 464ms\tremaining: 3.87s\n",
      "107:\tlearn: 0.4261926\ttotal: 467ms\tremaining: 3.85s\n",
      "108:\tlearn: 0.4253197\ttotal: 469ms\tremaining: 3.83s\n",
      "109:\tlearn: 0.4240530\ttotal: 471ms\tremaining: 3.81s\n",
      "110:\tlearn: 0.4237132\ttotal: 473ms\tremaining: 3.79s\n",
      "111:\tlearn: 0.4221876\ttotal: 475ms\tremaining: 3.77s\n",
      "112:\tlearn: 0.4202039\ttotal: 477ms\tremaining: 3.75s\n",
      "113:\tlearn: 0.4188169\ttotal: 480ms\tremaining: 3.73s\n",
      "114:\tlearn: 0.4171909\ttotal: 482ms\tremaining: 3.71s\n",
      "115:\tlearn: 0.4154828\ttotal: 485ms\tremaining: 3.69s\n",
      "116:\tlearn: 0.4140380\ttotal: 487ms\tremaining: 3.68s\n",
      "117:\tlearn: 0.4129478\ttotal: 490ms\tremaining: 3.66s\n",
      "118:\tlearn: 0.4114773\ttotal: 492ms\tremaining: 3.64s\n",
      "119:\tlearn: 0.4098738\ttotal: 494ms\tremaining: 3.63s\n",
      "120:\tlearn: 0.4084486\ttotal: 497ms\tremaining: 3.61s\n",
      "121:\tlearn: 0.4067288\ttotal: 500ms\tremaining: 3.6s\n",
      "122:\tlearn: 0.4057195\ttotal: 502ms\tremaining: 3.58s\n",
      "123:\tlearn: 0.4042502\ttotal: 504ms\tremaining: 3.56s\n",
      "124:\tlearn: 0.4024654\ttotal: 507ms\tremaining: 3.55s\n",
      "125:\tlearn: 0.4010557\ttotal: 509ms\tremaining: 3.53s\n",
      "126:\tlearn: 0.3997614\ttotal: 512ms\tremaining: 3.52s\n",
      "127:\tlearn: 0.3991314\ttotal: 514ms\tremaining: 3.5s\n",
      "128:\tlearn: 0.3981240\ttotal: 517ms\tremaining: 3.49s\n",
      "129:\tlearn: 0.3970036\ttotal: 520ms\tremaining: 3.48s\n",
      "130:\tlearn: 0.3955096\ttotal: 523ms\tremaining: 3.47s\n",
      "131:\tlearn: 0.3951983\ttotal: 524ms\tremaining: 3.44s\n",
      "132:\tlearn: 0.3940274\ttotal: 526ms\tremaining: 3.43s\n",
      "133:\tlearn: 0.3930537\ttotal: 529ms\tremaining: 3.42s\n",
      "134:\tlearn: 0.3921158\ttotal: 531ms\tremaining: 3.4s\n",
      "135:\tlearn: 0.3905087\ttotal: 534ms\tremaining: 3.39s\n",
      "136:\tlearn: 0.3896846\ttotal: 537ms\tremaining: 3.38s\n",
      "137:\tlearn: 0.3881163\ttotal: 541ms\tremaining: 3.38s\n",
      "138:\tlearn: 0.3872691\ttotal: 544ms\tremaining: 3.37s\n",
      "139:\tlearn: 0.3861292\ttotal: 547ms\tremaining: 3.36s\n",
      "140:\tlearn: 0.3850054\ttotal: 549ms\tremaining: 3.34s\n",
      "141:\tlearn: 0.3847928\ttotal: 550ms\tremaining: 3.32s\n",
      "142:\tlearn: 0.3834990\ttotal: 553ms\tremaining: 3.31s\n",
      "143:\tlearn: 0.3825286\ttotal: 555ms\tremaining: 3.3s\n",
      "144:\tlearn: 0.3813006\ttotal: 560ms\tremaining: 3.3s\n",
      "145:\tlearn: 0.3799624\ttotal: 564ms\tremaining: 3.3s\n",
      "146:\tlearn: 0.3793041\ttotal: 566ms\tremaining: 3.28s\n",
      "147:\tlearn: 0.3777091\ttotal: 569ms\tremaining: 3.27s\n",
      "148:\tlearn: 0.3768772\ttotal: 570ms\tremaining: 3.26s\n",
      "149:\tlearn: 0.3760204\ttotal: 572ms\tremaining: 3.24s\n",
      "150:\tlearn: 0.3748893\ttotal: 575ms\tremaining: 3.23s\n",
      "151:\tlearn: 0.3739534\ttotal: 577ms\tremaining: 3.22s\n",
      "152:\tlearn: 0.3728866\ttotal: 580ms\tremaining: 3.21s\n",
      "153:\tlearn: 0.3717230\ttotal: 583ms\tremaining: 3.2s\n",
      "154:\tlearn: 0.3711127\ttotal: 585ms\tremaining: 3.19s\n",
      "155:\tlearn: 0.3703112\ttotal: 589ms\tremaining: 3.19s\n",
      "156:\tlearn: 0.3695140\ttotal: 591ms\tremaining: 3.17s\n",
      "157:\tlearn: 0.3685048\ttotal: 594ms\tremaining: 3.16s\n",
      "158:\tlearn: 0.3676582\ttotal: 596ms\tremaining: 3.15s\n",
      "159:\tlearn: 0.3666709\ttotal: 598ms\tremaining: 3.14s\n",
      "160:\tlearn: 0.3659989\ttotal: 601ms\tremaining: 3.13s\n",
      "161:\tlearn: 0.3652201\ttotal: 605ms\tremaining: 3.13s\n",
      "162:\tlearn: 0.3635495\ttotal: 607ms\tremaining: 3.12s\n",
      "163:\tlearn: 0.3626765\ttotal: 610ms\tremaining: 3.11s\n",
      "164:\tlearn: 0.3617584\ttotal: 612ms\tremaining: 3.1s\n",
      "165:\tlearn: 0.3608465\ttotal: 615ms\tremaining: 3.09s\n",
      "166:\tlearn: 0.3599420\ttotal: 617ms\tremaining: 3.08s\n",
      "167:\tlearn: 0.3588884\ttotal: 620ms\tremaining: 3.07s\n",
      "168:\tlearn: 0.3580343\ttotal: 622ms\tremaining: 3.06s\n",
      "169:\tlearn: 0.3571298\ttotal: 624ms\tremaining: 3.05s\n",
      "170:\tlearn: 0.3558121\ttotal: 627ms\tremaining: 3.04s\n",
      "171:\tlearn: 0.3550134\ttotal: 629ms\tremaining: 3.03s\n",
      "172:\tlearn: 0.3539847\ttotal: 632ms\tremaining: 3.02s\n",
      "173:\tlearn: 0.3528777\ttotal: 634ms\tremaining: 3.01s\n",
      "174:\tlearn: 0.3517412\ttotal: 636ms\tremaining: 3s\n",
      "175:\tlearn: 0.3506641\ttotal: 639ms\tremaining: 2.99s\n",
      "176:\tlearn: 0.3494928\ttotal: 641ms\tremaining: 2.98s\n",
      "177:\tlearn: 0.3493087\ttotal: 642ms\tremaining: 2.97s\n",
      "178:\tlearn: 0.3484415\ttotal: 645ms\tremaining: 2.96s\n",
      "179:\tlearn: 0.3472385\ttotal: 647ms\tremaining: 2.95s\n",
      "180:\tlearn: 0.3468629\ttotal: 649ms\tremaining: 2.94s\n",
      "181:\tlearn: 0.3457944\ttotal: 651ms\tremaining: 2.93s\n",
      "182:\tlearn: 0.3451116\ttotal: 653ms\tremaining: 2.92s\n",
      "183:\tlearn: 0.3448735\ttotal: 655ms\tremaining: 2.9s\n",
      "184:\tlearn: 0.3440985\ttotal: 657ms\tremaining: 2.9s\n",
      "185:\tlearn: 0.3433807\ttotal: 660ms\tremaining: 2.89s\n",
      "186:\tlearn: 0.3428890\ttotal: 662ms\tremaining: 2.88s\n",
      "187:\tlearn: 0.3419394\ttotal: 664ms\tremaining: 2.87s\n",
      "188:\tlearn: 0.3412764\ttotal: 667ms\tremaining: 2.86s\n",
      "189:\tlearn: 0.3403198\ttotal: 669ms\tremaining: 2.85s\n",
      "190:\tlearn: 0.3392090\ttotal: 671ms\tremaining: 2.84s\n",
      "191:\tlearn: 0.3386100\ttotal: 674ms\tremaining: 2.83s\n",
      "192:\tlearn: 0.3374973\ttotal: 676ms\tremaining: 2.83s\n",
      "193:\tlearn: 0.3364674\ttotal: 679ms\tremaining: 2.82s\n",
      "194:\tlearn: 0.3359286\ttotal: 681ms\tremaining: 2.81s\n",
      "195:\tlearn: 0.3352238\ttotal: 684ms\tremaining: 2.8s\n",
      "196:\tlearn: 0.3343782\ttotal: 686ms\tremaining: 2.8s\n",
      "197:\tlearn: 0.3340752\ttotal: 688ms\tremaining: 2.78s\n",
      "198:\tlearn: 0.3333191\ttotal: 690ms\tremaining: 2.78s\n",
      "199:\tlearn: 0.3325550\ttotal: 693ms\tremaining: 2.77s\n",
      "200:\tlearn: 0.3314784\ttotal: 696ms\tremaining: 2.77s\n",
      "201:\tlearn: 0.3308221\ttotal: 699ms\tremaining: 2.76s\n",
      "202:\tlearn: 0.3302169\ttotal: 702ms\tremaining: 2.75s\n",
      "203:\tlearn: 0.3295253\ttotal: 704ms\tremaining: 2.75s\n",
      "204:\tlearn: 0.3288597\ttotal: 707ms\tremaining: 2.74s\n",
      "205:\tlearn: 0.3279335\ttotal: 709ms\tremaining: 2.73s\n",
      "206:\tlearn: 0.3269084\ttotal: 712ms\tremaining: 2.73s\n",
      "207:\tlearn: 0.3261522\ttotal: 714ms\tremaining: 2.72s\n",
      "208:\tlearn: 0.3257893\ttotal: 717ms\tremaining: 2.71s\n",
      "209:\tlearn: 0.3248533\ttotal: 719ms\tremaining: 2.71s\n",
      "210:\tlearn: 0.3238254\ttotal: 722ms\tremaining: 2.7s\n",
      "211:\tlearn: 0.3228750\ttotal: 725ms\tremaining: 2.69s\n",
      "212:\tlearn: 0.3218009\ttotal: 728ms\tremaining: 2.69s\n",
      "213:\tlearn: 0.3208920\ttotal: 731ms\tremaining: 2.68s\n",
      "214:\tlearn: 0.3201998\ttotal: 733ms\tremaining: 2.68s\n",
      "215:\tlearn: 0.3195843\ttotal: 737ms\tremaining: 2.67s\n",
      "216:\tlearn: 0.3189893\ttotal: 740ms\tremaining: 2.67s\n",
      "217:\tlearn: 0.3187717\ttotal: 741ms\tremaining: 2.66s\n",
      "218:\tlearn: 0.3176907\ttotal: 744ms\tremaining: 2.65s\n",
      "219:\tlearn: 0.3173608\ttotal: 746ms\tremaining: 2.65s\n",
      "220:\tlearn: 0.3169979\ttotal: 749ms\tremaining: 2.64s\n",
      "221:\tlearn: 0.3163302\ttotal: 751ms\tremaining: 2.63s\n",
      "222:\tlearn: 0.3156713\ttotal: 753ms\tremaining: 2.62s\n",
      "223:\tlearn: 0.3149594\ttotal: 756ms\tremaining: 2.62s\n",
      "224:\tlearn: 0.3143495\ttotal: 758ms\tremaining: 2.61s\n",
      "225:\tlearn: 0.3138608\ttotal: 762ms\tremaining: 2.61s\n",
      "226:\tlearn: 0.3131623\ttotal: 764ms\tremaining: 2.6s\n",
      "227:\tlearn: 0.3123260\ttotal: 766ms\tremaining: 2.59s\n",
      "228:\tlearn: 0.3116216\ttotal: 769ms\tremaining: 2.59s\n",
      "229:\tlearn: 0.3112987\ttotal: 771ms\tremaining: 2.58s\n",
      "230:\tlearn: 0.3103659\ttotal: 773ms\tremaining: 2.57s\n",
      "231:\tlearn: 0.3097855\ttotal: 775ms\tremaining: 2.56s\n",
      "232:\tlearn: 0.3091185\ttotal: 778ms\tremaining: 2.56s\n",
      "233:\tlearn: 0.3081256\ttotal: 780ms\tremaining: 2.55s\n",
      "234:\tlearn: 0.3075001\ttotal: 783ms\tremaining: 2.55s\n",
      "235:\tlearn: 0.3069377\ttotal: 785ms\tremaining: 2.54s\n",
      "236:\tlearn: 0.3060366\ttotal: 788ms\tremaining: 2.54s\n",
      "237:\tlearn: 0.3053498\ttotal: 790ms\tremaining: 2.53s\n",
      "238:\tlearn: 0.3047047\ttotal: 792ms\tremaining: 2.52s\n",
      "239:\tlearn: 0.3041771\ttotal: 795ms\tremaining: 2.52s\n",
      "240:\tlearn: 0.3033165\ttotal: 797ms\tremaining: 2.51s\n",
      "241:\tlearn: 0.3025413\ttotal: 799ms\tremaining: 2.5s\n",
      "242:\tlearn: 0.3020221\ttotal: 802ms\tremaining: 2.5s\n",
      "243:\tlearn: 0.3014763\ttotal: 805ms\tremaining: 2.49s\n",
      "244:\tlearn: 0.3008868\ttotal: 807ms\tremaining: 2.49s\n",
      "245:\tlearn: 0.3004318\ttotal: 810ms\tremaining: 2.48s\n",
      "246:\tlearn: 0.2996977\ttotal: 812ms\tremaining: 2.48s\n",
      "247:\tlearn: 0.2990218\ttotal: 814ms\tremaining: 2.47s\n",
      "248:\tlearn: 0.2984212\ttotal: 817ms\tremaining: 2.46s\n",
      "249:\tlearn: 0.2978344\ttotal: 819ms\tremaining: 2.46s\n",
      "250:\tlearn: 0.2972690\ttotal: 821ms\tremaining: 2.45s\n",
      "251:\tlearn: 0.2966157\ttotal: 824ms\tremaining: 2.44s\n",
      "252:\tlearn: 0.2959374\ttotal: 826ms\tremaining: 2.44s\n",
      "253:\tlearn: 0.2954396\ttotal: 829ms\tremaining: 2.43s\n",
      "254:\tlearn: 0.2949978\ttotal: 831ms\tremaining: 2.43s\n",
      "255:\tlearn: 0.2943271\ttotal: 834ms\tremaining: 2.42s\n",
      "256:\tlearn: 0.2936491\ttotal: 836ms\tremaining: 2.42s\n",
      "257:\tlearn: 0.2931816\ttotal: 838ms\tremaining: 2.41s\n",
      "258:\tlearn: 0.2925073\ttotal: 841ms\tremaining: 2.4s\n",
      "259:\tlearn: 0.2919512\ttotal: 843ms\tremaining: 2.4s\n",
      "260:\tlearn: 0.2912863\ttotal: 845ms\tremaining: 2.39s\n",
      "261:\tlearn: 0.2905688\ttotal: 848ms\tremaining: 2.39s\n",
      "262:\tlearn: 0.2900601\ttotal: 850ms\tremaining: 2.38s\n",
      "263:\tlearn: 0.2893872\ttotal: 853ms\tremaining: 2.38s\n",
      "264:\tlearn: 0.2886374\ttotal: 855ms\tremaining: 2.37s\n",
      "265:\tlearn: 0.2882908\ttotal: 858ms\tremaining: 2.37s\n",
      "266:\tlearn: 0.2877231\ttotal: 861ms\tremaining: 2.36s\n",
      "267:\tlearn: 0.2870408\ttotal: 864ms\tremaining: 2.36s\n",
      "268:\tlearn: 0.2864123\ttotal: 867ms\tremaining: 2.35s\n",
      "269:\tlearn: 0.2859989\ttotal: 869ms\tremaining: 2.35s\n",
      "270:\tlearn: 0.2854142\ttotal: 872ms\tremaining: 2.35s\n",
      "271:\tlearn: 0.2847097\ttotal: 875ms\tremaining: 2.34s\n",
      "272:\tlearn: 0.2842928\ttotal: 877ms\tremaining: 2.34s\n",
      "273:\tlearn: 0.2834978\ttotal: 881ms\tremaining: 2.33s\n",
      "274:\tlearn: 0.2829760\ttotal: 884ms\tremaining: 2.33s\n",
      "275:\tlearn: 0.2825021\ttotal: 888ms\tremaining: 2.33s\n",
      "276:\tlearn: 0.2820796\ttotal: 891ms\tremaining: 2.32s\n",
      "277:\tlearn: 0.2813756\ttotal: 893ms\tremaining: 2.32s\n",
      "278:\tlearn: 0.2805873\ttotal: 897ms\tremaining: 2.32s\n",
      "279:\tlearn: 0.2799401\ttotal: 900ms\tremaining: 2.31s\n",
      "280:\tlearn: 0.2796124\ttotal: 903ms\tremaining: 2.31s\n",
      "281:\tlearn: 0.2792822\ttotal: 905ms\tremaining: 2.3s\n",
      "282:\tlearn: 0.2787540\ttotal: 907ms\tremaining: 2.3s\n",
      "283:\tlearn: 0.2781662\ttotal: 909ms\tremaining: 2.29s\n",
      "284:\tlearn: 0.2777022\ttotal: 912ms\tremaining: 2.29s\n",
      "285:\tlearn: 0.2773477\ttotal: 914ms\tremaining: 2.28s\n",
      "286:\tlearn: 0.2767603\ttotal: 919ms\tremaining: 2.28s\n",
      "287:\tlearn: 0.2764083\ttotal: 921ms\tremaining: 2.28s\n",
      "288:\tlearn: 0.2759663\ttotal: 925ms\tremaining: 2.27s\n",
      "289:\tlearn: 0.2753587\ttotal: 927ms\tremaining: 2.27s\n",
      "290:\tlearn: 0.2746643\ttotal: 930ms\tremaining: 2.27s\n",
      "291:\tlearn: 0.2743045\ttotal: 932ms\tremaining: 2.26s\n",
      "292:\tlearn: 0.2737883\ttotal: 934ms\tremaining: 2.25s\n",
      "293:\tlearn: 0.2732507\ttotal: 937ms\tremaining: 2.25s\n",
      "294:\tlearn: 0.2728236\ttotal: 940ms\tremaining: 2.25s\n",
      "295:\tlearn: 0.2723235\ttotal: 942ms\tremaining: 2.24s\n",
      "296:\tlearn: 0.2720229\ttotal: 944ms\tremaining: 2.23s\n",
      "297:\tlearn: 0.2716155\ttotal: 947ms\tremaining: 2.23s\n",
      "298:\tlearn: 0.2715368\ttotal: 948ms\tremaining: 2.22s\n",
      "299:\tlearn: 0.2709489\ttotal: 950ms\tremaining: 2.22s\n",
      "300:\tlearn: 0.2707734\ttotal: 953ms\tremaining: 2.21s\n",
      "301:\tlearn: 0.2702293\ttotal: 955ms\tremaining: 2.21s\n",
      "302:\tlearn: 0.2696748\ttotal: 957ms\tremaining: 2.2s\n",
      "303:\tlearn: 0.2691432\ttotal: 960ms\tremaining: 2.2s\n",
      "304:\tlearn: 0.2687226\ttotal: 963ms\tremaining: 2.19s\n",
      "305:\tlearn: 0.2681578\ttotal: 965ms\tremaining: 2.19s\n",
      "306:\tlearn: 0.2675144\ttotal: 967ms\tremaining: 2.18s\n",
      "307:\tlearn: 0.2669498\ttotal: 970ms\tremaining: 2.18s\n",
      "308:\tlearn: 0.2661322\ttotal: 972ms\tremaining: 2.17s\n",
      "309:\tlearn: 0.2658007\ttotal: 974ms\tremaining: 2.17s\n",
      "310:\tlearn: 0.2651869\ttotal: 977ms\tremaining: 2.16s\n",
      "311:\tlearn: 0.2645788\ttotal: 979ms\tremaining: 2.16s\n",
      "312:\tlearn: 0.2641828\ttotal: 981ms\tremaining: 2.15s\n",
      "313:\tlearn: 0.2636855\ttotal: 984ms\tremaining: 2.15s\n",
      "314:\tlearn: 0.2635631\ttotal: 985ms\tremaining: 2.14s\n",
      "315:\tlearn: 0.2633019\ttotal: 988ms\tremaining: 2.14s\n",
      "316:\tlearn: 0.2625156\ttotal: 990ms\tremaining: 2.13s\n",
      "317:\tlearn: 0.2620602\ttotal: 993ms\tremaining: 2.13s\n",
      "318:\tlearn: 0.2615188\ttotal: 996ms\tremaining: 2.13s\n",
      "319:\tlearn: 0.2608887\ttotal: 1s\tremaining: 2.13s\n",
      "320:\tlearn: 0.2604135\ttotal: 1.01s\tremaining: 2.13s\n",
      "321:\tlearn: 0.2598265\ttotal: 1.01s\tremaining: 2.13s\n",
      "322:\tlearn: 0.2594858\ttotal: 1.02s\tremaining: 2.14s\n",
      "323:\tlearn: 0.2590216\ttotal: 1.03s\tremaining: 2.15s\n",
      "324:\tlearn: 0.2583514\ttotal: 1.03s\tremaining: 2.14s\n",
      "325:\tlearn: 0.2580271\ttotal: 1.04s\tremaining: 2.14s\n",
      "326:\tlearn: 0.2573983\ttotal: 1.04s\tremaining: 2.14s\n",
      "327:\tlearn: 0.2570270\ttotal: 1.04s\tremaining: 2.14s\n",
      "328:\tlearn: 0.2564372\ttotal: 1.05s\tremaining: 2.14s\n",
      "329:\tlearn: 0.2558454\ttotal: 1.05s\tremaining: 2.13s\n",
      "330:\tlearn: 0.2551825\ttotal: 1.05s\tremaining: 2.13s\n",
      "331:\tlearn: 0.2548329\ttotal: 1.06s\tremaining: 2.13s\n",
      "332:\tlearn: 0.2542844\ttotal: 1.06s\tremaining: 2.12s\n",
      "333:\tlearn: 0.2539384\ttotal: 1.06s\tremaining: 2.12s\n",
      "334:\tlearn: 0.2533879\ttotal: 1.06s\tremaining: 2.12s\n",
      "335:\tlearn: 0.2529737\ttotal: 1.07s\tremaining: 2.11s\n",
      "336:\tlearn: 0.2523860\ttotal: 1.07s\tremaining: 2.11s\n",
      "337:\tlearn: 0.2520062\ttotal: 1.07s\tremaining: 2.1s\n",
      "338:\tlearn: 0.2513630\ttotal: 1.07s\tremaining: 2.1s\n",
      "339:\tlearn: 0.2508654\ttotal: 1.08s\tremaining: 2.09s\n",
      "340:\tlearn: 0.2501837\ttotal: 1.08s\tremaining: 2.09s\n",
      "341:\tlearn: 0.2498317\ttotal: 1.08s\tremaining: 2.08s\n",
      "342:\tlearn: 0.2492722\ttotal: 1.08s\tremaining: 2.08s\n",
      "343:\tlearn: 0.2488459\ttotal: 1.09s\tremaining: 2.07s\n",
      "344:\tlearn: 0.2485551\ttotal: 1.09s\tremaining: 2.07s\n",
      "345:\tlearn: 0.2482301\ttotal: 1.09s\tremaining: 2.06s\n",
      "346:\tlearn: 0.2478084\ttotal: 1.09s\tremaining: 2.06s\n",
      "347:\tlearn: 0.2470580\ttotal: 1.1s\tremaining: 2.06s\n",
      "348:\tlearn: 0.2467725\ttotal: 1.1s\tremaining: 2.05s\n",
      "349:\tlearn: 0.2465421\ttotal: 1.1s\tremaining: 2.05s\n",
      "350:\tlearn: 0.2463905\ttotal: 1.1s\tremaining: 2.04s\n",
      "351:\tlearn: 0.2460470\ttotal: 1.11s\tremaining: 2.04s\n",
      "352:\tlearn: 0.2455108\ttotal: 1.11s\tremaining: 2.04s\n",
      "353:\tlearn: 0.2449065\ttotal: 1.11s\tremaining: 2.03s\n",
      "354:\tlearn: 0.2443275\ttotal: 1.11s\tremaining: 2.03s\n",
      "355:\tlearn: 0.2439699\ttotal: 1.12s\tremaining: 2.02s\n",
      "356:\tlearn: 0.2437030\ttotal: 1.12s\tremaining: 2.02s\n",
      "357:\tlearn: 0.2434876\ttotal: 1.12s\tremaining: 2.01s\n",
      "358:\tlearn: 0.2427497\ttotal: 1.13s\tremaining: 2.01s\n",
      "359:\tlearn: 0.2425065\ttotal: 1.13s\tremaining: 2.01s\n",
      "360:\tlearn: 0.2424326\ttotal: 1.13s\tremaining: 2s\n",
      "361:\tlearn: 0.2418997\ttotal: 1.13s\tremaining: 2s\n",
      "362:\tlearn: 0.2415567\ttotal: 1.14s\tremaining: 1.99s\n",
      "363:\tlearn: 0.2412573\ttotal: 1.14s\tremaining: 1.99s\n",
      "364:\tlearn: 0.2407012\ttotal: 1.14s\tremaining: 1.99s\n",
      "365:\tlearn: 0.2401423\ttotal: 1.14s\tremaining: 1.98s\n",
      "366:\tlearn: 0.2398656\ttotal: 1.15s\tremaining: 1.98s\n",
      "367:\tlearn: 0.2393955\ttotal: 1.15s\tremaining: 1.97s\n",
      "368:\tlearn: 0.2392256\ttotal: 1.15s\tremaining: 1.97s\n",
      "369:\tlearn: 0.2389727\ttotal: 1.15s\tremaining: 1.96s\n",
      "370:\tlearn: 0.2385484\ttotal: 1.16s\tremaining: 1.96s\n",
      "371:\tlearn: 0.2382430\ttotal: 1.16s\tremaining: 1.96s\n",
      "372:\tlearn: 0.2379014\ttotal: 1.16s\tremaining: 1.95s\n",
      "373:\tlearn: 0.2374803\ttotal: 1.16s\tremaining: 1.95s\n",
      "374:\tlearn: 0.2371016\ttotal: 1.17s\tremaining: 1.94s\n",
      "375:\tlearn: 0.2367273\ttotal: 1.17s\tremaining: 1.94s\n",
      "376:\tlearn: 0.2365600\ttotal: 1.17s\tremaining: 1.93s\n",
      "377:\tlearn: 0.2363554\ttotal: 1.17s\tremaining: 1.93s\n",
      "378:\tlearn: 0.2363337\ttotal: 1.17s\tremaining: 1.92s\n",
      "379:\tlearn: 0.2359907\ttotal: 1.18s\tremaining: 1.92s\n",
      "380:\tlearn: 0.2356223\ttotal: 1.18s\tremaining: 1.91s\n",
      "381:\tlearn: 0.2354253\ttotal: 1.18s\tremaining: 1.91s\n",
      "382:\tlearn: 0.2349246\ttotal: 1.18s\tremaining: 1.91s\n",
      "383:\tlearn: 0.2343755\ttotal: 1.19s\tremaining: 1.9s\n",
      "384:\tlearn: 0.2338313\ttotal: 1.19s\tremaining: 1.9s\n",
      "385:\tlearn: 0.2332373\ttotal: 1.19s\tremaining: 1.89s\n",
      "386:\tlearn: 0.2330397\ttotal: 1.19s\tremaining: 1.89s\n",
      "387:\tlearn: 0.2326857\ttotal: 1.2s\tremaining: 1.88s\n",
      "388:\tlearn: 0.2322357\ttotal: 1.2s\tremaining: 1.88s\n",
      "389:\tlearn: 0.2318804\ttotal: 1.2s\tremaining: 1.88s\n",
      "390:\tlearn: 0.2313779\ttotal: 1.2s\tremaining: 1.87s\n",
      "391:\tlearn: 0.2310754\ttotal: 1.2s\tremaining: 1.87s\n",
      "392:\tlearn: 0.2308710\ttotal: 1.21s\tremaining: 1.86s\n",
      "393:\tlearn: 0.2308290\ttotal: 1.21s\tremaining: 1.86s\n",
      "394:\tlearn: 0.2303974\ttotal: 1.21s\tremaining: 1.85s\n",
      "395:\tlearn: 0.2301340\ttotal: 1.21s\tremaining: 1.85s\n",
      "396:\tlearn: 0.2298234\ttotal: 1.22s\tremaining: 1.84s\n",
      "397:\tlearn: 0.2295457\ttotal: 1.22s\tremaining: 1.84s\n",
      "398:\tlearn: 0.2292902\ttotal: 1.22s\tremaining: 1.84s\n",
      "399:\tlearn: 0.2290617\ttotal: 1.22s\tremaining: 1.83s\n",
      "400:\tlearn: 0.2288963\ttotal: 1.22s\tremaining: 1.83s\n",
      "401:\tlearn: 0.2286324\ttotal: 1.23s\tremaining: 1.82s\n",
      "402:\tlearn: 0.2284257\ttotal: 1.23s\tremaining: 1.82s\n",
      "403:\tlearn: 0.2280141\ttotal: 1.23s\tremaining: 1.82s\n",
      "404:\tlearn: 0.2276392\ttotal: 1.23s\tremaining: 1.81s\n",
      "405:\tlearn: 0.2274166\ttotal: 1.24s\tremaining: 1.81s\n",
      "406:\tlearn: 0.2272299\ttotal: 1.24s\tremaining: 1.8s\n",
      "407:\tlearn: 0.2268745\ttotal: 1.24s\tremaining: 1.8s\n",
      "408:\tlearn: 0.2267208\ttotal: 1.24s\tremaining: 1.8s\n",
      "409:\tlearn: 0.2260742\ttotal: 1.25s\tremaining: 1.79s\n",
      "410:\tlearn: 0.2256197\ttotal: 1.25s\tremaining: 1.79s\n",
      "411:\tlearn: 0.2253275\ttotal: 1.25s\tremaining: 1.78s\n",
      "412:\tlearn: 0.2251665\ttotal: 1.25s\tremaining: 1.78s\n",
      "413:\tlearn: 0.2249016\ttotal: 1.25s\tremaining: 1.78s\n",
      "414:\tlearn: 0.2244073\ttotal: 1.26s\tremaining: 1.77s\n",
      "415:\tlearn: 0.2240779\ttotal: 1.26s\tremaining: 1.77s\n",
      "416:\tlearn: 0.2238298\ttotal: 1.26s\tremaining: 1.76s\n",
      "417:\tlearn: 0.2232070\ttotal: 1.26s\tremaining: 1.76s\n",
      "418:\tlearn: 0.2229475\ttotal: 1.27s\tremaining: 1.76s\n",
      "419:\tlearn: 0.2224714\ttotal: 1.27s\tremaining: 1.75s\n",
      "420:\tlearn: 0.2221379\ttotal: 1.27s\tremaining: 1.75s\n",
      "421:\tlearn: 0.2217219\ttotal: 1.27s\tremaining: 1.75s\n",
      "422:\tlearn: 0.2216841\ttotal: 1.28s\tremaining: 1.74s\n",
      "423:\tlearn: 0.2214466\ttotal: 1.28s\tremaining: 1.74s\n",
      "424:\tlearn: 0.2209843\ttotal: 1.28s\tremaining: 1.73s\n",
      "425:\tlearn: 0.2204794\ttotal: 1.28s\tremaining: 1.73s\n",
      "426:\tlearn: 0.2201179\ttotal: 1.29s\tremaining: 1.73s\n",
      "427:\tlearn: 0.2198577\ttotal: 1.29s\tremaining: 1.72s\n",
      "428:\tlearn: 0.2195123\ttotal: 1.29s\tremaining: 1.72s\n",
      "429:\tlearn: 0.2193334\ttotal: 1.29s\tremaining: 1.72s\n",
      "430:\tlearn: 0.2189364\ttotal: 1.3s\tremaining: 1.71s\n",
      "431:\tlearn: 0.2186355\ttotal: 1.3s\tremaining: 1.71s\n",
      "432:\tlearn: 0.2182548\ttotal: 1.3s\tremaining: 1.7s\n",
      "433:\tlearn: 0.2179336\ttotal: 1.3s\tremaining: 1.7s\n",
      "434:\tlearn: 0.2175820\ttotal: 1.31s\tremaining: 1.7s\n",
      "435:\tlearn: 0.2173647\ttotal: 1.31s\tremaining: 1.69s\n",
      "436:\tlearn: 0.2170677\ttotal: 1.31s\tremaining: 1.69s\n",
      "437:\tlearn: 0.2166807\ttotal: 1.31s\tremaining: 1.69s\n",
      "438:\tlearn: 0.2164495\ttotal: 1.32s\tremaining: 1.68s\n",
      "439:\tlearn: 0.2161833\ttotal: 1.32s\tremaining: 1.68s\n",
      "440:\tlearn: 0.2158234\ttotal: 1.32s\tremaining: 1.68s\n",
      "441:\tlearn: 0.2155294\ttotal: 1.32s\tremaining: 1.67s\n",
      "442:\tlearn: 0.2152638\ttotal: 1.33s\tremaining: 1.67s\n",
      "443:\tlearn: 0.2152222\ttotal: 1.33s\tremaining: 1.66s\n",
      "444:\tlearn: 0.2149299\ttotal: 1.33s\tremaining: 1.66s\n",
      "445:\tlearn: 0.2147298\ttotal: 1.33s\tremaining: 1.66s\n",
      "446:\tlearn: 0.2143608\ttotal: 1.33s\tremaining: 1.65s\n",
      "447:\tlearn: 0.2141351\ttotal: 1.34s\tremaining: 1.65s\n",
      "448:\tlearn: 0.2139377\ttotal: 1.34s\tremaining: 1.65s\n",
      "449:\tlearn: 0.2135218\ttotal: 1.34s\tremaining: 1.64s\n",
      "450:\tlearn: 0.2131470\ttotal: 1.34s\tremaining: 1.64s\n",
      "451:\tlearn: 0.2128228\ttotal: 1.35s\tremaining: 1.63s\n",
      "452:\tlearn: 0.2125152\ttotal: 1.35s\tremaining: 1.63s\n",
      "453:\tlearn: 0.2122067\ttotal: 1.35s\tremaining: 1.63s\n",
      "454:\tlearn: 0.2119225\ttotal: 1.35s\tremaining: 1.62s\n",
      "455:\tlearn: 0.2115789\ttotal: 1.36s\tremaining: 1.62s\n",
      "456:\tlearn: 0.2113981\ttotal: 1.36s\tremaining: 1.62s\n",
      "457:\tlearn: 0.2110261\ttotal: 1.36s\tremaining: 1.61s\n",
      "458:\tlearn: 0.2107144\ttotal: 1.37s\tremaining: 1.61s\n",
      "459:\tlearn: 0.2104714\ttotal: 1.37s\tremaining: 1.61s\n",
      "460:\tlearn: 0.2104109\ttotal: 1.37s\tremaining: 1.6s\n",
      "461:\tlearn: 0.2101703\ttotal: 1.37s\tremaining: 1.6s\n",
      "462:\tlearn: 0.2100334\ttotal: 1.38s\tremaining: 1.6s\n",
      "463:\tlearn: 0.2097915\ttotal: 1.38s\tremaining: 1.59s\n",
      "464:\tlearn: 0.2094710\ttotal: 1.38s\tremaining: 1.59s\n",
      "465:\tlearn: 0.2090248\ttotal: 1.39s\tremaining: 1.59s\n",
      "466:\tlearn: 0.2087082\ttotal: 1.39s\tremaining: 1.58s\n",
      "467:\tlearn: 0.2084282\ttotal: 1.39s\tremaining: 1.58s\n",
      "468:\tlearn: 0.2081119\ttotal: 1.39s\tremaining: 1.58s\n",
      "469:\tlearn: 0.2077517\ttotal: 1.39s\tremaining: 1.57s\n",
      "470:\tlearn: 0.2075768\ttotal: 1.4s\tremaining: 1.57s\n",
      "471:\tlearn: 0.2071594\ttotal: 1.4s\tremaining: 1.56s\n",
      "472:\tlearn: 0.2070171\ttotal: 1.4s\tremaining: 1.56s\n",
      "473:\tlearn: 0.2067570\ttotal: 1.41s\tremaining: 1.56s\n",
      "474:\tlearn: 0.2063993\ttotal: 1.41s\tremaining: 1.56s\n",
      "475:\tlearn: 0.2061710\ttotal: 1.41s\tremaining: 1.55s\n",
      "476:\tlearn: 0.2059040\ttotal: 1.41s\tremaining: 1.55s\n",
      "477:\tlearn: 0.2055050\ttotal: 1.42s\tremaining: 1.55s\n",
      "478:\tlearn: 0.2052382\ttotal: 1.42s\tremaining: 1.54s\n",
      "479:\tlearn: 0.2051197\ttotal: 1.42s\tremaining: 1.54s\n",
      "480:\tlearn: 0.2049030\ttotal: 1.42s\tremaining: 1.53s\n",
      "481:\tlearn: 0.2044730\ttotal: 1.43s\tremaining: 1.53s\n",
      "482:\tlearn: 0.2040865\ttotal: 1.43s\tremaining: 1.53s\n",
      "483:\tlearn: 0.2036238\ttotal: 1.43s\tremaining: 1.53s\n",
      "484:\tlearn: 0.2034729\ttotal: 1.43s\tremaining: 1.52s\n",
      "485:\tlearn: 0.2031060\ttotal: 1.44s\tremaining: 1.52s\n",
      "486:\tlearn: 0.2027402\ttotal: 1.44s\tremaining: 1.52s\n",
      "487:\tlearn: 0.2024685\ttotal: 1.44s\tremaining: 1.51s\n",
      "488:\tlearn: 0.2022760\ttotal: 1.44s\tremaining: 1.51s\n",
      "489:\tlearn: 0.2018737\ttotal: 1.45s\tremaining: 1.5s\n",
      "490:\tlearn: 0.2017044\ttotal: 1.45s\tremaining: 1.5s\n",
      "491:\tlearn: 0.2013679\ttotal: 1.45s\tremaining: 1.5s\n",
      "492:\tlearn: 0.2012274\ttotal: 1.46s\tremaining: 1.5s\n",
      "493:\tlearn: 0.2010796\ttotal: 1.46s\tremaining: 1.49s\n",
      "494:\tlearn: 0.2009281\ttotal: 1.46s\tremaining: 1.49s\n",
      "495:\tlearn: 0.2005244\ttotal: 1.46s\tremaining: 1.49s\n",
      "496:\tlearn: 0.2000454\ttotal: 1.47s\tremaining: 1.49s\n",
      "497:\tlearn: 0.1998661\ttotal: 1.47s\tremaining: 1.48s\n",
      "498:\tlearn: 0.1994358\ttotal: 1.48s\tremaining: 1.48s\n",
      "499:\tlearn: 0.1990550\ttotal: 1.48s\tremaining: 1.48s\n",
      "500:\tlearn: 0.1988256\ttotal: 1.48s\tremaining: 1.48s\n",
      "501:\tlearn: 0.1984772\ttotal: 1.49s\tremaining: 1.48s\n",
      "502:\tlearn: 0.1980478\ttotal: 1.49s\tremaining: 1.47s\n",
      "503:\tlearn: 0.1978369\ttotal: 1.5s\tremaining: 1.47s\n",
      "504:\tlearn: 0.1976465\ttotal: 1.5s\tremaining: 1.47s\n",
      "505:\tlearn: 0.1974310\ttotal: 1.5s\tremaining: 1.46s\n",
      "506:\tlearn: 0.1972642\ttotal: 1.5s\tremaining: 1.46s\n",
      "507:\tlearn: 0.1971638\ttotal: 1.5s\tremaining: 1.46s\n",
      "508:\tlearn: 0.1968878\ttotal: 1.51s\tremaining: 1.45s\n",
      "509:\tlearn: 0.1968202\ttotal: 1.51s\tremaining: 1.45s\n",
      "510:\tlearn: 0.1965626\ttotal: 1.51s\tremaining: 1.45s\n",
      "511:\tlearn: 0.1963363\ttotal: 1.51s\tremaining: 1.44s\n",
      "512:\tlearn: 0.1960253\ttotal: 1.52s\tremaining: 1.44s\n",
      "513:\tlearn: 0.1956787\ttotal: 1.52s\tremaining: 1.44s\n",
      "514:\tlearn: 0.1954825\ttotal: 1.52s\tremaining: 1.43s\n",
      "515:\tlearn: 0.1951556\ttotal: 1.52s\tremaining: 1.43s\n",
      "516:\tlearn: 0.1948889\ttotal: 1.53s\tremaining: 1.43s\n",
      "517:\tlearn: 0.1946541\ttotal: 1.53s\tremaining: 1.42s\n",
      "518:\tlearn: 0.1944587\ttotal: 1.53s\tremaining: 1.42s\n",
      "519:\tlearn: 0.1940790\ttotal: 1.53s\tremaining: 1.42s\n",
      "520:\tlearn: 0.1937702\ttotal: 1.53s\tremaining: 1.41s\n",
      "521:\tlearn: 0.1934759\ttotal: 1.54s\tremaining: 1.41s\n",
      "522:\tlearn: 0.1931218\ttotal: 1.54s\tremaining: 1.41s\n",
      "523:\tlearn: 0.1929083\ttotal: 1.54s\tremaining: 1.4s\n",
      "524:\tlearn: 0.1926120\ttotal: 1.54s\tremaining: 1.4s\n",
      "525:\tlearn: 0.1923242\ttotal: 1.55s\tremaining: 1.4s\n",
      "526:\tlearn: 0.1921532\ttotal: 1.55s\tremaining: 1.39s\n",
      "527:\tlearn: 0.1919317\ttotal: 1.55s\tremaining: 1.39s\n",
      "528:\tlearn: 0.1917263\ttotal: 1.55s\tremaining: 1.39s\n",
      "529:\tlearn: 0.1914628\ttotal: 1.56s\tremaining: 1.38s\n",
      "530:\tlearn: 0.1911875\ttotal: 1.56s\tremaining: 1.38s\n",
      "531:\tlearn: 0.1910995\ttotal: 1.56s\tremaining: 1.38s\n",
      "532:\tlearn: 0.1909624\ttotal: 1.57s\tremaining: 1.37s\n",
      "533:\tlearn: 0.1908250\ttotal: 1.57s\tremaining: 1.37s\n",
      "534:\tlearn: 0.1904961\ttotal: 1.57s\tremaining: 1.36s\n",
      "535:\tlearn: 0.1903154\ttotal: 1.57s\tremaining: 1.36s\n",
      "536:\tlearn: 0.1898373\ttotal: 1.57s\tremaining: 1.36s\n",
      "537:\tlearn: 0.1896159\ttotal: 1.58s\tremaining: 1.35s\n",
      "538:\tlearn: 0.1894012\ttotal: 1.58s\tremaining: 1.35s\n",
      "539:\tlearn: 0.1892184\ttotal: 1.58s\tremaining: 1.35s\n",
      "540:\tlearn: 0.1890101\ttotal: 1.58s\tremaining: 1.34s\n",
      "541:\tlearn: 0.1887129\ttotal: 1.59s\tremaining: 1.34s\n",
      "542:\tlearn: 0.1886428\ttotal: 1.59s\tremaining: 1.34s\n",
      "543:\tlearn: 0.1883639\ttotal: 1.59s\tremaining: 1.33s\n",
      "544:\tlearn: 0.1882061\ttotal: 1.59s\tremaining: 1.33s\n",
      "545:\tlearn: 0.1878414\ttotal: 1.6s\tremaining: 1.33s\n",
      "546:\tlearn: 0.1877315\ttotal: 1.6s\tremaining: 1.32s\n",
      "547:\tlearn: 0.1875956\ttotal: 1.6s\tremaining: 1.32s\n",
      "548:\tlearn: 0.1871727\ttotal: 1.6s\tremaining: 1.32s\n",
      "549:\tlearn: 0.1869621\ttotal: 1.61s\tremaining: 1.31s\n",
      "550:\tlearn: 0.1868818\ttotal: 1.61s\tremaining: 1.31s\n",
      "551:\tlearn: 0.1865294\ttotal: 1.61s\tremaining: 1.31s\n",
      "552:\tlearn: 0.1862576\ttotal: 1.61s\tremaining: 1.3s\n",
      "553:\tlearn: 0.1859022\ttotal: 1.62s\tremaining: 1.3s\n",
      "554:\tlearn: 0.1856447\ttotal: 1.62s\tremaining: 1.3s\n",
      "555:\tlearn: 0.1855062\ttotal: 1.62s\tremaining: 1.29s\n",
      "556:\tlearn: 0.1851388\ttotal: 1.62s\tremaining: 1.29s\n",
      "557:\tlearn: 0.1848422\ttotal: 1.63s\tremaining: 1.29s\n",
      "558:\tlearn: 0.1845657\ttotal: 1.63s\tremaining: 1.28s\n",
      "559:\tlearn: 0.1844184\ttotal: 1.63s\tremaining: 1.28s\n",
      "560:\tlearn: 0.1842134\ttotal: 1.63s\tremaining: 1.28s\n",
      "561:\tlearn: 0.1841580\ttotal: 1.64s\tremaining: 1.27s\n",
      "562:\tlearn: 0.1839225\ttotal: 1.64s\tremaining: 1.27s\n",
      "563:\tlearn: 0.1837959\ttotal: 1.64s\tremaining: 1.27s\n",
      "564:\tlearn: 0.1835909\ttotal: 1.64s\tremaining: 1.26s\n",
      "565:\tlearn: 0.1833198\ttotal: 1.65s\tremaining: 1.26s\n",
      "566:\tlearn: 0.1831726\ttotal: 1.65s\tremaining: 1.26s\n",
      "567:\tlearn: 0.1828718\ttotal: 1.65s\tremaining: 1.25s\n",
      "568:\tlearn: 0.1826760\ttotal: 1.65s\tremaining: 1.25s\n",
      "569:\tlearn: 0.1825455\ttotal: 1.66s\tremaining: 1.25s\n",
      "570:\tlearn: 0.1822096\ttotal: 1.66s\tremaining: 1.25s\n",
      "571:\tlearn: 0.1820863\ttotal: 1.66s\tremaining: 1.24s\n",
      "572:\tlearn: 0.1818752\ttotal: 1.66s\tremaining: 1.24s\n",
      "573:\tlearn: 0.1814444\ttotal: 1.67s\tremaining: 1.24s\n",
      "574:\tlearn: 0.1811833\ttotal: 1.67s\tremaining: 1.23s\n",
      "575:\tlearn: 0.1808320\ttotal: 1.67s\tremaining: 1.23s\n",
      "576:\tlearn: 0.1806599\ttotal: 1.67s\tremaining: 1.23s\n",
      "577:\tlearn: 0.1803960\ttotal: 1.68s\tremaining: 1.22s\n",
      "578:\tlearn: 0.1802451\ttotal: 1.68s\tremaining: 1.22s\n",
      "579:\tlearn: 0.1801648\ttotal: 1.68s\tremaining: 1.22s\n",
      "580:\tlearn: 0.1798998\ttotal: 1.68s\tremaining: 1.21s\n",
      "581:\tlearn: 0.1795726\ttotal: 1.69s\tremaining: 1.21s\n",
      "582:\tlearn: 0.1792209\ttotal: 1.69s\tremaining: 1.21s\n",
      "583:\tlearn: 0.1789948\ttotal: 1.69s\tremaining: 1.21s\n",
      "584:\tlearn: 0.1788738\ttotal: 1.69s\tremaining: 1.2s\n",
      "585:\tlearn: 0.1784906\ttotal: 1.7s\tremaining: 1.2s\n",
      "586:\tlearn: 0.1781546\ttotal: 1.7s\tremaining: 1.2s\n",
      "587:\tlearn: 0.1779942\ttotal: 1.7s\tremaining: 1.19s\n",
      "588:\tlearn: 0.1777624\ttotal: 1.7s\tremaining: 1.19s\n",
      "589:\tlearn: 0.1773143\ttotal: 1.71s\tremaining: 1.19s\n",
      "590:\tlearn: 0.1769866\ttotal: 1.71s\tremaining: 1.18s\n",
      "591:\tlearn: 0.1767167\ttotal: 1.71s\tremaining: 1.18s\n",
      "592:\tlearn: 0.1764330\ttotal: 1.71s\tremaining: 1.18s\n",
      "593:\tlearn: 0.1761760\ttotal: 1.72s\tremaining: 1.17s\n",
      "594:\tlearn: 0.1758766\ttotal: 1.72s\tremaining: 1.17s\n",
      "595:\tlearn: 0.1757883\ttotal: 1.72s\tremaining: 1.17s\n",
      "596:\tlearn: 0.1757190\ttotal: 1.72s\tremaining: 1.16s\n",
      "597:\tlearn: 0.1755627\ttotal: 1.73s\tremaining: 1.16s\n",
      "598:\tlearn: 0.1754239\ttotal: 1.73s\tremaining: 1.16s\n",
      "599:\tlearn: 0.1753382\ttotal: 1.73s\tremaining: 1.16s\n",
      "600:\tlearn: 0.1750864\ttotal: 1.74s\tremaining: 1.15s\n",
      "601:\tlearn: 0.1749709\ttotal: 1.74s\tremaining: 1.15s\n",
      "602:\tlearn: 0.1748123\ttotal: 1.74s\tremaining: 1.15s\n",
      "603:\tlearn: 0.1745785\ttotal: 1.74s\tremaining: 1.14s\n",
      "604:\tlearn: 0.1743247\ttotal: 1.75s\tremaining: 1.14s\n",
      "605:\tlearn: 0.1741720\ttotal: 1.75s\tremaining: 1.14s\n",
      "606:\tlearn: 0.1740841\ttotal: 1.75s\tremaining: 1.13s\n",
      "607:\tlearn: 0.1738128\ttotal: 1.75s\tremaining: 1.13s\n",
      "608:\tlearn: 0.1736640\ttotal: 1.75s\tremaining: 1.13s\n",
      "609:\tlearn: 0.1733671\ttotal: 1.76s\tremaining: 1.12s\n",
      "610:\tlearn: 0.1732668\ttotal: 1.76s\tremaining: 1.12s\n",
      "611:\tlearn: 0.1729871\ttotal: 1.76s\tremaining: 1.12s\n",
      "612:\tlearn: 0.1727528\ttotal: 1.77s\tremaining: 1.11s\n",
      "613:\tlearn: 0.1726238\ttotal: 1.77s\tremaining: 1.11s\n",
      "614:\tlearn: 0.1725025\ttotal: 1.77s\tremaining: 1.11s\n",
      "615:\tlearn: 0.1723451\ttotal: 1.77s\tremaining: 1.11s\n",
      "616:\tlearn: 0.1722562\ttotal: 1.78s\tremaining: 1.1s\n",
      "617:\tlearn: 0.1719589\ttotal: 1.78s\tremaining: 1.1s\n",
      "618:\tlearn: 0.1717552\ttotal: 1.78s\tremaining: 1.1s\n",
      "619:\tlearn: 0.1715682\ttotal: 1.79s\tremaining: 1.09s\n",
      "620:\tlearn: 0.1712747\ttotal: 1.79s\tremaining: 1.09s\n",
      "621:\tlearn: 0.1711233\ttotal: 1.79s\tremaining: 1.09s\n",
      "622:\tlearn: 0.1708904\ttotal: 1.79s\tremaining: 1.09s\n",
      "623:\tlearn: 0.1706847\ttotal: 1.8s\tremaining: 1.08s\n",
      "624:\tlearn: 0.1704536\ttotal: 1.8s\tremaining: 1.08s\n",
      "625:\tlearn: 0.1702666\ttotal: 1.8s\tremaining: 1.08s\n",
      "626:\tlearn: 0.1699176\ttotal: 1.8s\tremaining: 1.07s\n",
      "627:\tlearn: 0.1695662\ttotal: 1.81s\tremaining: 1.07s\n",
      "628:\tlearn: 0.1693288\ttotal: 1.81s\tremaining: 1.07s\n",
      "629:\tlearn: 0.1691727\ttotal: 1.81s\tremaining: 1.07s\n",
      "630:\tlearn: 0.1689084\ttotal: 1.82s\tremaining: 1.06s\n",
      "631:\tlearn: 0.1687638\ttotal: 1.82s\tremaining: 1.06s\n",
      "632:\tlearn: 0.1685280\ttotal: 1.82s\tremaining: 1.06s\n",
      "633:\tlearn: 0.1684095\ttotal: 1.83s\tremaining: 1.05s\n",
      "634:\tlearn: 0.1682574\ttotal: 1.83s\tremaining: 1.05s\n",
      "635:\tlearn: 0.1680173\ttotal: 1.83s\tremaining: 1.05s\n",
      "636:\tlearn: 0.1679601\ttotal: 1.83s\tremaining: 1.05s\n",
      "637:\tlearn: 0.1677555\ttotal: 1.84s\tremaining: 1.04s\n",
      "638:\tlearn: 0.1675598\ttotal: 1.84s\tremaining: 1.04s\n",
      "639:\tlearn: 0.1673206\ttotal: 1.84s\tremaining: 1.04s\n",
      "640:\tlearn: 0.1670526\ttotal: 1.84s\tremaining: 1.03s\n",
      "641:\tlearn: 0.1668371\ttotal: 1.85s\tremaining: 1.03s\n",
      "642:\tlearn: 0.1667531\ttotal: 1.85s\tremaining: 1.03s\n",
      "643:\tlearn: 0.1665225\ttotal: 1.85s\tremaining: 1.02s\n",
      "644:\tlearn: 0.1664382\ttotal: 1.86s\tremaining: 1.02s\n",
      "645:\tlearn: 0.1663179\ttotal: 1.86s\tremaining: 1.02s\n",
      "646:\tlearn: 0.1660260\ttotal: 1.86s\tremaining: 1.01s\n",
      "647:\tlearn: 0.1658217\ttotal: 1.86s\tremaining: 1.01s\n",
      "648:\tlearn: 0.1657142\ttotal: 1.86s\tremaining: 1.01s\n",
      "649:\tlearn: 0.1653170\ttotal: 1.87s\tremaining: 1s\n",
      "650:\tlearn: 0.1650927\ttotal: 1.87s\tremaining: 1s\n",
      "651:\tlearn: 0.1650235\ttotal: 1.87s\tremaining: 999ms\n",
      "652:\tlearn: 0.1649514\ttotal: 1.88s\tremaining: 997ms\n",
      "653:\tlearn: 0.1648537\ttotal: 1.88s\tremaining: 993ms\n",
      "654:\tlearn: 0.1648214\ttotal: 1.88s\tremaining: 990ms\n",
      "655:\tlearn: 0.1645786\ttotal: 1.88s\tremaining: 987ms\n",
      "656:\tlearn: 0.1644012\ttotal: 1.88s\tremaining: 984ms\n",
      "657:\tlearn: 0.1641331\ttotal: 1.89s\tremaining: 980ms\n",
      "658:\tlearn: 0.1638507\ttotal: 1.89s\tremaining: 977ms\n",
      "659:\tlearn: 0.1636653\ttotal: 1.89s\tremaining: 974ms\n",
      "660:\tlearn: 0.1632897\ttotal: 1.89s\tremaining: 971ms\n",
      "661:\tlearn: 0.1632187\ttotal: 1.89s\tremaining: 967ms\n",
      "662:\tlearn: 0.1630100\ttotal: 1.9s\tremaining: 964ms\n",
      "663:\tlearn: 0.1627599\ttotal: 1.9s\tremaining: 961ms\n",
      "664:\tlearn: 0.1626195\ttotal: 1.9s\tremaining: 958ms\n",
      "665:\tlearn: 0.1623554\ttotal: 1.9s\tremaining: 955ms\n",
      "666:\tlearn: 0.1622257\ttotal: 1.91s\tremaining: 952ms\n",
      "667:\tlearn: 0.1620618\ttotal: 1.91s\tremaining: 949ms\n",
      "668:\tlearn: 0.1619728\ttotal: 1.91s\tremaining: 946ms\n",
      "669:\tlearn: 0.1618378\ttotal: 1.91s\tremaining: 943ms\n",
      "670:\tlearn: 0.1617184\ttotal: 1.92s\tremaining: 940ms\n",
      "671:\tlearn: 0.1615321\ttotal: 1.92s\tremaining: 936ms\n",
      "672:\tlearn: 0.1613404\ttotal: 1.92s\tremaining: 934ms\n",
      "673:\tlearn: 0.1610835\ttotal: 1.92s\tremaining: 930ms\n",
      "674:\tlearn: 0.1609568\ttotal: 1.93s\tremaining: 927ms\n",
      "675:\tlearn: 0.1607883\ttotal: 1.93s\tremaining: 924ms\n",
      "676:\tlearn: 0.1606275\ttotal: 1.93s\tremaining: 921ms\n",
      "677:\tlearn: 0.1605014\ttotal: 1.93s\tremaining: 918ms\n",
      "678:\tlearn: 0.1602342\ttotal: 1.94s\tremaining: 915ms\n",
      "679:\tlearn: 0.1601085\ttotal: 1.94s\tremaining: 912ms\n",
      "680:\tlearn: 0.1599040\ttotal: 1.94s\tremaining: 909ms\n",
      "681:\tlearn: 0.1595737\ttotal: 1.94s\tremaining: 906ms\n",
      "682:\tlearn: 0.1594431\ttotal: 1.95s\tremaining: 903ms\n",
      "683:\tlearn: 0.1593701\ttotal: 1.95s\tremaining: 900ms\n",
      "684:\tlearn: 0.1591797\ttotal: 1.95s\tremaining: 897ms\n",
      "685:\tlearn: 0.1590519\ttotal: 1.95s\tremaining: 895ms\n",
      "686:\tlearn: 0.1589025\ttotal: 1.96s\tremaining: 892ms\n",
      "687:\tlearn: 0.1586321\ttotal: 1.96s\tremaining: 889ms\n",
      "688:\tlearn: 0.1584666\ttotal: 1.96s\tremaining: 886ms\n",
      "689:\tlearn: 0.1582794\ttotal: 1.96s\tremaining: 883ms\n",
      "690:\tlearn: 0.1580949\ttotal: 1.97s\tremaining: 880ms\n",
      "691:\tlearn: 0.1577710\ttotal: 1.97s\tremaining: 877ms\n",
      "692:\tlearn: 0.1576078\ttotal: 1.97s\tremaining: 874ms\n",
      "693:\tlearn: 0.1574114\ttotal: 1.98s\tremaining: 871ms\n",
      "694:\tlearn: 0.1572867\ttotal: 1.98s\tremaining: 868ms\n",
      "695:\tlearn: 0.1571384\ttotal: 1.98s\tremaining: 865ms\n",
      "696:\tlearn: 0.1568897\ttotal: 1.98s\tremaining: 862ms\n",
      "697:\tlearn: 0.1567568\ttotal: 1.99s\tremaining: 859ms\n",
      "698:\tlearn: 0.1565172\ttotal: 1.99s\tremaining: 856ms\n",
      "699:\tlearn: 0.1564046\ttotal: 1.99s\tremaining: 853ms\n",
      "700:\tlearn: 0.1561303\ttotal: 1.99s\tremaining: 850ms\n",
      "701:\tlearn: 0.1560475\ttotal: 2s\tremaining: 847ms\n",
      "702:\tlearn: 0.1557939\ttotal: 2s\tremaining: 844ms\n",
      "703:\tlearn: 0.1554909\ttotal: 2s\tremaining: 841ms\n",
      "704:\tlearn: 0.1553937\ttotal: 2s\tremaining: 838ms\n",
      "705:\tlearn: 0.1553364\ttotal: 2s\tremaining: 835ms\n",
      "706:\tlearn: 0.1551240\ttotal: 2.01s\tremaining: 832ms\n",
      "707:\tlearn: 0.1548695\ttotal: 2.01s\tremaining: 829ms\n",
      "708:\tlearn: 0.1547808\ttotal: 2.01s\tremaining: 826ms\n",
      "709:\tlearn: 0.1545701\ttotal: 2.02s\tremaining: 823ms\n",
      "710:\tlearn: 0.1544652\ttotal: 2.02s\tremaining: 820ms\n",
      "711:\tlearn: 0.1543317\ttotal: 2.02s\tremaining: 817ms\n",
      "712:\tlearn: 0.1542059\ttotal: 2.02s\tremaining: 814ms\n",
      "713:\tlearn: 0.1541422\ttotal: 2.02s\tremaining: 811ms\n",
      "714:\tlearn: 0.1538538\ttotal: 2.03s\tremaining: 808ms\n",
      "715:\tlearn: 0.1536512\ttotal: 2.03s\tremaining: 805ms\n",
      "716:\tlearn: 0.1535257\ttotal: 2.03s\tremaining: 802ms\n",
      "717:\tlearn: 0.1535044\ttotal: 2.03s\tremaining: 799ms\n",
      "718:\tlearn: 0.1533694\ttotal: 2.04s\tremaining: 796ms\n",
      "719:\tlearn: 0.1531785\ttotal: 2.04s\tremaining: 793ms\n",
      "720:\tlearn: 0.1529445\ttotal: 2.04s\tremaining: 790ms\n",
      "721:\tlearn: 0.1527492\ttotal: 2.04s\tremaining: 787ms\n",
      "722:\tlearn: 0.1525971\ttotal: 2.05s\tremaining: 784ms\n",
      "723:\tlearn: 0.1524800\ttotal: 2.05s\tremaining: 781ms\n",
      "724:\tlearn: 0.1524122\ttotal: 2.05s\tremaining: 778ms\n",
      "725:\tlearn: 0.1522923\ttotal: 2.05s\tremaining: 775ms\n",
      "726:\tlearn: 0.1521249\ttotal: 2.06s\tremaining: 772ms\n",
      "727:\tlearn: 0.1518839\ttotal: 2.06s\tremaining: 769ms\n",
      "728:\tlearn: 0.1517209\ttotal: 2.06s\tremaining: 766ms\n",
      "729:\tlearn: 0.1514514\ttotal: 2.06s\tremaining: 763ms\n",
      "730:\tlearn: 0.1513220\ttotal: 2.06s\tremaining: 760ms\n",
      "731:\tlearn: 0.1512067\ttotal: 2.07s\tremaining: 757ms\n",
      "732:\tlearn: 0.1510029\ttotal: 2.07s\tremaining: 754ms\n",
      "733:\tlearn: 0.1508008\ttotal: 2.07s\tremaining: 751ms\n",
      "734:\tlearn: 0.1506456\ttotal: 2.08s\tremaining: 748ms\n",
      "735:\tlearn: 0.1505707\ttotal: 2.08s\tremaining: 745ms\n",
      "736:\tlearn: 0.1503415\ttotal: 2.08s\tremaining: 742ms\n",
      "737:\tlearn: 0.1502420\ttotal: 2.08s\tremaining: 739ms\n",
      "738:\tlearn: 0.1501090\ttotal: 2.08s\tremaining: 737ms\n",
      "739:\tlearn: 0.1499899\ttotal: 2.09s\tremaining: 734ms\n",
      "740:\tlearn: 0.1499100\ttotal: 2.09s\tremaining: 731ms\n",
      "741:\tlearn: 0.1498309\ttotal: 2.09s\tremaining: 728ms\n",
      "742:\tlearn: 0.1497574\ttotal: 2.09s\tremaining: 725ms\n",
      "743:\tlearn: 0.1496038\ttotal: 2.1s\tremaining: 722ms\n",
      "744:\tlearn: 0.1493733\ttotal: 2.1s\tremaining: 719ms\n",
      "745:\tlearn: 0.1492084\ttotal: 2.1s\tremaining: 716ms\n",
      "746:\tlearn: 0.1489995\ttotal: 2.1s\tremaining: 713ms\n",
      "747:\tlearn: 0.1488548\ttotal: 2.11s\tremaining: 710ms\n",
      "748:\tlearn: 0.1487376\ttotal: 2.11s\tremaining: 707ms\n",
      "749:\tlearn: 0.1485245\ttotal: 2.11s\tremaining: 704ms\n",
      "750:\tlearn: 0.1483384\ttotal: 2.11s\tremaining: 701ms\n",
      "751:\tlearn: 0.1481157\ttotal: 2.12s\tremaining: 698ms\n",
      "752:\tlearn: 0.1478698\ttotal: 2.12s\tremaining: 696ms\n",
      "753:\tlearn: 0.1476720\ttotal: 2.12s\tremaining: 693ms\n",
      "754:\tlearn: 0.1475422\ttotal: 2.13s\tremaining: 690ms\n",
      "755:\tlearn: 0.1474049\ttotal: 2.13s\tremaining: 687ms\n",
      "756:\tlearn: 0.1472749\ttotal: 2.13s\tremaining: 684ms\n",
      "757:\tlearn: 0.1472334\ttotal: 2.13s\tremaining: 681ms\n",
      "758:\tlearn: 0.1470117\ttotal: 2.14s\tremaining: 678ms\n",
      "759:\tlearn: 0.1469484\ttotal: 2.14s\tremaining: 676ms\n",
      "760:\tlearn: 0.1468179\ttotal: 2.14s\tremaining: 673ms\n",
      "761:\tlearn: 0.1467189\ttotal: 2.15s\tremaining: 670ms\n",
      "762:\tlearn: 0.1465641\ttotal: 2.15s\tremaining: 667ms\n",
      "763:\tlearn: 0.1463188\ttotal: 2.15s\tremaining: 664ms\n",
      "764:\tlearn: 0.1460143\ttotal: 2.15s\tremaining: 661ms\n",
      "765:\tlearn: 0.1459121\ttotal: 2.15s\tremaining: 658ms\n",
      "766:\tlearn: 0.1457328\ttotal: 2.16s\tremaining: 655ms\n",
      "767:\tlearn: 0.1456230\ttotal: 2.16s\tremaining: 652ms\n",
      "768:\tlearn: 0.1452574\ttotal: 2.16s\tremaining: 650ms\n",
      "769:\tlearn: 0.1450019\ttotal: 2.16s\tremaining: 647ms\n",
      "770:\tlearn: 0.1448064\ttotal: 2.17s\tremaining: 644ms\n",
      "771:\tlearn: 0.1447834\ttotal: 2.17s\tremaining: 641ms\n",
      "772:\tlearn: 0.1446738\ttotal: 2.17s\tremaining: 638ms\n",
      "773:\tlearn: 0.1445277\ttotal: 2.17s\tremaining: 635ms\n",
      "774:\tlearn: 0.1444935\ttotal: 2.18s\tremaining: 632ms\n",
      "775:\tlearn: 0.1443751\ttotal: 2.18s\tremaining: 629ms\n",
      "776:\tlearn: 0.1441537\ttotal: 2.18s\tremaining: 626ms\n",
      "777:\tlearn: 0.1438102\ttotal: 2.18s\tremaining: 623ms\n",
      "778:\tlearn: 0.1436026\ttotal: 2.19s\tremaining: 620ms\n",
      "779:\tlearn: 0.1433746\ttotal: 2.19s\tremaining: 617ms\n",
      "780:\tlearn: 0.1432385\ttotal: 2.19s\tremaining: 614ms\n",
      "781:\tlearn: 0.1430092\ttotal: 2.19s\tremaining: 612ms\n",
      "782:\tlearn: 0.1427715\ttotal: 2.2s\tremaining: 609ms\n",
      "783:\tlearn: 0.1427124\ttotal: 2.2s\tremaining: 606ms\n",
      "784:\tlearn: 0.1425752\ttotal: 2.2s\tremaining: 603ms\n",
      "785:\tlearn: 0.1424161\ttotal: 2.2s\tremaining: 600ms\n",
      "786:\tlearn: 0.1422932\ttotal: 2.21s\tremaining: 597ms\n",
      "787:\tlearn: 0.1420588\ttotal: 2.21s\tremaining: 594ms\n",
      "788:\tlearn: 0.1419783\ttotal: 2.21s\tremaining: 591ms\n",
      "789:\tlearn: 0.1417286\ttotal: 2.21s\tremaining: 589ms\n",
      "790:\tlearn: 0.1415571\ttotal: 2.22s\tremaining: 586ms\n",
      "791:\tlearn: 0.1414686\ttotal: 2.22s\tremaining: 583ms\n",
      "792:\tlearn: 0.1412782\ttotal: 2.22s\tremaining: 580ms\n",
      "793:\tlearn: 0.1410561\ttotal: 2.23s\tremaining: 578ms\n",
      "794:\tlearn: 0.1409449\ttotal: 2.23s\tremaining: 575ms\n",
      "795:\tlearn: 0.1408169\ttotal: 2.23s\tremaining: 572ms\n",
      "796:\tlearn: 0.1406710\ttotal: 2.23s\tremaining: 569ms\n",
      "797:\tlearn: 0.1404945\ttotal: 2.24s\tremaining: 567ms\n",
      "798:\tlearn: 0.1403935\ttotal: 2.24s\tremaining: 564ms\n",
      "799:\tlearn: 0.1402345\ttotal: 2.24s\tremaining: 561ms\n",
      "800:\tlearn: 0.1401808\ttotal: 2.25s\tremaining: 558ms\n",
      "801:\tlearn: 0.1400067\ttotal: 2.25s\tremaining: 555ms\n",
      "802:\tlearn: 0.1399264\ttotal: 2.25s\tremaining: 552ms\n",
      "803:\tlearn: 0.1397382\ttotal: 2.25s\tremaining: 550ms\n",
      "804:\tlearn: 0.1394615\ttotal: 2.26s\tremaining: 547ms\n",
      "805:\tlearn: 0.1393669\ttotal: 2.26s\tremaining: 544ms\n",
      "806:\tlearn: 0.1390748\ttotal: 2.26s\tremaining: 541ms\n",
      "807:\tlearn: 0.1388313\ttotal: 2.27s\tremaining: 538ms\n",
      "808:\tlearn: 0.1387824\ttotal: 2.27s\tremaining: 535ms\n",
      "809:\tlearn: 0.1387240\ttotal: 2.27s\tremaining: 532ms\n",
      "810:\tlearn: 0.1385675\ttotal: 2.27s\tremaining: 530ms\n",
      "811:\tlearn: 0.1384435\ttotal: 2.27s\tremaining: 527ms\n",
      "812:\tlearn: 0.1383107\ttotal: 2.28s\tremaining: 524ms\n",
      "813:\tlearn: 0.1380815\ttotal: 2.28s\tremaining: 521ms\n",
      "814:\tlearn: 0.1377805\ttotal: 2.28s\tremaining: 518ms\n",
      "815:\tlearn: 0.1376005\ttotal: 2.29s\tremaining: 515ms\n",
      "816:\tlearn: 0.1374968\ttotal: 2.29s\tremaining: 512ms\n",
      "817:\tlearn: 0.1374631\ttotal: 2.29s\tremaining: 509ms\n",
      "818:\tlearn: 0.1373109\ttotal: 2.29s\tremaining: 507ms\n",
      "819:\tlearn: 0.1371578\ttotal: 2.29s\tremaining: 504ms\n",
      "820:\tlearn: 0.1369697\ttotal: 2.3s\tremaining: 501ms\n",
      "821:\tlearn: 0.1368479\ttotal: 2.3s\tremaining: 498ms\n",
      "822:\tlearn: 0.1366168\ttotal: 2.3s\tremaining: 496ms\n",
      "823:\tlearn: 0.1365115\ttotal: 2.31s\tremaining: 493ms\n",
      "824:\tlearn: 0.1362254\ttotal: 2.31s\tremaining: 490ms\n",
      "825:\tlearn: 0.1361156\ttotal: 2.31s\tremaining: 487ms\n",
      "826:\tlearn: 0.1359413\ttotal: 2.31s\tremaining: 484ms\n",
      "827:\tlearn: 0.1358443\ttotal: 2.32s\tremaining: 481ms\n",
      "828:\tlearn: 0.1356767\ttotal: 2.32s\tremaining: 478ms\n",
      "829:\tlearn: 0.1354249\ttotal: 2.32s\tremaining: 476ms\n",
      "830:\tlearn: 0.1352712\ttotal: 2.33s\tremaining: 473ms\n",
      "831:\tlearn: 0.1349545\ttotal: 2.33s\tremaining: 470ms\n",
      "832:\tlearn: 0.1346798\ttotal: 2.33s\tremaining: 467ms\n",
      "833:\tlearn: 0.1345808\ttotal: 2.33s\tremaining: 465ms\n",
      "834:\tlearn: 0.1342912\ttotal: 2.34s\tremaining: 462ms\n",
      "835:\tlearn: 0.1342007\ttotal: 2.34s\tremaining: 459ms\n",
      "836:\tlearn: 0.1340100\ttotal: 2.34s\tremaining: 456ms\n",
      "837:\tlearn: 0.1337472\ttotal: 2.35s\tremaining: 453ms\n",
      "838:\tlearn: 0.1336368\ttotal: 2.35s\tremaining: 451ms\n",
      "839:\tlearn: 0.1333973\ttotal: 2.35s\tremaining: 448ms\n",
      "840:\tlearn: 0.1333579\ttotal: 2.35s\tremaining: 445ms\n",
      "841:\tlearn: 0.1331728\ttotal: 2.36s\tremaining: 442ms\n",
      "842:\tlearn: 0.1330797\ttotal: 2.36s\tremaining: 439ms\n",
      "843:\tlearn: 0.1327935\ttotal: 2.36s\tremaining: 436ms\n",
      "844:\tlearn: 0.1325963\ttotal: 2.36s\tremaining: 433ms\n",
      "845:\tlearn: 0.1324356\ttotal: 2.37s\tremaining: 431ms\n",
      "846:\tlearn: 0.1323304\ttotal: 2.37s\tremaining: 428ms\n",
      "847:\tlearn: 0.1322919\ttotal: 2.37s\tremaining: 425ms\n",
      "848:\tlearn: 0.1321915\ttotal: 2.37s\tremaining: 422ms\n",
      "849:\tlearn: 0.1319664\ttotal: 2.38s\tremaining: 419ms\n",
      "850:\tlearn: 0.1318119\ttotal: 2.38s\tremaining: 416ms\n",
      "851:\tlearn: 0.1315984\ttotal: 2.38s\tremaining: 414ms\n",
      "852:\tlearn: 0.1313099\ttotal: 2.38s\tremaining: 411ms\n",
      "853:\tlearn: 0.1311549\ttotal: 2.38s\tremaining: 408ms\n",
      "854:\tlearn: 0.1310353\ttotal: 2.39s\tremaining: 405ms\n",
      "855:\tlearn: 0.1309179\ttotal: 2.39s\tremaining: 402ms\n",
      "856:\tlearn: 0.1308436\ttotal: 2.39s\tremaining: 399ms\n",
      "857:\tlearn: 0.1306974\ttotal: 2.4s\tremaining: 396ms\n",
      "858:\tlearn: 0.1306463\ttotal: 2.4s\tremaining: 394ms\n",
      "859:\tlearn: 0.1303871\ttotal: 2.4s\tremaining: 391ms\n",
      "860:\tlearn: 0.1303251\ttotal: 2.4s\tremaining: 388ms\n",
      "861:\tlearn: 0.1301989\ttotal: 2.4s\tremaining: 385ms\n",
      "862:\tlearn: 0.1299976\ttotal: 2.41s\tremaining: 382ms\n",
      "863:\tlearn: 0.1299560\ttotal: 2.41s\tremaining: 379ms\n",
      "864:\tlearn: 0.1298583\ttotal: 2.41s\tremaining: 377ms\n",
      "865:\tlearn: 0.1297165\ttotal: 2.42s\tremaining: 374ms\n",
      "866:\tlearn: 0.1295467\ttotal: 2.42s\tremaining: 371ms\n",
      "867:\tlearn: 0.1295329\ttotal: 2.42s\tremaining: 368ms\n",
      "868:\tlearn: 0.1294706\ttotal: 2.42s\tremaining: 365ms\n",
      "869:\tlearn: 0.1292847\ttotal: 2.42s\tremaining: 362ms\n",
      "870:\tlearn: 0.1291515\ttotal: 2.43s\tremaining: 360ms\n",
      "871:\tlearn: 0.1289267\ttotal: 2.43s\tremaining: 357ms\n",
      "872:\tlearn: 0.1287758\ttotal: 2.43s\tremaining: 354ms\n",
      "873:\tlearn: 0.1285690\ttotal: 2.44s\tremaining: 351ms\n",
      "874:\tlearn: 0.1283474\ttotal: 2.44s\tremaining: 349ms\n",
      "875:\tlearn: 0.1282338\ttotal: 2.44s\tremaining: 346ms\n",
      "876:\tlearn: 0.1279878\ttotal: 2.44s\tremaining: 343ms\n",
      "877:\tlearn: 0.1279104\ttotal: 2.45s\tremaining: 340ms\n",
      "878:\tlearn: 0.1278051\ttotal: 2.45s\tremaining: 337ms\n",
      "879:\tlearn: 0.1275563\ttotal: 2.45s\tremaining: 334ms\n",
      "880:\tlearn: 0.1275299\ttotal: 2.45s\tremaining: 331ms\n",
      "881:\tlearn: 0.1273455\ttotal: 2.46s\tremaining: 329ms\n",
      "882:\tlearn: 0.1272169\ttotal: 2.46s\tremaining: 326ms\n",
      "883:\tlearn: 0.1269827\ttotal: 2.47s\tremaining: 324ms\n",
      "884:\tlearn: 0.1268422\ttotal: 2.47s\tremaining: 321ms\n",
      "885:\tlearn: 0.1266347\ttotal: 2.47s\tremaining: 318ms\n",
      "886:\tlearn: 0.1264368\ttotal: 2.47s\tremaining: 315ms\n",
      "887:\tlearn: 0.1262873\ttotal: 2.48s\tremaining: 313ms\n",
      "888:\tlearn: 0.1261857\ttotal: 2.48s\tremaining: 310ms\n",
      "889:\tlearn: 0.1260530\ttotal: 2.48s\tremaining: 307ms\n",
      "890:\tlearn: 0.1259391\ttotal: 2.49s\tremaining: 305ms\n",
      "891:\tlearn: 0.1258226\ttotal: 2.49s\tremaining: 302ms\n",
      "892:\tlearn: 0.1255640\ttotal: 2.5s\tremaining: 299ms\n",
      "893:\tlearn: 0.1254326\ttotal: 2.5s\tremaining: 296ms\n",
      "894:\tlearn: 0.1252691\ttotal: 2.5s\tremaining: 293ms\n",
      "895:\tlearn: 0.1252003\ttotal: 2.5s\tremaining: 291ms\n",
      "896:\tlearn: 0.1251265\ttotal: 2.51s\tremaining: 288ms\n",
      "897:\tlearn: 0.1250589\ttotal: 2.51s\tremaining: 285ms\n",
      "898:\tlearn: 0.1249063\ttotal: 2.51s\tremaining: 282ms\n",
      "899:\tlearn: 0.1248166\ttotal: 2.52s\tremaining: 280ms\n",
      "900:\tlearn: 0.1246837\ttotal: 2.52s\tremaining: 277ms\n",
      "901:\tlearn: 0.1246490\ttotal: 2.52s\tremaining: 274ms\n",
      "902:\tlearn: 0.1246098\ttotal: 2.52s\tremaining: 271ms\n",
      "903:\tlearn: 0.1244850\ttotal: 2.53s\tremaining: 268ms\n",
      "904:\tlearn: 0.1243920\ttotal: 2.53s\tremaining: 266ms\n",
      "905:\tlearn: 0.1243008\ttotal: 2.53s\tremaining: 263ms\n",
      "906:\tlearn: 0.1241883\ttotal: 2.54s\tremaining: 260ms\n",
      "907:\tlearn: 0.1239293\ttotal: 2.54s\tremaining: 257ms\n",
      "908:\tlearn: 0.1237946\ttotal: 2.54s\tremaining: 254ms\n",
      "909:\tlearn: 0.1236793\ttotal: 2.54s\tremaining: 252ms\n",
      "910:\tlearn: 0.1235383\ttotal: 2.55s\tremaining: 249ms\n",
      "911:\tlearn: 0.1234185\ttotal: 2.55s\tremaining: 246ms\n",
      "912:\tlearn: 0.1231901\ttotal: 2.55s\tremaining: 243ms\n",
      "913:\tlearn: 0.1230501\ttotal: 2.56s\tremaining: 240ms\n",
      "914:\tlearn: 0.1229420\ttotal: 2.56s\tremaining: 238ms\n",
      "915:\tlearn: 0.1228049\ttotal: 2.56s\tremaining: 235ms\n",
      "916:\tlearn: 0.1227048\ttotal: 2.56s\tremaining: 232ms\n",
      "917:\tlearn: 0.1225860\ttotal: 2.56s\tremaining: 229ms\n",
      "918:\tlearn: 0.1224775\ttotal: 2.57s\tremaining: 226ms\n",
      "919:\tlearn: 0.1222825\ttotal: 2.57s\tremaining: 223ms\n",
      "920:\tlearn: 0.1222020\ttotal: 2.57s\tremaining: 221ms\n",
      "921:\tlearn: 0.1220669\ttotal: 2.58s\tremaining: 218ms\n",
      "922:\tlearn: 0.1218877\ttotal: 2.58s\tremaining: 215ms\n",
      "923:\tlearn: 0.1217997\ttotal: 2.58s\tremaining: 212ms\n",
      "924:\tlearn: 0.1216632\ttotal: 2.58s\tremaining: 209ms\n",
      "925:\tlearn: 0.1215987\ttotal: 2.58s\tremaining: 207ms\n",
      "926:\tlearn: 0.1214885\ttotal: 2.59s\tremaining: 204ms\n",
      "927:\tlearn: 0.1214647\ttotal: 2.59s\tremaining: 201ms\n",
      "928:\tlearn: 0.1213201\ttotal: 2.59s\tremaining: 198ms\n",
      "929:\tlearn: 0.1211545\ttotal: 2.6s\tremaining: 195ms\n",
      "930:\tlearn: 0.1209175\ttotal: 2.6s\tremaining: 193ms\n",
      "931:\tlearn: 0.1208497\ttotal: 2.6s\tremaining: 190ms\n",
      "932:\tlearn: 0.1207828\ttotal: 2.6s\tremaining: 187ms\n",
      "933:\tlearn: 0.1206497\ttotal: 2.61s\tremaining: 184ms\n",
      "934:\tlearn: 0.1205871\ttotal: 2.61s\tremaining: 181ms\n",
      "935:\tlearn: 0.1205307\ttotal: 2.61s\tremaining: 179ms\n",
      "936:\tlearn: 0.1204574\ttotal: 2.61s\tremaining: 176ms\n",
      "937:\tlearn: 0.1203229\ttotal: 2.62s\tremaining: 173ms\n",
      "938:\tlearn: 0.1201820\ttotal: 2.62s\tremaining: 170ms\n",
      "939:\tlearn: 0.1200560\ttotal: 2.62s\tremaining: 168ms\n",
      "940:\tlearn: 0.1199927\ttotal: 2.63s\tremaining: 165ms\n",
      "941:\tlearn: 0.1198943\ttotal: 2.63s\tremaining: 162ms\n",
      "942:\tlearn: 0.1198291\ttotal: 2.63s\tremaining: 159ms\n",
      "943:\tlearn: 0.1197337\ttotal: 2.63s\tremaining: 156ms\n",
      "944:\tlearn: 0.1195146\ttotal: 2.64s\tremaining: 154ms\n",
      "945:\tlearn: 0.1193478\ttotal: 2.64s\tremaining: 151ms\n",
      "946:\tlearn: 0.1192055\ttotal: 2.65s\tremaining: 148ms\n",
      "947:\tlearn: 0.1190524\ttotal: 2.65s\tremaining: 145ms\n",
      "948:\tlearn: 0.1188220\ttotal: 2.65s\tremaining: 142ms\n",
      "949:\tlearn: 0.1186833\ttotal: 2.65s\tremaining: 140ms\n",
      "950:\tlearn: 0.1185049\ttotal: 2.66s\tremaining: 137ms\n",
      "951:\tlearn: 0.1183968\ttotal: 2.66s\tremaining: 134ms\n",
      "952:\tlearn: 0.1182612\ttotal: 2.66s\tremaining: 131ms\n",
      "953:\tlearn: 0.1181002\ttotal: 2.67s\tremaining: 129ms\n",
      "954:\tlearn: 0.1179412\ttotal: 2.67s\tremaining: 126ms\n",
      "955:\tlearn: 0.1177092\ttotal: 2.67s\tremaining: 123ms\n",
      "956:\tlearn: 0.1176236\ttotal: 2.67s\tremaining: 120ms\n",
      "957:\tlearn: 0.1175174\ttotal: 2.67s\tremaining: 117ms\n",
      "958:\tlearn: 0.1174462\ttotal: 2.68s\tremaining: 114ms\n",
      "959:\tlearn: 0.1172427\ttotal: 2.68s\tremaining: 112ms\n",
      "960:\tlearn: 0.1171675\ttotal: 2.68s\tremaining: 109ms\n",
      "961:\tlearn: 0.1171085\ttotal: 2.69s\tremaining: 106ms\n",
      "962:\tlearn: 0.1170468\ttotal: 2.69s\tremaining: 103ms\n",
      "963:\tlearn: 0.1169563\ttotal: 2.69s\tremaining: 101ms\n",
      "964:\tlearn: 0.1168603\ttotal: 2.69s\tremaining: 97.7ms\n",
      "965:\tlearn: 0.1167393\ttotal: 2.7s\tremaining: 94.9ms\n",
      "966:\tlearn: 0.1166542\ttotal: 2.7s\tremaining: 92.1ms\n",
      "967:\tlearn: 0.1165053\ttotal: 2.7s\tremaining: 89.3ms\n",
      "968:\tlearn: 0.1164028\ttotal: 2.7s\tremaining: 86.5ms\n",
      "969:\tlearn: 0.1162922\ttotal: 2.71s\tremaining: 83.7ms\n",
      "970:\tlearn: 0.1161748\ttotal: 2.71s\tremaining: 80.9ms\n",
      "971:\tlearn: 0.1161026\ttotal: 2.71s\tremaining: 78.1ms\n",
      "972:\tlearn: 0.1160142\ttotal: 2.71s\tremaining: 75.3ms\n",
      "973:\tlearn: 0.1159137\ttotal: 2.72s\tremaining: 72.5ms\n",
      "974:\tlearn: 0.1157508\ttotal: 2.72s\tremaining: 69.7ms\n",
      "975:\tlearn: 0.1155718\ttotal: 2.72s\tremaining: 66.9ms\n",
      "976:\tlearn: 0.1155090\ttotal: 2.73s\tremaining: 64.2ms\n",
      "977:\tlearn: 0.1153709\ttotal: 2.73s\tremaining: 61.4ms\n",
      "978:\tlearn: 0.1152401\ttotal: 2.73s\tremaining: 58.6ms\n",
      "979:\tlearn: 0.1151616\ttotal: 2.73s\tremaining: 55.8ms\n",
      "980:\tlearn: 0.1150148\ttotal: 2.73s\tremaining: 53ms\n",
      "981:\tlearn: 0.1148746\ttotal: 2.74s\tremaining: 50.2ms\n",
      "982:\tlearn: 0.1147580\ttotal: 2.74s\tremaining: 47.4ms\n",
      "983:\tlearn: 0.1145816\ttotal: 2.74s\tremaining: 44.6ms\n",
      "984:\tlearn: 0.1144093\ttotal: 2.75s\tremaining: 41.8ms\n",
      "985:\tlearn: 0.1142369\ttotal: 2.75s\tremaining: 39ms\n",
      "986:\tlearn: 0.1141739\ttotal: 2.75s\tremaining: 36.2ms\n",
      "987:\tlearn: 0.1140352\ttotal: 2.75s\tremaining: 33.4ms\n",
      "988:\tlearn: 0.1140240\ttotal: 2.75s\tremaining: 30.6ms\n",
      "989:\tlearn: 0.1139389\ttotal: 2.76s\tremaining: 27.9ms\n",
      "990:\tlearn: 0.1138564\ttotal: 2.76s\tremaining: 25.1ms\n",
      "991:\tlearn: 0.1136184\ttotal: 2.76s\tremaining: 22.3ms\n",
      "992:\tlearn: 0.1135148\ttotal: 2.77s\tremaining: 19.5ms\n",
      "993:\tlearn: 0.1134062\ttotal: 2.77s\tremaining: 16.7ms\n",
      "994:\tlearn: 0.1133330\ttotal: 2.77s\tremaining: 13.9ms\n",
      "995:\tlearn: 0.1132476\ttotal: 2.77s\tremaining: 11.1ms\n",
      "996:\tlearn: 0.1132179\ttotal: 2.78s\tremaining: 8.36ms\n",
      "997:\tlearn: 0.1129994\ttotal: 2.78s\tremaining: 5.57ms\n",
      "998:\tlearn: 0.1129129\ttotal: 2.78s\tremaining: 2.79ms\n",
      "999:\tlearn: 0.1127757\ttotal: 2.79s\tremaining: 0us\n"
     ]
    },
    {
     "data": {
      "text/plain": [
       "<catboost.core.CatBoostClassifier at 0x228cb6b4190>"
      ]
     },
     "execution_count": 46,
     "metadata": {},
     "output_type": "execute_result"
    }
   ],
   "source": [
    "lm=CatBoostClassifier()\n",
    "lm.fit(x_train,y_train)"
   ]
  },
  {
   "cell_type": "code",
   "execution_count": 47,
   "id": "d0c0eab8",
   "metadata": {},
   "outputs": [],
   "source": [
    "y_pred=lm.predict(x_test)"
   ]
  },
  {
   "cell_type": "code",
   "execution_count": 49,
   "id": "c6e97292",
   "metadata": {},
   "outputs": [
    {
     "data": {
      "text/plain": [
       "array([0, 0, 1, 1, 0, 0, 0, 1, 1, 1, 1, 1, 1, 0, 1, 0, 1, 1, 0, 0, 1, 1,\n",
       "       0, 0, 1, 0, 0, 1, 1, 0, 0, 0, 1, 1, 0, 1, 1, 1, 1, 0, 0, 0, 0, 1,\n",
       "       1, 1, 0, 0, 0, 1, 0, 1, 0, 1, 1, 1, 1, 1, 0, 0, 1], dtype=int64)"
      ]
     },
     "execution_count": 49,
     "metadata": {},
     "output_type": "execute_result"
    }
   ],
   "source": [
    "y_pred"
   ]
  },
  {
   "cell_type": "code",
   "execution_count": 51,
   "id": "f1a3a184",
   "metadata": {},
   "outputs": [
    {
     "data": {
      "text/plain": [
       "0.9180327868852459"
      ]
     },
     "execution_count": 51,
     "metadata": {},
     "output_type": "execute_result"
    }
   ],
   "source": [
    "accuracy_score(y_test,y_pred)"
   ]
  },
  {
   "cell_type": "code",
   "execution_count": 52,
   "id": "1d21b0d8",
   "metadata": {},
   "outputs": [
    {
     "data": {
      "text/plain": [
       "array([[24,  1],\n",
       "       [ 4, 32]], dtype=int64)"
      ]
     },
     "execution_count": 52,
     "metadata": {},
     "output_type": "execute_result"
    }
   ],
   "source": [
    "confusion_matrix(y_test,y_pred)"
   ]
  },
  {
   "cell_type": "code",
   "execution_count": 53,
   "id": "797e146f",
   "metadata": {},
   "outputs": [
    {
     "data": {
      "text/plain": [
       "0.927536231884058"
      ]
     },
     "execution_count": 53,
     "metadata": {},
     "output_type": "execute_result"
    }
   ],
   "source": [
    "f1(y_test,y_pred)"
   ]
  },
  {
   "cell_type": "code",
   "execution_count": 54,
   "id": "5577ff9b",
   "metadata": {},
   "outputs": [],
   "source": [
    "fpr,tpr,thresholds=roc_curve(y_test,y_pred)"
   ]
  },
  {
   "cell_type": "code",
   "execution_count": 55,
   "id": "06aed753",
   "metadata": {},
   "outputs": [
    {
     "data": {
      "text/plain": [
       "0.9244444444444444"
      ]
     },
     "execution_count": 55,
     "metadata": {},
     "output_type": "execute_result"
    }
   ],
   "source": [
    "auc = roc_auc_score(y_test,y_pred)\n",
    "auc"
   ]
  },
  {
   "cell_type": "code",
   "execution_count": 56,
   "id": "61668825",
   "metadata": {},
   "outputs": [
    {
     "data": {
      "image/png": "[encoded data removed]",
      "text/plain": [
       "<Figure size 432x288 with 1 Axes>"
      ]
     },
     "metadata": {},
     "output_type": "display_data"
    }
   ],
   "source": [
    "plt.plot(fpr , tpr , color='orange',label='ROC')\n",
    "plt.plot([0,1],[0,1],color = 'darkblue',linestyle='--',label='ROC curve(area = %0.2f)'% auc)\n",
    "plt.xlabel('false positive rate')\n",
    "plt.ylabel('true positive rate')\n",
    "plt.title('receiver operating characterstics (ROC) curve')\n",
    "plt.legend()\n",
    "plt.show()"
   ]
  },
  {
   "cell_type": "markdown",
   "id": "e866ac9f",
   "metadata": {},
   "source": [
    "## Applying Light Boosting Classifier"
   ]
  },
  {
   "cell_type": "code",
   "execution_count": 58,
   "id": "7433bc47",
   "metadata": {},
   "outputs": [
    {
     "data": {
      "text/plain": [
       "LGBMClassifier()"
      ]
     },
     "execution_count": 58,
     "metadata": {},
     "output_type": "execute_result"
    }
   ],
   "source": [
    "lm=LGBMClassifier()\n",
    "lm.fit(x_train,y_train)"
   ]
  },
  {
   "cell_type": "code",
   "execution_count": 59,
   "id": "d07980d6",
   "metadata": {},
   "outputs": [],
   "source": [
    "y_pred=lm.predict(x_test)"
   ]
  },
  {
   "cell_type": "code",
   "execution_count": 60,
   "id": "0a5ec00d",
   "metadata": {},
   "outputs": [
    {
     "data": {
      "text/plain": [
       "array([0, 0, 1, 1, 0, 0, 0, 1, 1, 1, 1, 1, 1, 0, 1, 0, 1, 1, 0, 1, 1, 1,\n",
       "       0, 1, 1, 0, 0, 1, 1, 0, 0, 0, 1, 1, 0, 1, 1, 1, 1, 0, 0, 0, 0, 1,\n",
       "       1, 1, 0, 0, 0, 1, 0, 1, 0, 1, 1, 1, 1, 1, 0, 0, 1], dtype=int64)"
      ]
     },
     "execution_count": 60,
     "metadata": {},
     "output_type": "execute_result"
    }
   ],
   "source": [
    "y_pred"
   ]
  },
  {
   "cell_type": "code",
   "execution_count": 61,
   "id": "49213d06",
   "metadata": {},
   "outputs": [
    {
     "data": {
      "text/plain": [
       "0.9180327868852459"
      ]
     },
     "execution_count": 61,
     "metadata": {},
     "output_type": "execute_result"
    }
   ],
   "source": [
    "accuracy_score(y_test,y_pred)"
   ]
  },
  {
   "cell_type": "code",
   "execution_count": 62,
   "id": "5a13abb0",
   "metadata": {},
   "outputs": [
    {
     "data": {
      "text/plain": [
       "array([[23,  2],\n",
       "       [ 3, 33]], dtype=int64)"
      ]
     },
     "execution_count": 62,
     "metadata": {},
     "output_type": "execute_result"
    }
   ],
   "source": [
    "confusion_matrix(y_test,y_pred)"
   ]
  },
  {
   "cell_type": "code",
   "execution_count": 63,
   "id": "b5156b2f",
   "metadata": {},
   "outputs": [
    {
     "data": {
      "text/plain": [
       "0.9295774647887323"
      ]
     },
     "execution_count": 63,
     "metadata": {},
     "output_type": "execute_result"
    }
   ],
   "source": [
    "f1(y_test,y_pred)"
   ]
  },
  {
   "cell_type": "code",
   "execution_count": 64,
   "id": "455b2392",
   "metadata": {},
   "outputs": [],
   "source": [
    "fpr,tpr,thresholds=roc_curve(y_test,y_pred)"
   ]
  },
  {
   "cell_type": "code",
   "execution_count": 65,
   "id": "751bd170",
   "metadata": {},
   "outputs": [
    {
     "data": {
      "text/plain": [
       "0.9183333333333332"
      ]
     },
     "execution_count": 65,
     "metadata": {},
     "output_type": "execute_result"
    }
   ],
   "source": [
    "auc = roc_auc_score(y_test,y_pred)\n",
    "auc"
   ]
  },
  {
   "cell_type": "code",
   "execution_count": 66,
   "id": "8a2538a3",
   "metadata": {},
   "outputs": [
    {
     "data": {
      "image/png": "[encoded data removed]",
      "text/plain": [
       "<Figure size 432x288 with 1 Axes>"
      ]
     },
     "metadata": {},
     "output_type": "display_data"
    }
   ],
   "source": [
    "plt.plot(fpr , tpr , color='orange',label='ROC')\n",
    "plt.plot([0,1],[0,1],color = 'darkblue',linestyle='--',label='ROC curve(area = %0.2f)'% auc)\n",
    "plt.xlabel('false positive rate')\n",
    "plt.ylabel('true positive rate')\n",
    "plt.title('receiver operating characterstics (ROC) curve')\n",
    "plt.legend()\n",
    "plt.show()"
   ]
  },
  {
   "cell_type": "code",
   "execution_count": null,
   "id": "e55506e8",
   "metadata": {},
   "outputs": [],
   "source": []
  }
 ],
 "metadata": {
  "kernelspec": {
   "display_name": "Python 3",
   "language": "python",
   "name": "python3"
  },
  "language_info": {
   "codemirror_mode": {
    "name": "ipython",
    "version": 3
   },
   "file_extension": ".py",
   "mimetype": "text/x-python",
   "name": "python",
   "nbconvert_exporter": "python",
   "pygments_lexer": "ipython3",
   "version": "3.8.8"
  }
 },
 "nbformat": 4,
 "nbformat_minor": 5
}
