{
 "cells": [
  {
   "cell_type": "code",
   "execution_count": 74,
   "id": "7207f3af",
   "metadata": {},
   "outputs": [],
   "source": [
    "# Importing Packages\n",
    "import pandas as pd\n",
    "import numpy as np\n",
    "import scipy.stats as stats\n",
    "import seaborn as sns\n",
    "import matplotlib.pyplot as plt\n",
    "from sklearn.metrics import mean_squared_error,mean_absolute_error \n",
    "from sklearn.metrics import mean_absolute_percentage_error\n",
    "from sklearn.preprocessing import StandardScaler\n",
    "from sklearn.linear_model import Ridge,Lasso,RidgeCV,LassoCV,ElasticNet,ElasticNetCV,LinearRegression\n",
    "from sklearn.model_selection import train_test_split\n",
    "sns.set()\n",
    "import pylab\n",
    "from statsmodels.stats.outliers_influence import variance_inflation_factor as vif\n"
   ]
  },
  {
   "cell_type": "markdown",
   "id": "09edbf3e",
   "metadata": {},
   "source": [
    "##### Here,I have gathered the whole data and  change thier 'NOVEMBER','DECEMBER','JANUARY',FEBUARY columns name to 'MONTH DAYS' for concating the data of these four datasets."
   ]
  },
  {
   "cell_type": "code",
   "execution_count": 2,
   "id": "875aa102",
   "metadata": {},
   "outputs": [],
   "source": [
    "dfN=pd.read_csv(\"E:\\\\datasets\\\\Sleep FitBit\\\\November Sleep Data - Sheet1.csv\",skiprows=[1])"
   ]
  },
  {
   "cell_type": "code",
   "execution_count": 3,
   "id": "75967e16",
   "metadata": {},
   "outputs": [],
   "source": [
    "dfN=dfN.rename(columns={'NOVEMBER':'MONTH DAYS'})"
   ]
  },
  {
   "cell_type": "code",
   "execution_count": 4,
   "id": "eacf6619",
   "metadata": {},
   "outputs": [],
   "source": [
    "dfD=pd.read_csv(\"E:\\\\datasets\\\\Sleep FitBit\\\\December Sleep data - Sheet1.csv\",skiprows=[1])"
   ]
  },
  {
   "cell_type": "code",
   "execution_count": 5,
   "id": "d28c604a",
   "metadata": {},
   "outputs": [],
   "source": [
    "dfD=dfD.rename(columns={'DECEMBER':'MONTH DAYS'})"
   ]
  },
  {
   "cell_type": "code",
   "execution_count": 6,
   "id": "b2142e31",
   "metadata": {},
   "outputs": [],
   "source": [
    "dfJ=pd.read_csv(\"E:\\\\datasets\\\\Sleep FitBit\\\\January Sleep data - Sheet1.csv\",skiprows=[1])"
   ]
  },
  {
   "cell_type": "code",
   "execution_count": 7,
   "id": "719e641e",
   "metadata": {},
   "outputs": [
    {
     "data": {
      "text/plain": [
       "(31, 8)"
      ]
     },
     "execution_count": 7,
     "metadata": {},
     "output_type": "execute_result"
    }
   ],
   "source": [
    "dfJ.shape"
   ]
  },
  {
   "cell_type": "code",
   "execution_count": 8,
   "id": "4878e123",
   "metadata": {},
   "outputs": [],
   "source": [
    "dfJ=dfJ.rename(columns={'JANUARY':'MONTH DAYS','HEART RATE UNDER RESTING':'HEART RATE BELOW RESTING'})"
   ]
  },
  {
   "cell_type": "code",
   "execution_count": 9,
   "id": "d4ad10ec",
   "metadata": {},
   "outputs": [],
   "source": [
    "dfF=pd.read_csv(\"E:\\datasets\\Sleep FitBit\\February sleep data - Sheet1 (1).csv\",skiprows=[1])"
   ]
  },
  {
   "cell_type": "code",
   "execution_count": 36,
   "id": "bdbcba44",
   "metadata": {},
   "outputs": [],
   "source": [
    "dfF=dfF.rename(columns={'FEBEUARY':'MONTH DAYS','SLEEP SQORE':'SLEEP SCORE'})"
   ]
  },
  {
   "cell_type": "code",
   "execution_count": 37,
   "id": "5addb584",
   "metadata": {},
   "outputs": [
    {
     "data": {
      "text/html": [
       "<div>\n",
       "<style scoped>\n",
       "    .dataframe tbody tr th:only-of-type {\n",
       "        vertical-align: middle;\n",
       "    }\n",
       "\n",
       "    .dataframe tbody tr th {\n",
       "        vertical-align: top;\n",
       "    }\n",
       "\n",
       "    .dataframe thead th {\n",
       "        text-align: right;\n",
       "    }\n",
       "</style>\n",
       "<table border=\"1\" class=\"dataframe\">\n",
       "  <thead>\n",
       "    <tr style=\"text-align: right;\">\n",
       "      <th></th>\n",
       "      <th>MONTH DAYS</th>\n",
       "      <th>DATE</th>\n",
       "      <th>SLEEP SCORE</th>\n",
       "      <th>HOURS OF SLEEP</th>\n",
       "      <th>REM SLEEP</th>\n",
       "      <th>DEEP SLEEP</th>\n",
       "      <th>HEART RATE BELOW RESTING</th>\n",
       "      <th>SLEEP TIME</th>\n",
       "    </tr>\n",
       "  </thead>\n",
       "  <tbody>\n",
       "    <tr>\n",
       "      <th>0</th>\n",
       "      <td>Wednesday</td>\n",
       "      <td>02/02/2022</td>\n",
       "      <td>90</td>\n",
       "      <td>7:27:00</td>\n",
       "      <td>20.00%</td>\n",
       "      <td>18.00%</td>\n",
       "      <td>88.00%</td>\n",
       "      <td>10:21pm - 6:50am</td>\n",
       "    </tr>\n",
       "    <tr>\n",
       "      <th>1</th>\n",
       "      <td>Thursday</td>\n",
       "      <td>02/03/2022</td>\n",
       "      <td>66</td>\n",
       "      <td>5:39:00</td>\n",
       "      <td>16.00%</td>\n",
       "      <td>0.00%</td>\n",
       "      <td>13.00%</td>\n",
       "      <td>11:00pm - 5:29am</td>\n",
       "    </tr>\n",
       "    <tr>\n",
       "      <th>2</th>\n",
       "      <td>Friday</td>\n",
       "      <td>02/04/2022</td>\n",
       "      <td>87</td>\n",
       "      <td>9:13:00</td>\n",
       "      <td>18.00%</td>\n",
       "      <td>19.00%</td>\n",
       "      <td>96.00%</td>\n",
       "      <td>11:09pm - 9:56am</td>\n",
       "    </tr>\n",
       "    <tr>\n",
       "      <th>3</th>\n",
       "      <td>Saturday</td>\n",
       "      <td>02/05/2022</td>\n",
       "      <td>85</td>\n",
       "      <td>6:50:00</td>\n",
       "      <td>23.00%</td>\n",
       "      <td>19.00%</td>\n",
       "      <td>93.00%</td>\n",
       "      <td>12:41am - 8:20am</td>\n",
       "    </tr>\n",
       "    <tr>\n",
       "      <th>4</th>\n",
       "      <td>Sunday</td>\n",
       "      <td>02/06/2022</td>\n",
       "      <td>78</td>\n",
       "      <td>6:43:00</td>\n",
       "      <td>17.00%</td>\n",
       "      <td>18.00%</td>\n",
       "      <td>70.00%</td>\n",
       "      <td>12:12am - 8:05am</td>\n",
       "    </tr>\n",
       "    <tr>\n",
       "      <th>5</th>\n",
       "      <td>Monday</td>\n",
       "      <td>02/07/2022</td>\n",
       "      <td>87</td>\n",
       "      <td>8:16:00</td>\n",
       "      <td>19.00%</td>\n",
       "      <td>15.00%</td>\n",
       "      <td>79.00%</td>\n",
       "      <td>10:33pm - 7:47am</td>\n",
       "    </tr>\n",
       "    <tr>\n",
       "      <th>6</th>\n",
       "      <td>Tuesday</td>\n",
       "      <td>02/08/2022</td>\n",
       "      <td>83</td>\n",
       "      <td>6:41:00</td>\n",
       "      <td>23.00%</td>\n",
       "      <td>15.00%</td>\n",
       "      <td>94.00%</td>\n",
       "      <td>12:12am - 7:52am</td>\n",
       "    </tr>\n",
       "    <tr>\n",
       "      <th>7</th>\n",
       "      <td>Wednesday</td>\n",
       "      <td>02/09/2022</td>\n",
       "      <td>81</td>\n",
       "      <td>7:18:00</td>\n",
       "      <td>21.00%</td>\n",
       "      <td>13.00%</td>\n",
       "      <td>89.00%</td>\n",
       "      <td>11:13pm - 7:45am</td>\n",
       "    </tr>\n",
       "    <tr>\n",
       "      <th>8</th>\n",
       "      <td>Thursday</td>\n",
       "      <td>02/10/2022</td>\n",
       "      <td>83</td>\n",
       "      <td>6:35:00</td>\n",
       "      <td>20.00%</td>\n",
       "      <td>21.00%</td>\n",
       "      <td>85.00%</td>\n",
       "      <td>10:24pm - 5:58am</td>\n",
       "    </tr>\n",
       "    <tr>\n",
       "      <th>9</th>\n",
       "      <td>Friday</td>\n",
       "      <td>02/11/2022</td>\n",
       "      <td>86</td>\n",
       "      <td>8:51:00</td>\n",
       "      <td>23.00%</td>\n",
       "      <td>21.00%</td>\n",
       "      <td>42.00%</td>\n",
       "      <td>9:49pm - 7:44am</td>\n",
       "    </tr>\n",
       "    <tr>\n",
       "      <th>10</th>\n",
       "      <td>Saturday</td>\n",
       "      <td>02/12/2022</td>\n",
       "      <td>84</td>\n",
       "      <td>8:49:00</td>\n",
       "      <td>24.00%</td>\n",
       "      <td>18.00%</td>\n",
       "      <td>35.00%</td>\n",
       "      <td>10:43pm - 8:53am</td>\n",
       "    </tr>\n",
       "    <tr>\n",
       "      <th>11</th>\n",
       "      <td>Sunday</td>\n",
       "      <td>02/13/2022</td>\n",
       "      <td>89</td>\n",
       "      <td>8:04:00</td>\n",
       "      <td>24.00%</td>\n",
       "      <td>16.00%</td>\n",
       "      <td>97.00%</td>\n",
       "      <td>10:47pm - 8:08am</td>\n",
       "    </tr>\n",
       "    <tr>\n",
       "      <th>12</th>\n",
       "      <td>Monday</td>\n",
       "      <td>02/14/2022</td>\n",
       "      <td>78</td>\n",
       "      <td>6:42:00</td>\n",
       "      <td>17.00%</td>\n",
       "      <td>19.00%</td>\n",
       "      <td>52.00%</td>\n",
       "      <td>12:48am - 8:36am</td>\n",
       "    </tr>\n",
       "    <tr>\n",
       "      <th>13</th>\n",
       "      <td>Tuesday</td>\n",
       "      <td>02/15/2022</td>\n",
       "      <td>81</td>\n",
       "      <td>7:07:00</td>\n",
       "      <td>15.00%</td>\n",
       "      <td>20.00%</td>\n",
       "      <td>98.00%</td>\n",
       "      <td>12:16am - 8:29am</td>\n",
       "    </tr>\n",
       "    <tr>\n",
       "      <th>14</th>\n",
       "      <td>Wednesday</td>\n",
       "      <td>02/16/2022</td>\n",
       "      <td>85</td>\n",
       "      <td>6:49:00</td>\n",
       "      <td>18.00%</td>\n",
       "      <td>15.00%</td>\n",
       "      <td>98.00%</td>\n",
       "      <td>11:17pm - 7:10am</td>\n",
       "    </tr>\n",
       "    <tr>\n",
       "      <th>15</th>\n",
       "      <td>Thursday</td>\n",
       "      <td>02/17/2022</td>\n",
       "      <td>89</td>\n",
       "      <td>8:01:00</td>\n",
       "      <td>22.00%</td>\n",
       "      <td>14.00%</td>\n",
       "      <td>89.00%</td>\n",
       "      <td>10:23pm - 7:33am</td>\n",
       "    </tr>\n",
       "    <tr>\n",
       "      <th>16</th>\n",
       "      <td>Friday</td>\n",
       "      <td>02/18/2022</td>\n",
       "      <td>80</td>\n",
       "      <td>6:54:00</td>\n",
       "      <td>13.00%</td>\n",
       "      <td>15.00%</td>\n",
       "      <td>77.00%</td>\n",
       "      <td>11:06pm - 7:02am</td>\n",
       "    </tr>\n",
       "    <tr>\n",
       "      <th>17</th>\n",
       "      <td>Saturday</td>\n",
       "      <td>02/19/2022</td>\n",
       "      <td>88</td>\n",
       "      <td>8:18:00</td>\n",
       "      <td>23.00%</td>\n",
       "      <td>20.00%</td>\n",
       "      <td>71.00%</td>\n",
       "      <td>10:20pm - 7:47am</td>\n",
       "    </tr>\n",
       "    <tr>\n",
       "      <th>18</th>\n",
       "      <td>Sunday</td>\n",
       "      <td>02/20/2022</td>\n",
       "      <td>85</td>\n",
       "      <td>8:04:00</td>\n",
       "      <td>17.00%</td>\n",
       "      <td>21.00%</td>\n",
       "      <td>76.00%</td>\n",
       "      <td>10:12pm - 7:33am</td>\n",
       "    </tr>\n",
       "    <tr>\n",
       "      <th>19</th>\n",
       "      <td>Monday</td>\n",
       "      <td>02/21/2022</td>\n",
       "      <td>83</td>\n",
       "      <td>8:12:00</td>\n",
       "      <td>22.00%</td>\n",
       "      <td>13.00%</td>\n",
       "      <td>40.00%</td>\n",
       "      <td>11:40pm - 8:53am</td>\n",
       "    </tr>\n",
       "    <tr>\n",
       "      <th>20</th>\n",
       "      <td>Tuesday</td>\n",
       "      <td>02/22/2022</td>\n",
       "      <td>89</td>\n",
       "      <td>7:49:00</td>\n",
       "      <td>20.00%</td>\n",
       "      <td>17.00%</td>\n",
       "      <td>96.00%</td>\n",
       "      <td>10:34pm - 7:23am</td>\n",
       "    </tr>\n",
       "    <tr>\n",
       "      <th>21</th>\n",
       "      <td>Wednesday</td>\n",
       "      <td>02/23/2022</td>\n",
       "      <td>81</td>\n",
       "      <td>7:16:00</td>\n",
       "      <td>19.00%</td>\n",
       "      <td>16.00%</td>\n",
       "      <td>96.00%</td>\n",
       "      <td>10:55pm - 7:31am</td>\n",
       "    </tr>\n",
       "    <tr>\n",
       "      <th>22</th>\n",
       "      <td>Thursday</td>\n",
       "      <td>02/24/2022</td>\n",
       "      <td>84</td>\n",
       "      <td>7:18:00</td>\n",
       "      <td>19.00%</td>\n",
       "      <td>19.00%</td>\n",
       "      <td>96.00%</td>\n",
       "      <td>10:23pm - 6:43am</td>\n",
       "    </tr>\n",
       "    <tr>\n",
       "      <th>23</th>\n",
       "      <td>Friday</td>\n",
       "      <td>02/25/2022</td>\n",
       "      <td>90</td>\n",
       "      <td>7:46:00</td>\n",
       "      <td>20.00%</td>\n",
       "      <td>21.00%</td>\n",
       "      <td>98.00%</td>\n",
       "      <td>10:28pm - 7:15am</td>\n",
       "    </tr>\n",
       "    <tr>\n",
       "      <th>24</th>\n",
       "      <td>Saturday</td>\n",
       "      <td>02/26/2022</td>\n",
       "      <td>82</td>\n",
       "      <td>8:02:00</td>\n",
       "      <td>16.00%</td>\n",
       "      <td>16.00%</td>\n",
       "      <td>57.00%</td>\n",
       "      <td>11:05pm - 8:10am</td>\n",
       "    </tr>\n",
       "    <tr>\n",
       "      <th>25</th>\n",
       "      <td>Sunday</td>\n",
       "      <td>02/27/2022</td>\n",
       "      <td>85</td>\n",
       "      <td>8:54:00</td>\n",
       "      <td>18.00%</td>\n",
       "      <td>17.00%</td>\n",
       "      <td>81.00%</td>\n",
       "      <td>9:59pm - 8:11am</td>\n",
       "    </tr>\n",
       "    <tr>\n",
       "      <th>26</th>\n",
       "      <td>Monday</td>\n",
       "      <td>02/28/2022</td>\n",
       "      <td>82</td>\n",
       "      <td>7:57:00</td>\n",
       "      <td>19.00%</td>\n",
       "      <td>13.00%</td>\n",
       "      <td>54.00%</td>\n",
       "      <td>10:58pm - 8:11am</td>\n",
       "    </tr>\n",
       "  </tbody>\n",
       "</table>\n",
       "</div>"
      ],
      "text/plain": [
       "   MONTH DAYS        DATE  SLEEP SCORE HOURS OF SLEEP REM SLEEP DEEP SLEEP  \\\n",
       "0   Wednesday  02/02/2022           90        7:27:00    20.00%     18.00%   \n",
       "1    Thursday  02/03/2022           66        5:39:00    16.00%      0.00%   \n",
       "2      Friday  02/04/2022           87        9:13:00    18.00%     19.00%   \n",
       "3    Saturday  02/05/2022           85        6:50:00    23.00%     19.00%   \n",
       "4      Sunday  02/06/2022           78        6:43:00    17.00%     18.00%   \n",
       "5      Monday  02/07/2022           87        8:16:00    19.00%     15.00%   \n",
       "6     Tuesday  02/08/2022           83        6:41:00    23.00%     15.00%   \n",
       "7   Wednesday  02/09/2022           81        7:18:00    21.00%     13.00%   \n",
       "8    Thursday  02/10/2022           83        6:35:00    20.00%     21.00%   \n",
       "9      Friday  02/11/2022           86        8:51:00    23.00%     21.00%   \n",
       "10   Saturday  02/12/2022           84        8:49:00    24.00%     18.00%   \n",
       "11     Sunday  02/13/2022           89        8:04:00    24.00%     16.00%   \n",
       "12     Monday  02/14/2022           78        6:42:00    17.00%     19.00%   \n",
       "13    Tuesday  02/15/2022           81        7:07:00    15.00%     20.00%   \n",
       "14  Wednesday  02/16/2022           85        6:49:00    18.00%     15.00%   \n",
       "15   Thursday  02/17/2022           89        8:01:00    22.00%     14.00%   \n",
       "16     Friday  02/18/2022           80        6:54:00    13.00%     15.00%   \n",
       "17   Saturday  02/19/2022           88        8:18:00    23.00%     20.00%   \n",
       "18     Sunday  02/20/2022           85        8:04:00    17.00%     21.00%   \n",
       "19     Monday  02/21/2022           83        8:12:00    22.00%     13.00%   \n",
       "20    Tuesday  02/22/2022           89        7:49:00    20.00%     17.00%   \n",
       "21  Wednesday  02/23/2022           81        7:16:00    19.00%     16.00%   \n",
       "22   Thursday  02/24/2022           84        7:18:00    19.00%     19.00%   \n",
       "23     Friday  02/25/2022           90        7:46:00    20.00%     21.00%   \n",
       "24   Saturday  02/26/2022           82        8:02:00    16.00%     16.00%   \n",
       "25     Sunday  02/27/2022           85        8:54:00    18.00%     17.00%   \n",
       "26     Monday  02/28/2022           82        7:57:00    19.00%     13.00%   \n",
       "\n",
       "   HEART RATE BELOW RESTING        SLEEP TIME  \n",
       "0                    88.00%  10:21pm - 6:50am  \n",
       "1                    13.00%  11:00pm - 5:29am  \n",
       "2                    96.00%  11:09pm - 9:56am  \n",
       "3                    93.00%  12:41am - 8:20am  \n",
       "4                    70.00%  12:12am - 8:05am  \n",
       "5                    79.00%  10:33pm - 7:47am  \n",
       "6                    94.00%  12:12am - 7:52am  \n",
       "7                    89.00%  11:13pm - 7:45am  \n",
       "8                    85.00%  10:24pm - 5:58am  \n",
       "9                    42.00%   9:49pm - 7:44am  \n",
       "10                   35.00%  10:43pm - 8:53am  \n",
       "11                   97.00%  10:47pm - 8:08am  \n",
       "12                   52.00%  12:48am - 8:36am  \n",
       "13                   98.00%  12:16am - 8:29am  \n",
       "14                   98.00%  11:17pm - 7:10am  \n",
       "15                   89.00%  10:23pm - 7:33am  \n",
       "16                   77.00%  11:06pm - 7:02am  \n",
       "17                   71.00%  10:20pm - 7:47am  \n",
       "18                   76.00%  10:12pm - 7:33am  \n",
       "19                   40.00%  11:40pm - 8:53am  \n",
       "20                   96.00%  10:34pm - 7:23am  \n",
       "21                   96.00%  10:55pm - 7:31am  \n",
       "22                   96.00%  10:23pm - 6:43am  \n",
       "23                   98.00%  10:28pm - 7:15am  \n",
       "24                   57.00%  11:05pm - 8:10am  \n",
       "25                   81.00%   9:59pm - 8:11am  \n",
       "26                   54.00%  10:58pm - 8:11am  "
      ]
     },
     "execution_count": 37,
     "metadata": {},
     "output_type": "execute_result"
    }
   ],
   "source": [
    "dfF"
   ]
  },
  {
   "cell_type": "code",
   "execution_count": 38,
   "id": "101c1ded",
   "metadata": {},
   "outputs": [
    {
     "data": {
      "text/plain": [
       "Index(['MONTH DAYS', 'DATE', 'SLEEP SCORE', 'HOURS OF SLEEP', 'REM SLEEP',\n",
       "       'DEEP SLEEP', 'HEART RATE BELOW RESTING', 'SLEEP TIME'],\n",
       "      dtype='object')"
      ]
     },
     "execution_count": 38,
     "metadata": {},
     "output_type": "execute_result"
    }
   ],
   "source": [
    "dfD.columns"
   ]
  },
  {
   "cell_type": "code",
   "execution_count": 39,
   "id": "2aef72bc",
   "metadata": {},
   "outputs": [
    {
     "data": {
      "text/plain": [
       "Index(['MONTH DAYS', 'DATE', 'SLEEP SCORE', 'HOURS OF SLEEP', 'REM SLEEP',\n",
       "       'DEEP SLEEP', 'HEART RATE BELOW RESTING', 'SLEEP TIME'],\n",
       "      dtype='object')"
      ]
     },
     "execution_count": 39,
     "metadata": {},
     "output_type": "execute_result"
    }
   ],
   "source": [
    "dfN.columns"
   ]
  },
  {
   "cell_type": "code",
   "execution_count": 40,
   "id": "ab6bfbea",
   "metadata": {},
   "outputs": [
    {
     "data": {
      "text/plain": [
       "Index(['MONTH DAYS', 'DATE', 'SLEEP SCORE', 'HOURS OF SLEEP', 'REM SLEEP',\n",
       "       'DEEP SLEEP', 'HEART RATE BELOW RESTING', 'SLEEP TIME'],\n",
       "      dtype='object')"
      ]
     },
     "execution_count": 40,
     "metadata": {},
     "output_type": "execute_result"
    }
   ],
   "source": [
    "dfJ.columns\n"
   ]
  },
  {
   "cell_type": "code",
   "execution_count": 41,
   "id": "fee22467",
   "metadata": {},
   "outputs": [
    {
     "data": {
      "text/plain": [
       "Index(['MONTH DAYS', 'DATE', 'SLEEP SCORE', 'HOURS OF SLEEP', 'REM SLEEP',\n",
       "       'DEEP SLEEP', 'HEART RATE BELOW RESTING', 'SLEEP TIME'],\n",
       "      dtype='object')"
      ]
     },
     "execution_count": 41,
     "metadata": {},
     "output_type": "execute_result"
    }
   ],
   "source": [
    "dfF.columns"
   ]
  },
  {
   "cell_type": "markdown",
   "id": "911084a7",
   "metadata": {},
   "source": [
    "##### Now, I am going to cancat the whole data."
   ]
  },
  {
   "cell_type": "code",
   "execution_count": 42,
   "id": "704ba821",
   "metadata": {},
   "outputs": [
    {
     "data": {
      "text/plain": [
       "(119, 8)"
      ]
     },
     "execution_count": 42,
     "metadata": {},
     "output_type": "execute_result"
    }
   ],
   "source": [
    "dfg=pd.concat([dfN,dfD,dfJ,dfF])\n",
    "dfg.shape"
   ]
  },
  {
   "cell_type": "code",
   "execution_count": 43,
   "id": "9afe136a",
   "metadata": {},
   "outputs": [
    {
     "data": {
      "text/html": [
       "<div>\n",
       "<style scoped>\n",
       "    .dataframe tbody tr th:only-of-type {\n",
       "        vertical-align: middle;\n",
       "    }\n",
       "\n",
       "    .dataframe tbody tr th {\n",
       "        vertical-align: top;\n",
       "    }\n",
       "\n",
       "    .dataframe thead th {\n",
       "        text-align: right;\n",
       "    }\n",
       "</style>\n",
       "<table border=\"1\" class=\"dataframe\">\n",
       "  <thead>\n",
       "    <tr style=\"text-align: right;\">\n",
       "      <th></th>\n",
       "      <th>MONTH DAYS</th>\n",
       "      <th>DATE</th>\n",
       "      <th>SLEEP SCORE</th>\n",
       "      <th>HOURS OF SLEEP</th>\n",
       "      <th>REM SLEEP</th>\n",
       "      <th>DEEP SLEEP</th>\n",
       "      <th>HEART RATE BELOW RESTING</th>\n",
       "      <th>SLEEP TIME</th>\n",
       "    </tr>\n",
       "  </thead>\n",
       "  <tbody>\n",
       "    <tr>\n",
       "      <th>0</th>\n",
       "      <td>Monday</td>\n",
       "      <td>11/1/2021</td>\n",
       "      <td>88</td>\n",
       "      <td>8:06:00</td>\n",
       "      <td>20.00%</td>\n",
       "      <td>13.00%</td>\n",
       "      <td>84.00%</td>\n",
       "      <td>10:41pm - 7:54am</td>\n",
       "    </tr>\n",
       "    <tr>\n",
       "      <th>1</th>\n",
       "      <td>Tuesday</td>\n",
       "      <td>11/2/2021</td>\n",
       "      <td>83</td>\n",
       "      <td>7:57:00</td>\n",
       "      <td>12.00%</td>\n",
       "      <td>18.00%</td>\n",
       "      <td>90.00%</td>\n",
       "      <td>10:40pm - 7:55am</td>\n",
       "    </tr>\n",
       "    <tr>\n",
       "      <th>2</th>\n",
       "      <td>Wednesday</td>\n",
       "      <td>11/3/2021</td>\n",
       "      <td>81</td>\n",
       "      <td>7:06:00</td>\n",
       "      <td>13.00%</td>\n",
       "      <td>22.00%</td>\n",
       "      <td>93.00%</td>\n",
       "      <td>11:03pm - 7:16am</td>\n",
       "    </tr>\n",
       "    <tr>\n",
       "      <th>3</th>\n",
       "      <td>Thursday</td>\n",
       "      <td>11/4/2021</td>\n",
       "      <td>86</td>\n",
       "      <td>7:04:00</td>\n",
       "      <td>19.00%</td>\n",
       "      <td>17.00%</td>\n",
       "      <td>97.00%</td>\n",
       "      <td>10:55pm - 6:56am</td>\n",
       "    </tr>\n",
       "    <tr>\n",
       "      <th>4</th>\n",
       "      <td>Friday</td>\n",
       "      <td>11/5/2021</td>\n",
       "      <td>81</td>\n",
       "      <td>9:24:00</td>\n",
       "      <td>17.00%</td>\n",
       "      <td>15.00%</td>\n",
       "      <td>66.00%</td>\n",
       "      <td>10:14pm - 9:01am</td>\n",
       "    </tr>\n",
       "    <tr>\n",
       "      <th>...</th>\n",
       "      <td>...</td>\n",
       "      <td>...</td>\n",
       "      <td>...</td>\n",
       "      <td>...</td>\n",
       "      <td>...</td>\n",
       "      <td>...</td>\n",
       "      <td>...</td>\n",
       "      <td>...</td>\n",
       "    </tr>\n",
       "    <tr>\n",
       "      <th>22</th>\n",
       "      <td>Thursday</td>\n",
       "      <td>02/24/2022</td>\n",
       "      <td>84</td>\n",
       "      <td>7:18:00</td>\n",
       "      <td>19.00%</td>\n",
       "      <td>19.00%</td>\n",
       "      <td>96.00%</td>\n",
       "      <td>10:23pm - 6:43am</td>\n",
       "    </tr>\n",
       "    <tr>\n",
       "      <th>23</th>\n",
       "      <td>Friday</td>\n",
       "      <td>02/25/2022</td>\n",
       "      <td>90</td>\n",
       "      <td>7:46:00</td>\n",
       "      <td>20.00%</td>\n",
       "      <td>21.00%</td>\n",
       "      <td>98.00%</td>\n",
       "      <td>10:28pm - 7:15am</td>\n",
       "    </tr>\n",
       "    <tr>\n",
       "      <th>24</th>\n",
       "      <td>Saturday</td>\n",
       "      <td>02/26/2022</td>\n",
       "      <td>82</td>\n",
       "      <td>8:02:00</td>\n",
       "      <td>16.00%</td>\n",
       "      <td>16.00%</td>\n",
       "      <td>57.00%</td>\n",
       "      <td>11:05pm - 8:10am</td>\n",
       "    </tr>\n",
       "    <tr>\n",
       "      <th>25</th>\n",
       "      <td>Sunday</td>\n",
       "      <td>02/27/2022</td>\n",
       "      <td>85</td>\n",
       "      <td>8:54:00</td>\n",
       "      <td>18.00%</td>\n",
       "      <td>17.00%</td>\n",
       "      <td>81.00%</td>\n",
       "      <td>9:59pm - 8:11am</td>\n",
       "    </tr>\n",
       "    <tr>\n",
       "      <th>26</th>\n",
       "      <td>Monday</td>\n",
       "      <td>02/28/2022</td>\n",
       "      <td>82</td>\n",
       "      <td>7:57:00</td>\n",
       "      <td>19.00%</td>\n",
       "      <td>13.00%</td>\n",
       "      <td>54.00%</td>\n",
       "      <td>10:58pm - 8:11am</td>\n",
       "    </tr>\n",
       "  </tbody>\n",
       "</table>\n",
       "<p>119 rows × 8 columns</p>\n",
       "</div>"
      ],
      "text/plain": [
       "   MONTH DAYS        DATE  SLEEP SCORE HOURS OF SLEEP REM SLEEP DEEP SLEEP  \\\n",
       "0      Monday   11/1/2021           88        8:06:00    20.00%     13.00%   \n",
       "1     Tuesday   11/2/2021           83        7:57:00    12.00%     18.00%   \n",
       "2   Wednesday   11/3/2021           81        7:06:00    13.00%     22.00%   \n",
       "3    Thursday   11/4/2021           86        7:04:00    19.00%     17.00%   \n",
       "4      Friday   11/5/2021           81        9:24:00    17.00%     15.00%   \n",
       "..        ...         ...          ...            ...       ...        ...   \n",
       "22   Thursday  02/24/2022           84        7:18:00    19.00%     19.00%   \n",
       "23     Friday  02/25/2022           90        7:46:00    20.00%     21.00%   \n",
       "24   Saturday  02/26/2022           82        8:02:00    16.00%     16.00%   \n",
       "25     Sunday  02/27/2022           85        8:54:00    18.00%     17.00%   \n",
       "26     Monday  02/28/2022           82        7:57:00    19.00%     13.00%   \n",
       "\n",
       "   HEART RATE BELOW RESTING        SLEEP TIME  \n",
       "0                    84.00%  10:41pm - 7:54am  \n",
       "1                    90.00%  10:40pm - 7:55am  \n",
       "2                    93.00%  11:03pm - 7:16am  \n",
       "3                    97.00%  10:55pm - 6:56am  \n",
       "4                    66.00%  10:14pm - 9:01am  \n",
       "..                      ...               ...  \n",
       "22                   96.00%  10:23pm - 6:43am  \n",
       "23                   98.00%  10:28pm - 7:15am  \n",
       "24                   57.00%  11:05pm - 8:10am  \n",
       "25                   81.00%   9:59pm - 8:11am  \n",
       "26                   54.00%  10:58pm - 8:11am  \n",
       "\n",
       "[119 rows x 8 columns]"
      ]
     },
     "execution_count": 43,
     "metadata": {},
     "output_type": "execute_result"
    }
   ],
   "source": [
    "dfg"
   ]
  },
  {
   "cell_type": "code",
   "execution_count": null,
   "id": "a0d23f1c",
   "metadata": {},
   "outputs": [],
   "source": [
    "# Here,i am removing '%' from REM SLEEP and converting it into float type.\n",
    "dfg['REM SLEEP']=dfg['REM SLEEP'].apply(lambda x:x.replace('%',''))"
   ]
  },
  {
   "cell_type": "code",
   "execution_count": 44,
   "id": "55d4ecfa",
   "metadata": {},
   "outputs": [],
   "source": [
    "\n",
    "dfg['REM SLEEP']=dfg['REM SLEEP'].astype(float)"
   ]
  },
  {
   "cell_type": "code",
   "execution_count": 45,
   "id": "5883bf0b",
   "metadata": {},
   "outputs": [
    {
     "name": "stdout",
     "output_type": "stream",
     "text": [
      "<class 'pandas.core.frame.DataFrame'>\n",
      "Int64Index: 119 entries, 0 to 26\n",
      "Data columns (total 8 columns):\n",
      " #   Column                    Non-Null Count  Dtype  \n",
      "---  ------                    --------------  -----  \n",
      " 0   MONTH DAYS                119 non-null    object \n",
      " 1   DATE                      119 non-null    object \n",
      " 2   SLEEP SCORE               119 non-null    int64  \n",
      " 3   HOURS OF SLEEP            119 non-null    object \n",
      " 4   REM SLEEP                 119 non-null    float64\n",
      " 5   DEEP SLEEP                119 non-null    object \n",
      " 6   HEART RATE BELOW RESTING  119 non-null    object \n",
      " 7   SLEEP TIME                119 non-null    object \n",
      "dtypes: float64(1), int64(1), object(6)\n",
      "memory usage: 8.4+ KB\n"
     ]
    }
   ],
   "source": [
    "dfg.info()"
   ]
  },
  {
   "cell_type": "code",
   "execution_count": 64,
   "id": "30acf67f",
   "metadata": {},
   "outputs": [
    {
     "ename": "AttributeError",
     "evalue": "'float' object has no attribute 'replace'",
     "output_type": "error",
     "traceback": [
      "\u001b[1;31m---------------------------------------------------------------------------\u001b[0m",
      "\u001b[1;31mAttributeError\u001b[0m                            Traceback (most recent call last)",
      "\u001b[1;32m<ipython-input-64-c89c7b05e2b7>\u001b[0m in \u001b[0;36m<module>\u001b[1;34m\u001b[0m\n\u001b[0;32m      1\u001b[0m \u001b[1;31m# Here,i am removing '%' from DEEP SLEEP and converting it into float type.\u001b[0m\u001b[1;33m\u001b[0m\u001b[1;33m\u001b[0m\u001b[1;33m\u001b[0m\u001b[0m\n\u001b[1;32m----> 2\u001b[1;33m \u001b[0mdfg\u001b[0m\u001b[1;33m[\u001b[0m\u001b[1;34m'DEEP SLEEP'\u001b[0m\u001b[1;33m]\u001b[0m\u001b[1;33m=\u001b[0m\u001b[0mdfg\u001b[0m\u001b[1;33m[\u001b[0m\u001b[1;34m'DEEP SLEEP'\u001b[0m\u001b[1;33m]\u001b[0m\u001b[1;33m.\u001b[0m\u001b[0mapply\u001b[0m\u001b[1;33m(\u001b[0m\u001b[1;32mlambda\u001b[0m \u001b[0mx\u001b[0m\u001b[1;33m:\u001b[0m\u001b[0mx\u001b[0m\u001b[1;33m.\u001b[0m\u001b[0mreplace\u001b[0m\u001b[1;33m(\u001b[0m\u001b[1;34m'%'\u001b[0m\u001b[1;33m,\u001b[0m\u001b[1;34m''\u001b[0m\u001b[1;33m)\u001b[0m\u001b[1;33m)\u001b[0m\u001b[1;33m\u001b[0m\u001b[1;33m\u001b[0m\u001b[0m\n\u001b[0m",
      "\u001b[1;32m~\\anaconda3\\lib\\site-packages\\pandas\\core\\series.py\u001b[0m in \u001b[0;36mapply\u001b[1;34m(self, func, convert_dtype, args, **kwds)\u001b[0m\n\u001b[0;32m   4136\u001b[0m             \u001b[1;32melse\u001b[0m\u001b[1;33m:\u001b[0m\u001b[1;33m\u001b[0m\u001b[1;33m\u001b[0m\u001b[0m\n\u001b[0;32m   4137\u001b[0m                 \u001b[0mvalues\u001b[0m \u001b[1;33m=\u001b[0m \u001b[0mself\u001b[0m\u001b[1;33m.\u001b[0m\u001b[0mastype\u001b[0m\u001b[1;33m(\u001b[0m\u001b[0mobject\u001b[0m\u001b[1;33m)\u001b[0m\u001b[1;33m.\u001b[0m\u001b[0m_values\u001b[0m\u001b[1;33m\u001b[0m\u001b[1;33m\u001b[0m\u001b[0m\n\u001b[1;32m-> 4138\u001b[1;33m                 \u001b[0mmapped\u001b[0m \u001b[1;33m=\u001b[0m \u001b[0mlib\u001b[0m\u001b[1;33m.\u001b[0m\u001b[0mmap_infer\u001b[0m\u001b[1;33m(\u001b[0m\u001b[0mvalues\u001b[0m\u001b[1;33m,\u001b[0m \u001b[0mf\u001b[0m\u001b[1;33m,\u001b[0m \u001b[0mconvert\u001b[0m\u001b[1;33m=\u001b[0m\u001b[0mconvert_dtype\u001b[0m\u001b[1;33m)\u001b[0m\u001b[1;33m\u001b[0m\u001b[1;33m\u001b[0m\u001b[0m\n\u001b[0m\u001b[0;32m   4139\u001b[0m \u001b[1;33m\u001b[0m\u001b[0m\n\u001b[0;32m   4140\u001b[0m         \u001b[1;32mif\u001b[0m \u001b[0mlen\u001b[0m\u001b[1;33m(\u001b[0m\u001b[0mmapped\u001b[0m\u001b[1;33m)\u001b[0m \u001b[1;32mand\u001b[0m \u001b[0misinstance\u001b[0m\u001b[1;33m(\u001b[0m\u001b[0mmapped\u001b[0m\u001b[1;33m[\u001b[0m\u001b[1;36m0\u001b[0m\u001b[1;33m]\u001b[0m\u001b[1;33m,\u001b[0m \u001b[0mSeries\u001b[0m\u001b[1;33m)\u001b[0m\u001b[1;33m:\u001b[0m\u001b[1;33m\u001b[0m\u001b[1;33m\u001b[0m\u001b[0m\n",
      "\u001b[1;32mpandas\\_libs\\lib.pyx\u001b[0m in \u001b[0;36mpandas._libs.lib.map_infer\u001b[1;34m()\u001b[0m\n",
      "\u001b[1;32m<ipython-input-64-c89c7b05e2b7>\u001b[0m in \u001b[0;36m<lambda>\u001b[1;34m(x)\u001b[0m\n\u001b[0;32m      1\u001b[0m \u001b[1;31m# Here,i am removing '%' from DEEP SLEEP and converting it into float type.\u001b[0m\u001b[1;33m\u001b[0m\u001b[1;33m\u001b[0m\u001b[1;33m\u001b[0m\u001b[0m\n\u001b[1;32m----> 2\u001b[1;33m \u001b[0mdfg\u001b[0m\u001b[1;33m[\u001b[0m\u001b[1;34m'DEEP SLEEP'\u001b[0m\u001b[1;33m]\u001b[0m\u001b[1;33m=\u001b[0m\u001b[0mdfg\u001b[0m\u001b[1;33m[\u001b[0m\u001b[1;34m'DEEP SLEEP'\u001b[0m\u001b[1;33m]\u001b[0m\u001b[1;33m.\u001b[0m\u001b[0mapply\u001b[0m\u001b[1;33m(\u001b[0m\u001b[1;32mlambda\u001b[0m \u001b[0mx\u001b[0m\u001b[1;33m:\u001b[0m\u001b[0mx\u001b[0m\u001b[1;33m.\u001b[0m\u001b[0mreplace\u001b[0m\u001b[1;33m(\u001b[0m\u001b[1;34m'%'\u001b[0m\u001b[1;33m,\u001b[0m\u001b[1;34m''\u001b[0m\u001b[1;33m)\u001b[0m\u001b[1;33m)\u001b[0m\u001b[1;33m\u001b[0m\u001b[1;33m\u001b[0m\u001b[0m\n\u001b[0m",
      "\u001b[1;31mAttributeError\u001b[0m: 'float' object has no attribute 'replace'"
     ]
    }
   ],
   "source": [
    "# Here,i am removing '%' from DEEP SLEEP and converting it into float type.\n",
    "dfg['DEEP SLEEP']=dfg['DEEP SLEEP'].apply(lambda x:x.replace('%',''))"
   ]
  },
  {
   "cell_type": "code",
   "execution_count": 65,
   "id": "e096653a",
   "metadata": {},
   "outputs": [],
   "source": [
    "\n",
    "dfg['DEEP SLEEP']=dfg['DEEP SLEEP'].astype(float)"
   ]
  },
  {
   "cell_type": "code",
   "execution_count": 66,
   "id": "66e4f20a",
   "metadata": {},
   "outputs": [
    {
     "ename": "AttributeError",
     "evalue": "'float' object has no attribute 'replace'",
     "output_type": "error",
     "traceback": [
      "\u001b[1;31m---------------------------------------------------------------------------\u001b[0m",
      "\u001b[1;31mAttributeError\u001b[0m                            Traceback (most recent call last)",
      "\u001b[1;32m<ipython-input-66-578da8ca9b72>\u001b[0m in \u001b[0;36m<module>\u001b[1;34m\u001b[0m\n\u001b[1;32m----> 1\u001b[1;33m \u001b[0mdfg\u001b[0m\u001b[1;33m[\u001b[0m\u001b[1;34m'HEART RATE BELOW RESTING'\u001b[0m\u001b[1;33m]\u001b[0m\u001b[1;33m=\u001b[0m\u001b[0mdfg\u001b[0m\u001b[1;33m[\u001b[0m\u001b[1;34m'HEART RATE BELOW RESTING'\u001b[0m\u001b[1;33m]\u001b[0m\u001b[1;33m.\u001b[0m\u001b[0mapply\u001b[0m\u001b[1;33m(\u001b[0m\u001b[1;32mlambda\u001b[0m \u001b[0mx\u001b[0m\u001b[1;33m:\u001b[0m\u001b[0mx\u001b[0m\u001b[1;33m.\u001b[0m\u001b[0mreplace\u001b[0m\u001b[1;33m(\u001b[0m\u001b[1;34m'%'\u001b[0m\u001b[1;33m,\u001b[0m\u001b[1;34m''\u001b[0m\u001b[1;33m)\u001b[0m\u001b[1;33m)\u001b[0m\u001b[1;33m\u001b[0m\u001b[1;33m\u001b[0m\u001b[0m\n\u001b[0m",
      "\u001b[1;32m~\\anaconda3\\lib\\site-packages\\pandas\\core\\series.py\u001b[0m in \u001b[0;36mapply\u001b[1;34m(self, func, convert_dtype, args, **kwds)\u001b[0m\n\u001b[0;32m   4136\u001b[0m             \u001b[1;32melse\u001b[0m\u001b[1;33m:\u001b[0m\u001b[1;33m\u001b[0m\u001b[1;33m\u001b[0m\u001b[0m\n\u001b[0;32m   4137\u001b[0m                 \u001b[0mvalues\u001b[0m \u001b[1;33m=\u001b[0m \u001b[0mself\u001b[0m\u001b[1;33m.\u001b[0m\u001b[0mastype\u001b[0m\u001b[1;33m(\u001b[0m\u001b[0mobject\u001b[0m\u001b[1;33m)\u001b[0m\u001b[1;33m.\u001b[0m\u001b[0m_values\u001b[0m\u001b[1;33m\u001b[0m\u001b[1;33m\u001b[0m\u001b[0m\n\u001b[1;32m-> 4138\u001b[1;33m                 \u001b[0mmapped\u001b[0m \u001b[1;33m=\u001b[0m \u001b[0mlib\u001b[0m\u001b[1;33m.\u001b[0m\u001b[0mmap_infer\u001b[0m\u001b[1;33m(\u001b[0m\u001b[0mvalues\u001b[0m\u001b[1;33m,\u001b[0m \u001b[0mf\u001b[0m\u001b[1;33m,\u001b[0m \u001b[0mconvert\u001b[0m\u001b[1;33m=\u001b[0m\u001b[0mconvert_dtype\u001b[0m\u001b[1;33m)\u001b[0m\u001b[1;33m\u001b[0m\u001b[1;33m\u001b[0m\u001b[0m\n\u001b[0m\u001b[0;32m   4139\u001b[0m \u001b[1;33m\u001b[0m\u001b[0m\n\u001b[0;32m   4140\u001b[0m         \u001b[1;32mif\u001b[0m \u001b[0mlen\u001b[0m\u001b[1;33m(\u001b[0m\u001b[0mmapped\u001b[0m\u001b[1;33m)\u001b[0m \u001b[1;32mand\u001b[0m \u001b[0misinstance\u001b[0m\u001b[1;33m(\u001b[0m\u001b[0mmapped\u001b[0m\u001b[1;33m[\u001b[0m\u001b[1;36m0\u001b[0m\u001b[1;33m]\u001b[0m\u001b[1;33m,\u001b[0m \u001b[0mSeries\u001b[0m\u001b[1;33m)\u001b[0m\u001b[1;33m:\u001b[0m\u001b[1;33m\u001b[0m\u001b[1;33m\u001b[0m\u001b[0m\n",
      "\u001b[1;32mpandas\\_libs\\lib.pyx\u001b[0m in \u001b[0;36mpandas._libs.lib.map_infer\u001b[1;34m()\u001b[0m\n",
      "\u001b[1;32m<ipython-input-66-578da8ca9b72>\u001b[0m in \u001b[0;36m<lambda>\u001b[1;34m(x)\u001b[0m\n\u001b[1;32m----> 1\u001b[1;33m \u001b[0mdfg\u001b[0m\u001b[1;33m[\u001b[0m\u001b[1;34m'HEART RATE BELOW RESTING'\u001b[0m\u001b[1;33m]\u001b[0m\u001b[1;33m=\u001b[0m\u001b[0mdfg\u001b[0m\u001b[1;33m[\u001b[0m\u001b[1;34m'HEART RATE BELOW RESTING'\u001b[0m\u001b[1;33m]\u001b[0m\u001b[1;33m.\u001b[0m\u001b[0mapply\u001b[0m\u001b[1;33m(\u001b[0m\u001b[1;32mlambda\u001b[0m \u001b[0mx\u001b[0m\u001b[1;33m:\u001b[0m\u001b[0mx\u001b[0m\u001b[1;33m.\u001b[0m\u001b[0mreplace\u001b[0m\u001b[1;33m(\u001b[0m\u001b[1;34m'%'\u001b[0m\u001b[1;33m,\u001b[0m\u001b[1;34m''\u001b[0m\u001b[1;33m)\u001b[0m\u001b[1;33m)\u001b[0m\u001b[1;33m\u001b[0m\u001b[1;33m\u001b[0m\u001b[0m\n\u001b[0m",
      "\u001b[1;31mAttributeError\u001b[0m: 'float' object has no attribute 'replace'"
     ]
    }
   ],
   "source": [
    "# Here,i am removing '%' from HEART RATE BELOW RESTING and converting it into float type.\n",
    "dfg['HEART RATE BELOW RESTING']=dfg['HEART RATE BELOW RESTING'].apply(lambda x:x.replace('%',''))"
   ]
  },
  {
   "cell_type": "code",
   "execution_count": 47,
   "id": "b08204d0",
   "metadata": {},
   "outputs": [],
   "source": [
    "\n",
    "dfg['HEART RATE BELOW RESTING']=dfg['HEART RATE BELOW RESTING'].astype(float)"
   ]
  },
  {
   "cell_type": "code",
   "execution_count": 48,
   "id": "46eab2a8",
   "metadata": {},
   "outputs": [
    {
     "data": {
      "text/plain": [
       "<AxesSubplot:>"
      ]
     },
     "execution_count": 48,
     "metadata": {},
     "output_type": "execute_result"
    },
    {
     "data": {
      "image/png": "[encoded data removed]",
      "text/plain": [
       "<Figure size 432x288 with 2 Axes>"
      ]
     },
     "metadata": {},
     "output_type": "display_data"
    }
   ],
   "source": [
    "sns.heatmap(dfg.corr(),annot=True)"
   ]
  },
  {
   "cell_type": "markdown",
   "id": "f819904a",
   "metadata": {},
   "source": [
    "##### Now,i am preparing data for machine learning prediction model for predicting Sleep Score"
   ]
  },
  {
   "cell_type": "code",
   "execution_count": 49,
   "id": "755c1634",
   "metadata": {},
   "outputs": [],
   "source": [
    "dfg=dfg.drop(columns=['MONTH DAYS', 'DATE','HOURS OF SLEEP','SLEEP TIME'])"
   ]
  },
  {
   "cell_type": "code",
   "execution_count": 50,
   "id": "5a758f3c",
   "metadata": {},
   "outputs": [
    {
     "data": {
      "text/html": [
       "<div>\n",
       "<style scoped>\n",
       "    .dataframe tbody tr th:only-of-type {\n",
       "        vertical-align: middle;\n",
       "    }\n",
       "\n",
       "    .dataframe tbody tr th {\n",
       "        vertical-align: top;\n",
       "    }\n",
       "\n",
       "    .dataframe thead th {\n",
       "        text-align: right;\n",
       "    }\n",
       "</style>\n",
       "<table border=\"1\" class=\"dataframe\">\n",
       "  <thead>\n",
       "    <tr style=\"text-align: right;\">\n",
       "      <th></th>\n",
       "      <th>SLEEP SCORE</th>\n",
       "      <th>REM SLEEP</th>\n",
       "      <th>DEEP SLEEP</th>\n",
       "      <th>HEART RATE BELOW RESTING</th>\n",
       "    </tr>\n",
       "  </thead>\n",
       "  <tbody>\n",
       "    <tr>\n",
       "      <th>0</th>\n",
       "      <td>88</td>\n",
       "      <td>20.0</td>\n",
       "      <td>13.0</td>\n",
       "      <td>84.0</td>\n",
       "    </tr>\n",
       "    <tr>\n",
       "      <th>1</th>\n",
       "      <td>83</td>\n",
       "      <td>12.0</td>\n",
       "      <td>18.0</td>\n",
       "      <td>90.0</td>\n",
       "    </tr>\n",
       "    <tr>\n",
       "      <th>2</th>\n",
       "      <td>81</td>\n",
       "      <td>13.0</td>\n",
       "      <td>22.0</td>\n",
       "      <td>93.0</td>\n",
       "    </tr>\n",
       "    <tr>\n",
       "      <th>3</th>\n",
       "      <td>86</td>\n",
       "      <td>19.0</td>\n",
       "      <td>17.0</td>\n",
       "      <td>97.0</td>\n",
       "    </tr>\n",
       "    <tr>\n",
       "      <th>4</th>\n",
       "      <td>81</td>\n",
       "      <td>17.0</td>\n",
       "      <td>15.0</td>\n",
       "      <td>66.0</td>\n",
       "    </tr>\n",
       "    <tr>\n",
       "      <th>...</th>\n",
       "      <td>...</td>\n",
       "      <td>...</td>\n",
       "      <td>...</td>\n",
       "      <td>...</td>\n",
       "    </tr>\n",
       "    <tr>\n",
       "      <th>22</th>\n",
       "      <td>84</td>\n",
       "      <td>19.0</td>\n",
       "      <td>19.0</td>\n",
       "      <td>96.0</td>\n",
       "    </tr>\n",
       "    <tr>\n",
       "      <th>23</th>\n",
       "      <td>90</td>\n",
       "      <td>20.0</td>\n",
       "      <td>21.0</td>\n",
       "      <td>98.0</td>\n",
       "    </tr>\n",
       "    <tr>\n",
       "      <th>24</th>\n",
       "      <td>82</td>\n",
       "      <td>16.0</td>\n",
       "      <td>16.0</td>\n",
       "      <td>57.0</td>\n",
       "    </tr>\n",
       "    <tr>\n",
       "      <th>25</th>\n",
       "      <td>85</td>\n",
       "      <td>18.0</td>\n",
       "      <td>17.0</td>\n",
       "      <td>81.0</td>\n",
       "    </tr>\n",
       "    <tr>\n",
       "      <th>26</th>\n",
       "      <td>82</td>\n",
       "      <td>19.0</td>\n",
       "      <td>13.0</td>\n",
       "      <td>54.0</td>\n",
       "    </tr>\n",
       "  </tbody>\n",
       "</table>\n",
       "<p>119 rows × 4 columns</p>\n",
       "</div>"
      ],
      "text/plain": [
       "    SLEEP SCORE  REM SLEEP  DEEP SLEEP  HEART RATE BELOW RESTING\n",
       "0            88       20.0        13.0                      84.0\n",
       "1            83       12.0        18.0                      90.0\n",
       "2            81       13.0        22.0                      93.0\n",
       "3            86       19.0        17.0                      97.0\n",
       "4            81       17.0        15.0                      66.0\n",
       "..          ...        ...         ...                       ...\n",
       "22           84       19.0        19.0                      96.0\n",
       "23           90       20.0        21.0                      98.0\n",
       "24           82       16.0        16.0                      57.0\n",
       "25           85       18.0        17.0                      81.0\n",
       "26           82       19.0        13.0                      54.0\n",
       "\n",
       "[119 rows x 4 columns]"
      ]
     },
     "execution_count": 50,
     "metadata": {},
     "output_type": "execute_result"
    }
   ],
   "source": [
    "dfg"
   ]
  },
  {
   "cell_type": "markdown",
   "id": "5ab03aaa",
   "metadata": {},
   "source": [
    "##### Here,we are checking the normality of each and every features"
   ]
  },
  {
   "cell_type": "code",
   "execution_count": 51,
   "id": "ac54ae36",
   "metadata": {},
   "outputs": [
    {
     "data": {
      "image/png": "[encoded data removed]",
      "text/plain": [
       "<Figure size 1440x1800 with 4 Axes>"
      ]
     },
     "metadata": {},
     "output_type": "display_data"
    }
   ],
   "source": [
    "plt.figure(figsize=(20,25),facecolor='white')\n",
    "a=1\n",
    "for i in dfg:\n",
    "    if(a<=4):\n",
    "        ax=plt.subplot(4,4,a)\n",
    "        stats.probplot(dfg[i],dist='norm',plot=pylab)        \n",
    "        plt.xlabel(i,fontsize=20)\n",
    "    a=a+1\n",
    "plt.tight_layout()    \n",
    "        "
   ]
  },
  {
   "cell_type": "code",
   "execution_count": 52,
   "id": "8f0dccba",
   "metadata": {},
   "outputs": [],
   "source": [
    "X=dfg[['HEART RATE BELOW RESTING','REM SLEEP']]\n",
    "Y=dfg[['SLEEP SCORE']]"
   ]
  },
  {
   "cell_type": "code",
   "execution_count": 53,
   "id": "82c1239f",
   "metadata": {},
   "outputs": [],
   "source": [
    "scaler=StandardScaler()\n",
    "X_scaled=scaler.fit_transform(X)"
   ]
  },
  {
   "cell_type": "code",
   "execution_count": 54,
   "id": "9d0a05a8",
   "metadata": {},
   "outputs": [],
   "source": [
    "# here i am splitting data into 75-25% for Training and Testing.\n",
    "x_train,x_test,y_train,y_test = train_test_split(X_scaled,Y,test_size = 0.25,random_state=900)"
   ]
  },
  {
   "cell_type": "code",
   "execution_count": 67,
   "id": "97bfa320",
   "metadata": {},
   "outputs": [
    {
     "name": "stdout",
     "output_type": "stream",
     "text": [
      "[84.31910925]\n",
      "[[2.57256751 1.98951505]]\n"
     ]
    }
   ],
   "source": [
    "# Here,i am fitting my trained data in linear Regression.\n",
    "from sklearn.linear_model import LinearRegression\n",
    "lm=LinearRegression()\n",
    "lm.fit(x_train,y_train)\n",
    "# print intercept and coefficients(slope)\n",
    "print(lm.intercept_)\n",
    "print(lm.coef_)"
   ]
  },
  {
   "cell_type": "code",
   "execution_count": 68,
   "id": "3c8496ef",
   "metadata": {},
   "outputs": [
    {
     "name": "stdout",
     "output_type": "stream",
     "text": [
      "R2:  0.7184682987951002\n"
     ]
    }
   ],
   "source": [
    "# printing Performance matrics\n",
    "print('R2: ',lm.score(x_test,y_test))"
   ]
  },
  {
   "cell_type": "code",
   "execution_count": 57,
   "id": "7acf0661",
   "metadata": {},
   "outputs": [],
   "source": [
    "def adj_r2(x,y):\n",
    "    r2=lm.score(x,y)\n",
    "    n = x.shape[0]\n",
    "    p = x.shape[1]\n",
    "    adjusted_r2 = 1-(1-r2)*(n-1)/(n-p-1)\n",
    "    return adjusted_r2"
   ]
  },
  {
   "cell_type": "code",
   "execution_count": 69,
   "id": "c97a4372",
   "metadata": {},
   "outputs": [
    {
     "name": "stdout",
     "output_type": "stream",
     "text": [
      "Adjusted R2:  0.6976140987058483\n"
     ]
    }
   ],
   "source": [
    "# printing Adusted R2\n",
    "print('Adjusted R2: ',adj_r2(x_test,y_test))"
   ]
  },
  {
   "cell_type": "code",
   "execution_count": 70,
   "id": "f98f6a1d",
   "metadata": {},
   "outputs": [
    {
     "data": {
      "text/plain": [
       "HEART RATE BELOW RESTING   -1.366981\n",
       "REM SLEEP                  -0.061854\n",
       "dtype: float64"
      ]
     },
     "execution_count": 70,
     "metadata": {},
     "output_type": "execute_result"
    }
   ],
   "source": [
    "# checking my independent features after making them scaler\n",
    "X.skew()"
   ]
  },
  {
   "cell_type": "code",
   "execution_count": 71,
   "id": "a339f2fd",
   "metadata": {},
   "outputs": [],
   "source": [
    "# predicting values from Test data\n",
    "y_pred=lm.predict(x_test)"
   ]
  },
  {
   "cell_type": "code",
   "execution_count": 72,
   "id": "a0e85d48",
   "metadata": {},
   "outputs": [
    {
     "name": "stdout",
     "output_type": "stream",
     "text": [
      "MSE:  8.409977540993035\n",
      "MAPE:  0.027684762019773497\n",
      "MAE:  2.23425905061965\n"
     ]
    }
   ],
   "source": [
    "print('MSE: ',mean_squared_error(y_test,y_pred))\n",
    "print('MAPE: ',mean_absolute_percentage_error(y_test, y_pred))\n",
    "print('MAE: ',mean_absolute_error(y_test,y_pred))"
   ]
  },
  {
   "cell_type": "markdown",
   "id": "90c809d2",
   "metadata": {},
   "source": [
    "###### In Last,I am checking whether my independent features have collinearality."
   ]
  },
  {
   "cell_type": "code",
   "execution_count": 82,
   "id": "5034989f",
   "metadata": {},
   "outputs": [],
   "source": [
    "\n",
    "variables = X_scaled\n",
    "Vif =pd.DataFrame()\n",
    "Vif['Vif'] = [vif(variables,i) for i in range(variables.shape[1])]\n",
    "Vif['Features'] = X.columns"
   ]
  },
  {
   "cell_type": "code",
   "execution_count": 83,
   "id": "efe7e17b",
   "metadata": {},
   "outputs": [
    {
     "data": {
      "text/html": [
       "<div>\n",
       "<style scoped>\n",
       "    .dataframe tbody tr th:only-of-type {\n",
       "        vertical-align: middle;\n",
       "    }\n",
       "\n",
       "    .dataframe tbody tr th {\n",
       "        vertical-align: top;\n",
       "    }\n",
       "\n",
       "    .dataframe thead th {\n",
       "        text-align: right;\n",
       "    }\n",
       "</style>\n",
       "<table border=\"1\" class=\"dataframe\">\n",
       "  <thead>\n",
       "    <tr style=\"text-align: right;\">\n",
       "      <th></th>\n",
       "      <th>Vif</th>\n",
       "      <th>Features</th>\n",
       "    </tr>\n",
       "  </thead>\n",
       "  <tbody>\n",
       "    <tr>\n",
       "      <th>0</th>\n",
       "      <td>1.015083</td>\n",
       "      <td>HEART RATE BELOW RESTING</td>\n",
       "    </tr>\n",
       "    <tr>\n",
       "      <th>1</th>\n",
       "      <td>1.015083</td>\n",
       "      <td>REM SLEEP</td>\n",
       "    </tr>\n",
       "  </tbody>\n",
       "</table>\n",
       "</div>"
      ],
      "text/plain": [
       "        Vif                  Features\n",
       "0  1.015083  HEART RATE BELOW RESTING\n",
       "1  1.015083                 REM SLEEP"
      ]
     },
     "execution_count": 83,
     "metadata": {},
     "output_type": "execute_result"
    }
   ],
   "source": [
    "Vif"
   ]
  },
  {
   "cell_type": "code",
   "execution_count": null,
   "id": "a95bf031",
   "metadata": {},
   "outputs": [],
   "source": []
  },
  {
   "cell_type": "code",
   "execution_count": null,
   "id": "be61df9a",
   "metadata": {},
   "outputs": [],
   "source": []
  },
  {
   "cell_type": "code",
   "execution_count": null,
   "id": "6d5d7011",
   "metadata": {},
   "outputs": [],
   "source": []
  },
  {
   "cell_type": "code",
   "execution_count": null,
   "id": "bbbb0131",
   "metadata": {},
   "outputs": [],
   "source": [
    "\n"
   ]
  }
 ],
 "metadata": {
  "kernelspec": {
   "display_name": "Python 3",
   "language": "python",
   "name": "python3"
  },
  "language_info": {
   "codemirror_mode": {
    "name": "ipython",
    "version": 3
   },
   "file_extension": ".py",
   "mimetype": "text/x-python",
   "name": "python",
   "nbconvert_exporter": "python",
   "pygments_lexer": "ipython3",
   "version": "3.8.8"
  }
 },
 "nbformat": 4,
 "nbformat_minor": 5
}
